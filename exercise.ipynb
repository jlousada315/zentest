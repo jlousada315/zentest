{
 "cells": [
  {
   "cell_type": "markdown",
   "metadata": {},
   "source": [
    "# Zendesk Support Challenge \n",
    "\n",
    "**Problem**: The VP of Customer Advocacy has asked our team to evaluate how well we have been\n",
    "supporting our customers over the last few quarters, and to provide meaningful business\n",
    "insights.\n",
    "\n",
    "**Why is Customer Service matter to the business ?**: \n",
    "A successful customer service team can help attract new business, boost retention, and increase sales among our existing customer base. But it is also a high stakes game:\n",
    "- 73 % of consumers will leave for a competitor after multiple poor interactions \n",
    "- more than half will bolt after a single bad experience, according to the Zendesk Customer Experience Trends Report 2023. \n",
    "- Make it two negative experiences, and 76 percent of customers are out the door.\n",
    "\n",
    "## Evaluate how well we have been supporting our customers\n",
    "\n",
    "**What makes an excellent customer service ?**\n",
    "\n",
    "Good customer service means consistently meeting customers’ expectations. Great customer service is **quick, easy, personalized, and empathetic**. Companies that deliver excellent customer service take the time needed to understand the needs of their unique customer base.\n",
    "\n",
    "\n",
    "**Important Segments**: Channel, Tier, Plan, Group\n",
    "\n",
    "\n",
    "### CSAT \n",
    "\n",
    "### First Reply Time (FRT)\n",
    "\n",
    "makes sense to segment by channel\n",
    "\n",
    "### Ticket Resolution Time \n",
    "\n",
    "\n",
    "\n",
    "### Ticket Response Rate \n",
    "\n",
    "\n",
    "\n",
    "\n",
    "## Lines of Research \n",
    "\n",
    "1. Are we optimizing ticket assigning by priority ? by predicting ticket resolution time \n",
    "2. Are we maximizing performance on each channel ?\n",
    "3. Are we performing well on all customer segments ?\n",
    "4. How can we increase the ticket response rate ? \n",
    "\n",
    "\n",
    "## Model \n",
    "\n",
    "\n",
    "## Results \n",
    "\n",
    "\n",
    "## Limitations\n",
    "\n",
    "\n",
    "Missing features that would be useful:\n",
    "1. Ticket content -> correlated to resolution time\n",
    "2. Ticket Product Area -> could indicate areas of the product that need improvement"
   ]
  },
  {
   "cell_type": "code",
   "execution_count": 2,
   "metadata": {},
   "outputs": [],
   "source": [
    "from google.cloud import bigquery\n",
    "from google.oauth2 import service_account\n",
    "\n",
    "import numpy as np # linear algebra\n",
    "import pandas as pd # data processing, CSV file I/O (e.g. pd.read_csv)\n",
    "from random import randint\n",
    "\n",
    "%matplotlib inline\n",
    "import matplotlib as mpl\n",
    "import matplotlib.pyplot as plt\n",
    "plt.style.use('dark_background')\n",
    "import seaborn as sns\n",
    "plt.rcParams.update({'font.size': 16})\n",
    "plt.rcParams['axes.grid'] = False\n",
    "\n",
    "import warnings\n",
    "warnings.filterwarnings('ignore')\n",
    "\n",
    "import re\n",
    "import string\n",
    "\n",
    "from scipy import stats\n",
    "from scipy.stats import norm, skew #for some statistics\n",
    "\n",
    "credentials = service_account.Credentials.from_service_account_file(\n",
    "'/Users/joaolousada/Downloads/solar-vertex-380321-55f7948b7f6a.json') \n",
    "\n",
    "project_id = 'solar-vertex-380321'\n",
    "client = bigquery.Client(credentials= credentials,project=project_id)"
   ]
  },
  {
   "cell_type": "code",
   "execution_count": 3,
   "metadata": {},
   "outputs": [
    {
     "name": "stdout",
     "output_type": "stream",
     "text": [
      "Downloading: 100%|\u001b[32m██████████\u001b[0m|\n"
     ]
    }
   ],
   "source": [
    "import pandas_gbq\n",
    "\n",
    "sql = \"\"\"\n",
    "SELECT *\n",
    "FROM solar-vertex-380321.zendesk.zentest\n",
    "\"\"\"\n",
    "df_raw = pandas_gbq.read_gbq(sql, project_id=project_id)"
   ]
  },
  {
   "cell_type": "code",
   "execution_count": 28,
   "metadata": {},
   "outputs": [
    {
     "data": {
      "text/html": [
       "<div>\n",
       "<style scoped>\n",
       "    .dataframe tbody tr th:only-of-type {\n",
       "        vertical-align: middle;\n",
       "    }\n",
       "\n",
       "    .dataframe tbody tr th {\n",
       "        vertical-align: top;\n",
       "    }\n",
       "\n",
       "    .dataframe thead th {\n",
       "        text-align: right;\n",
       "    }\n",
       "</style>\n",
       "<table border=\"1\" class=\"dataframe\">\n",
       "  <thead>\n",
       "    <tr style=\"text-align: right;\">\n",
       "      <th></th>\n",
       "      <th>EmployeeID</th>\n",
       "      <th>TicketChannel</th>\n",
       "      <th>TicketGroup</th>\n",
       "      <th>TicketID</th>\n",
       "      <th>TicketCreatedDate</th>\n",
       "      <th>ZendeskPlan</th>\n",
       "      <th>DayTicketSolved</th>\n",
       "      <th>AssigneeTier</th>\n",
       "      <th>FirstReplyTime</th>\n",
       "      <th>FullResolutionTime</th>\n",
       "      <th>NumAgentComments</th>\n",
       "      <th>NumPublicComments</th>\n",
       "      <th>TicketEscalated</th>\n",
       "      <th>CustomerSatisfaction</th>\n",
       "      <th>WorkerDateHired</th>\n",
       "      <th>WorkerLocation</th>\n",
       "      <th>Worker_Type</th>\n",
       "      <th>WorkerTenure</th>\n",
       "    </tr>\n",
       "  </thead>\n",
       "  <tbody>\n",
       "    <tr>\n",
       "      <th>0</th>\n",
       "      <td>938</td>\n",
       "      <td>chat</td>\n",
       "      <td>Support (T1)</td>\n",
       "      <td>2536525</td>\n",
       "      <td>2017-04-20</td>\n",
       "      <td>Enterprise Legacy</td>\n",
       "      <td>None</td>\n",
       "      <td>Tier 1</td>\n",
       "      <td>317</td>\n",
       "      <td>&lt;NA&gt;</td>\n",
       "      <td>11</td>\n",
       "      <td>15</td>\n",
       "      <td>0</td>\n",
       "      <td>&lt;NA&gt;</td>\n",
       "      <td>2014-11-10</td>\n",
       "      <td>Dublin</td>\n",
       "      <td>Employee</td>\n",
       "      <td>892</td>\n",
       "    </tr>\n",
       "    <tr>\n",
       "      <th>1</th>\n",
       "      <td>938</td>\n",
       "      <td>chat</td>\n",
       "      <td>Support (T1)</td>\n",
       "      <td>2522091</td>\n",
       "      <td>2017-04-14</td>\n",
       "      <td>Enterprise Legacy</td>\n",
       "      <td>None</td>\n",
       "      <td>Tier 1</td>\n",
       "      <td>10260</td>\n",
       "      <td>&lt;NA&gt;</td>\n",
       "      <td>14</td>\n",
       "      <td>22</td>\n",
       "      <td>0</td>\n",
       "      <td>&lt;NA&gt;</td>\n",
       "      <td>2014-11-10</td>\n",
       "      <td>Dublin</td>\n",
       "      <td>Employee</td>\n",
       "      <td>886</td>\n",
       "    </tr>\n",
       "    <tr>\n",
       "      <th>2</th>\n",
       "      <td>1247</td>\n",
       "      <td>web</td>\n",
       "      <td>Support (T1)</td>\n",
       "      <td>2836287</td>\n",
       "      <td>2017-08-03</td>\n",
       "      <td>Enterprise Legacy</td>\n",
       "      <td>None</td>\n",
       "      <td>Tier 1</td>\n",
       "      <td>&lt;NA&gt;</td>\n",
       "      <td>&lt;NA&gt;</td>\n",
       "      <td>4</td>\n",
       "      <td>&lt;NA&gt;</td>\n",
       "      <td>0</td>\n",
       "      <td>&lt;NA&gt;</td>\n",
       "      <td>2015-04-20</td>\n",
       "      <td>Dublin</td>\n",
       "      <td>Employee</td>\n",
       "      <td>836</td>\n",
       "    </tr>\n",
       "    <tr>\n",
       "      <th>3</th>\n",
       "      <td>919</td>\n",
       "      <td>help_center</td>\n",
       "      <td>Support (T1)</td>\n",
       "      <td>3003180</td>\n",
       "      <td>2017-10-02</td>\n",
       "      <td>Enterprise Legacy</td>\n",
       "      <td>None</td>\n",
       "      <td>Tier 1</td>\n",
       "      <td>&lt;NA&gt;</td>\n",
       "      <td>&lt;NA&gt;</td>\n",
       "      <td>3</td>\n",
       "      <td>1</td>\n",
       "      <td>0</td>\n",
       "      <td>&lt;NA&gt;</td>\n",
       "      <td>2014-10-27</td>\n",
       "      <td>Madison</td>\n",
       "      <td>Employee</td>\n",
       "      <td>1071</td>\n",
       "    </tr>\n",
       "    <tr>\n",
       "      <th>4</th>\n",
       "      <td>919</td>\n",
       "      <td>help_center</td>\n",
       "      <td>Support (T1)</td>\n",
       "      <td>3003011</td>\n",
       "      <td>2017-10-02</td>\n",
       "      <td>Enterprise Legacy</td>\n",
       "      <td>None</td>\n",
       "      <td>Tier 1</td>\n",
       "      <td>&lt;NA&gt;</td>\n",
       "      <td>&lt;NA&gt;</td>\n",
       "      <td>3</td>\n",
       "      <td>1</td>\n",
       "      <td>0</td>\n",
       "      <td>&lt;NA&gt;</td>\n",
       "      <td>2014-10-27</td>\n",
       "      <td>Madison</td>\n",
       "      <td>Employee</td>\n",
       "      <td>1071</td>\n",
       "    </tr>\n",
       "  </tbody>\n",
       "</table>\n",
       "</div>"
      ],
      "text/plain": [
       "   EmployeeID TicketChannel   TicketGroup  TicketID TicketCreatedDate  \\\n",
       "0         938          chat  Support (T1)   2536525        2017-04-20   \n",
       "1         938          chat  Support (T1)   2522091        2017-04-14   \n",
       "2        1247           web  Support (T1)   2836287        2017-08-03   \n",
       "3         919   help_center  Support (T1)   3003180        2017-10-02   \n",
       "4         919   help_center  Support (T1)   3003011        2017-10-02   \n",
       "\n",
       "         ZendeskPlan DayTicketSolved AssigneeTier  FirstReplyTime  \\\n",
       "0  Enterprise Legacy            None       Tier 1             317   \n",
       "1  Enterprise Legacy            None       Tier 1           10260   \n",
       "2  Enterprise Legacy            None       Tier 1            <NA>   \n",
       "3  Enterprise Legacy            None       Tier 1            <NA>   \n",
       "4  Enterprise Legacy            None       Tier 1            <NA>   \n",
       "\n",
       "   FullResolutionTime  NumAgentComments  NumPublicComments  TicketEscalated  \\\n",
       "0                <NA>                11                 15                0   \n",
       "1                <NA>                14                 22                0   \n",
       "2                <NA>                 4               <NA>                0   \n",
       "3                <NA>                 3                  1                0   \n",
       "4                <NA>                 3                  1                0   \n",
       "\n",
       "   CustomerSatisfaction WorkerDateHired WorkerLocation Worker_Type  \\\n",
       "0                  <NA>      2014-11-10         Dublin    Employee   \n",
       "1                  <NA>      2014-11-10         Dublin    Employee   \n",
       "2                  <NA>      2015-04-20         Dublin    Employee   \n",
       "3                  <NA>      2014-10-27        Madison    Employee   \n",
       "4                  <NA>      2014-10-27        Madison    Employee   \n",
       "\n",
       "   WorkerTenure  \n",
       "0           892  \n",
       "1           886  \n",
       "2           836  \n",
       "3          1071  \n",
       "4          1071  "
      ]
     },
     "execution_count": 28,
     "metadata": {},
     "output_type": "execute_result"
    }
   ],
   "source": [
    "df = df_raw.copy()\n",
    "df.head()"
   ]
  },
  {
   "cell_type": "code",
   "execution_count": 29,
   "metadata": {},
   "outputs": [
    {
     "data": {
      "text/html": [
       "<div>\n",
       "<style scoped>\n",
       "    .dataframe tbody tr th:only-of-type {\n",
       "        vertical-align: middle;\n",
       "    }\n",
       "\n",
       "    .dataframe tbody tr th {\n",
       "        vertical-align: top;\n",
       "    }\n",
       "\n",
       "    .dataframe thead th {\n",
       "        text-align: right;\n",
       "    }\n",
       "</style>\n",
       "<table border=\"1\" class=\"dataframe\">\n",
       "  <thead>\n",
       "    <tr style=\"text-align: right;\">\n",
       "      <th></th>\n",
       "      <th>EmployeeID</th>\n",
       "      <th>TicketID</th>\n",
       "      <th>FirstReplyTime</th>\n",
       "      <th>FullResolutionTime</th>\n",
       "      <th>NumAgentComments</th>\n",
       "      <th>NumPublicComments</th>\n",
       "      <th>TicketEscalated</th>\n",
       "      <th>CustomerSatisfaction</th>\n",
       "      <th>WorkerTenure</th>\n",
       "    </tr>\n",
       "  </thead>\n",
       "  <tbody>\n",
       "    <tr>\n",
       "      <th>count</th>\n",
       "      <td>240665.000000</td>\n",
       "      <td>2.406650e+05</td>\n",
       "      <td>157169.000000</td>\n",
       "      <td>239741.000000</td>\n",
       "      <td>195237.000000</td>\n",
       "      <td>192623.000000</td>\n",
       "      <td>240665.000000</td>\n",
       "      <td>45554.000000</td>\n",
       "      <td>240665.000000</td>\n",
       "    </tr>\n",
       "    <tr>\n",
       "      <th>mean</th>\n",
       "      <td>1853.958444</td>\n",
       "      <td>2.612557e+06</td>\n",
       "      <td>813.261088</td>\n",
       "      <td>5949.678053</td>\n",
       "      <td>3.100309</td>\n",
       "      <td>3.834443</td>\n",
       "      <td>0.159300</td>\n",
       "      <td>0.939500</td>\n",
       "      <td>514.366223</td>\n",
       "    </tr>\n",
       "    <tr>\n",
       "      <th>std</th>\n",
       "      <td>651.379958</td>\n",
       "      <td>2.820156e+05</td>\n",
       "      <td>6446.203622</td>\n",
       "      <td>19227.491206</td>\n",
       "      <td>3.499996</td>\n",
       "      <td>4.566357</td>\n",
       "      <td>0.365957</td>\n",
       "      <td>0.238413</td>\n",
       "      <td>353.778344</td>\n",
       "    </tr>\n",
       "    <tr>\n",
       "      <th>min</th>\n",
       "      <td>1.000000</td>\n",
       "      <td>2.116910e+06</td>\n",
       "      <td>0.000000</td>\n",
       "      <td>0.000000</td>\n",
       "      <td>1.000000</td>\n",
       "      <td>1.000000</td>\n",
       "      <td>0.000000</td>\n",
       "      <td>0.000000</td>\n",
       "      <td>-223.000000</td>\n",
       "    </tr>\n",
       "    <tr>\n",
       "      <th>25%</th>\n",
       "      <td>1488.000000</td>\n",
       "      <td>2.340143e+06</td>\n",
       "      <td>14.000000</td>\n",
       "      <td>13.000000</td>\n",
       "      <td>1.000000</td>\n",
       "      <td>2.000000</td>\n",
       "      <td>0.000000</td>\n",
       "      <td>1.000000</td>\n",
       "      <td>262.000000</td>\n",
       "    </tr>\n",
       "    <tr>\n",
       "      <th>50%</th>\n",
       "      <td>1975.000000</td>\n",
       "      <td>2.629618e+06</td>\n",
       "      <td>53.000000</td>\n",
       "      <td>116.000000</td>\n",
       "      <td>2.000000</td>\n",
       "      <td>2.000000</td>\n",
       "      <td>0.000000</td>\n",
       "      <td>1.000000</td>\n",
       "      <td>469.000000</td>\n",
       "    </tr>\n",
       "    <tr>\n",
       "      <th>75%</th>\n",
       "      <td>2362.000000</td>\n",
       "      <td>2.849437e+06</td>\n",
       "      <td>236.000000</td>\n",
       "      <td>8112.000000</td>\n",
       "      <td>4.000000</td>\n",
       "      <td>4.000000</td>\n",
       "      <td>0.000000</td>\n",
       "      <td>1.000000</td>\n",
       "      <td>675.000000</td>\n",
       "    </tr>\n",
       "    <tr>\n",
       "      <th>max</th>\n",
       "      <td>3411.000000</td>\n",
       "      <td>3.224171e+06</td>\n",
       "      <td>498116.000000</td>\n",
       "      <td>548814.000000</td>\n",
       "      <td>370.000000</td>\n",
       "      <td>245.000000</td>\n",
       "      <td>1.000000</td>\n",
       "      <td>1.000000</td>\n",
       "      <td>2334.000000</td>\n",
       "    </tr>\n",
       "  </tbody>\n",
       "</table>\n",
       "</div>"
      ],
      "text/plain": [
       "          EmployeeID      TicketID  FirstReplyTime  FullResolutionTime  \\\n",
       "count  240665.000000  2.406650e+05   157169.000000       239741.000000   \n",
       "mean     1853.958444  2.612557e+06      813.261088         5949.678053   \n",
       "std       651.379958  2.820156e+05     6446.203622        19227.491206   \n",
       "min         1.000000  2.116910e+06        0.000000            0.000000   \n",
       "25%      1488.000000  2.340143e+06       14.000000           13.000000   \n",
       "50%      1975.000000  2.629618e+06       53.000000          116.000000   \n",
       "75%      2362.000000  2.849437e+06      236.000000         8112.000000   \n",
       "max      3411.000000  3.224171e+06   498116.000000       548814.000000   \n",
       "\n",
       "       NumAgentComments  NumPublicComments  TicketEscalated  \\\n",
       "count     195237.000000      192623.000000    240665.000000   \n",
       "mean           3.100309           3.834443         0.159300   \n",
       "std            3.499996           4.566357         0.365957   \n",
       "min            1.000000           1.000000         0.000000   \n",
       "25%            1.000000           2.000000         0.000000   \n",
       "50%            2.000000           2.000000         0.000000   \n",
       "75%            4.000000           4.000000         0.000000   \n",
       "max          370.000000         245.000000         1.000000   \n",
       "\n",
       "       CustomerSatisfaction   WorkerTenure  \n",
       "count          45554.000000  240665.000000  \n",
       "mean               0.939500     514.366223  \n",
       "std                0.238413     353.778344  \n",
       "min                0.000000    -223.000000  \n",
       "25%                1.000000     262.000000  \n",
       "50%                1.000000     469.000000  \n",
       "75%                1.000000     675.000000  \n",
       "max                1.000000    2334.000000  "
      ]
     },
     "execution_count": 29,
     "metadata": {},
     "output_type": "execute_result"
    }
   ],
   "source": [
    "df.describe()"
   ]
  },
  {
   "cell_type": "markdown",
   "metadata": {},
   "source": [
    "Duplicates\n"
   ]
  },
  {
   "cell_type": "code",
   "execution_count": 30,
   "metadata": {},
   "outputs": [
    {
     "name": "stdout",
     "output_type": "stream",
     "text": [
      "Number of duplicates - 0\n"
     ]
    }
   ],
   "source": [
    "print(f'Number of duplicates - {df[df.duplicated()].nunique().sum()}')"
   ]
  },
  {
   "cell_type": "markdown",
   "metadata": {},
   "source": [
    "Missing Values"
   ]
  },
  {
   "cell_type": "code",
   "execution_count": 31,
   "metadata": {},
   "outputs": [
    {
     "data": {
      "text/plain": [
       "DayTicketSolved          0.383936\n",
       "FullResolutionTime       0.383936\n",
       "AssigneeTier            13.568654\n",
       "NumAgentComments        18.876031\n",
       "NumPublicComments       19.962188\n",
       "ZendeskPlan             26.150874\n",
       "FirstReplyTime          34.693869\n",
       "CustomerSatisfaction    81.071614\n",
       "dtype: float64"
      ]
     },
     "execution_count": 31,
     "metadata": {},
     "output_type": "execute_result"
    }
   ],
   "source": [
    "missing = df.isnull().sum()\n",
    "missing = 100*missing[missing > 0]/df.shape[0]\n",
    "missing.sort_values(inplace=True)\n",
    "missing\n",
    "#plt.savefig('images/MV.eps', format='eps', transparent = True)"
   ]
  },
  {
   "cell_type": "code",
   "execution_count": 32,
   "metadata": {},
   "outputs": [],
   "source": [
    "for col in ('AssigneeTier', 'ZendeskPlan'):\n",
    "    df[col] = df[col].fillna('None')\n",
    "\n",
    "for col in ('NumPublicComments', 'NumAgentComments'):\n",
    "    df[col] = df[col].fillna(0)\n",
    "\n",
    "df['FirstReplyTime'] = df['FirstReplyTime'].fillna(0)\n",
    "\n",
    "# Drop open tickets\n",
    "df = df.dropna(subset=['FullResolutionTime', 'DayTicketSolved'])\n",
    "\n",
    "df[\"CustomerSatisfaction\"] = df[\"CustomerSatisfaction\"].replace({0: -1}).fillna(0)"
   ]
  },
  {
   "cell_type": "code",
   "execution_count": 33,
   "metadata": {},
   "outputs": [
    {
     "data": {
      "text/html": [
       "<div>\n",
       "<style scoped>\n",
       "    .dataframe tbody tr th:only-of-type {\n",
       "        vertical-align: middle;\n",
       "    }\n",
       "\n",
       "    .dataframe tbody tr th {\n",
       "        vertical-align: top;\n",
       "    }\n",
       "\n",
       "    .dataframe thead th {\n",
       "        text-align: right;\n",
       "    }\n",
       "</style>\n",
       "<table border=\"1\" class=\"dataframe\">\n",
       "  <thead>\n",
       "    <tr style=\"text-align: right;\">\n",
       "      <th></th>\n",
       "      <th>EmployeeID</th>\n",
       "      <th>TicketChannel</th>\n",
       "      <th>TicketGroup</th>\n",
       "      <th>TicketID</th>\n",
       "      <th>TicketCreatedDate</th>\n",
       "      <th>ZendeskPlan</th>\n",
       "      <th>DayTicketSolved</th>\n",
       "      <th>AssigneeTier</th>\n",
       "      <th>FirstReplyTime</th>\n",
       "      <th>FullResolutionTime</th>\n",
       "      <th>NumAgentComments</th>\n",
       "      <th>NumPublicComments</th>\n",
       "      <th>TicketEscalated</th>\n",
       "      <th>CustomerSatisfaction</th>\n",
       "      <th>WorkerDateHired</th>\n",
       "      <th>WorkerLocation</th>\n",
       "      <th>Worker_Type</th>\n",
       "      <th>WorkerTenure</th>\n",
       "    </tr>\n",
       "  </thead>\n",
       "  <tbody>\n",
       "    <tr>\n",
       "      <th>924</th>\n",
       "      <td>688</td>\n",
       "      <td>chat</td>\n",
       "      <td>Zopim T1</td>\n",
       "      <td>2166897</td>\n",
       "      <td>2017-01-18</td>\n",
       "      <td>None</td>\n",
       "      <td>Friday</td>\n",
       "      <td>None</td>\n",
       "      <td>0</td>\n",
       "      <td>13309</td>\n",
       "      <td>1</td>\n",
       "      <td>0</td>\n",
       "      <td>0</td>\n",
       "      <td>-1</td>\n",
       "      <td>2014-06-01</td>\n",
       "      <td>Manila</td>\n",
       "      <td>Employee</td>\n",
       "      <td>962</td>\n",
       "    </tr>\n",
       "    <tr>\n",
       "      <th>925</th>\n",
       "      <td>1463</td>\n",
       "      <td>chat</td>\n",
       "      <td>Zopim T1</td>\n",
       "      <td>2132608</td>\n",
       "      <td>2017-01-06</td>\n",
       "      <td>None</td>\n",
       "      <td>Friday</td>\n",
       "      <td>None</td>\n",
       "      <td>0</td>\n",
       "      <td>4</td>\n",
       "      <td>0</td>\n",
       "      <td>0</td>\n",
       "      <td>0</td>\n",
       "      <td>0</td>\n",
       "      <td>2015-08-03</td>\n",
       "      <td>Manila</td>\n",
       "      <td>Employee</td>\n",
       "      <td>522</td>\n",
       "    </tr>\n",
       "    <tr>\n",
       "      <th>926</th>\n",
       "      <td>1463</td>\n",
       "      <td>chat</td>\n",
       "      <td>Zopim T1</td>\n",
       "      <td>2132014</td>\n",
       "      <td>2017-01-06</td>\n",
       "      <td>None</td>\n",
       "      <td>Friday</td>\n",
       "      <td>None</td>\n",
       "      <td>0</td>\n",
       "      <td>35</td>\n",
       "      <td>0</td>\n",
       "      <td>0</td>\n",
       "      <td>0</td>\n",
       "      <td>0</td>\n",
       "      <td>2015-08-03</td>\n",
       "      <td>Manila</td>\n",
       "      <td>Employee</td>\n",
       "      <td>522</td>\n",
       "    </tr>\n",
       "    <tr>\n",
       "      <th>927</th>\n",
       "      <td>1463</td>\n",
       "      <td>chat</td>\n",
       "      <td>Zopim T1</td>\n",
       "      <td>2878472</td>\n",
       "      <td>2017-08-18</td>\n",
       "      <td>None</td>\n",
       "      <td>Friday</td>\n",
       "      <td>None</td>\n",
       "      <td>0</td>\n",
       "      <td>0</td>\n",
       "      <td>0</td>\n",
       "      <td>0</td>\n",
       "      <td>0</td>\n",
       "      <td>0</td>\n",
       "      <td>2015-08-03</td>\n",
       "      <td>Manila</td>\n",
       "      <td>Employee</td>\n",
       "      <td>746</td>\n",
       "    </tr>\n",
       "    <tr>\n",
       "      <th>928</th>\n",
       "      <td>1463</td>\n",
       "      <td>chat</td>\n",
       "      <td>Zopim T1</td>\n",
       "      <td>2483674</td>\n",
       "      <td>2017-03-31</td>\n",
       "      <td>None</td>\n",
       "      <td>Friday</td>\n",
       "      <td>None</td>\n",
       "      <td>0</td>\n",
       "      <td>2</td>\n",
       "      <td>0</td>\n",
       "      <td>0</td>\n",
       "      <td>0</td>\n",
       "      <td>0</td>\n",
       "      <td>2015-08-03</td>\n",
       "      <td>Manila</td>\n",
       "      <td>Employee</td>\n",
       "      <td>606</td>\n",
       "    </tr>\n",
       "  </tbody>\n",
       "</table>\n",
       "</div>"
      ],
      "text/plain": [
       "     EmployeeID TicketChannel TicketGroup  TicketID TicketCreatedDate  \\\n",
       "924         688          chat    Zopim T1   2166897        2017-01-18   \n",
       "925        1463          chat    Zopim T1   2132608        2017-01-06   \n",
       "926        1463          chat    Zopim T1   2132014        2017-01-06   \n",
       "927        1463          chat    Zopim T1   2878472        2017-08-18   \n",
       "928        1463          chat    Zopim T1   2483674        2017-03-31   \n",
       "\n",
       "    ZendeskPlan DayTicketSolved AssigneeTier  FirstReplyTime  \\\n",
       "924        None          Friday         None               0   \n",
       "925        None          Friday         None               0   \n",
       "926        None          Friday         None               0   \n",
       "927        None          Friday         None               0   \n",
       "928        None          Friday         None               0   \n",
       "\n",
       "     FullResolutionTime  NumAgentComments  NumPublicComments  TicketEscalated  \\\n",
       "924               13309                 1                  0                0   \n",
       "925                   4                 0                  0                0   \n",
       "926                  35                 0                  0                0   \n",
       "927                   0                 0                  0                0   \n",
       "928                   2                 0                  0                0   \n",
       "\n",
       "     CustomerSatisfaction WorkerDateHired WorkerLocation Worker_Type  \\\n",
       "924                    -1      2014-06-01         Manila    Employee   \n",
       "925                     0      2015-08-03         Manila    Employee   \n",
       "926                     0      2015-08-03         Manila    Employee   \n",
       "927                     0      2015-08-03         Manila    Employee   \n",
       "928                     0      2015-08-03         Manila    Employee   \n",
       "\n",
       "     WorkerTenure  \n",
       "924           962  \n",
       "925           522  \n",
       "926           522  \n",
       "927           746  \n",
       "928           606  "
      ]
     },
     "execution_count": 33,
     "metadata": {},
     "output_type": "execute_result"
    }
   ],
   "source": [
    "df.head()"
   ]
  },
  {
   "cell_type": "code",
   "execution_count": null,
   "metadata": {},
   "outputs": [],
   "source": []
  },
  {
   "cell_type": "markdown",
   "metadata": {},
   "source": [
    "## EDA \n"
   ]
  },
  {
   "cell_type": "code",
   "execution_count": 227,
   "metadata": {},
   "outputs": [
    {
     "ename": "ValueError",
     "evalue": "could not convert string to float: '>5Days'",
     "output_type": "error",
     "traceback": [
      "\u001b[0;31m---------------------------------------------------------------------------\u001b[0m",
      "\u001b[0;31mValueError\u001b[0m                                Traceback (most recent call last)",
      "\u001b[1;32m/Users/joaolousada/Documents/GitHub/zentest/exercise.ipynb Cell 14\u001b[0m in \u001b[0;36m<module>\u001b[0;34m\u001b[0m\n\u001b[1;32m      <a href='vscode-notebook-cell:/Users/joaolousada/Documents/GitHub/zentest/exercise.ipynb#X64sZmlsZQ%3D%3D?line=0'>1</a>\u001b[0m target \u001b[39m=\u001b[39m df[\u001b[39m'\u001b[39m\u001b[39mFullResolutionTime\u001b[39m\u001b[39m'\u001b[39m]\u001b[39m.\u001b[39mdropna()\n\u001b[0;32m----> <a href='vscode-notebook-cell:/Users/joaolousada/Documents/GitHub/zentest/exercise.ipynb#X64sZmlsZQ%3D%3D?line=2'>3</a>\u001b[0m sns\u001b[39m.\u001b[39;49mdistplot(target , fit\u001b[39m=\u001b[39;49mnorm);\n\u001b[1;32m      <a href='vscode-notebook-cell:/Users/joaolousada/Documents/GitHub/zentest/exercise.ipynb#X64sZmlsZQ%3D%3D?line=4'>5</a>\u001b[0m \u001b[39m# Get the fitted parameters used by the function\u001b[39;00m\n\u001b[1;32m      <a href='vscode-notebook-cell:/Users/joaolousada/Documents/GitHub/zentest/exercise.ipynb#X64sZmlsZQ%3D%3D?line=5'>6</a>\u001b[0m (mu, sigma) \u001b[39m=\u001b[39m norm\u001b[39m.\u001b[39mfit(target)\n",
      "File \u001b[0;32m/Library/Frameworks/Python.framework/Versions/3.10/lib/python3.10/site-packages/seaborn/distributions.py:2458\u001b[0m, in \u001b[0;36mdistplot\u001b[0;34m(a, bins, hist, kde, rug, fit, hist_kws, kde_kws, rug_kws, fit_kws, color, vertical, norm_hist, axlabel, label, ax, x)\u001b[0m\n\u001b[1;32m   2455\u001b[0m     a \u001b[39m=\u001b[39m x\n\u001b[1;32m   2457\u001b[0m \u001b[39m# Make a a 1-d float array\u001b[39;00m\n\u001b[0;32m-> 2458\u001b[0m a \u001b[39m=\u001b[39m np\u001b[39m.\u001b[39;49masarray(a, \u001b[39mfloat\u001b[39;49m)\n\u001b[1;32m   2459\u001b[0m \u001b[39mif\u001b[39;00m a\u001b[39m.\u001b[39mndim \u001b[39m>\u001b[39m \u001b[39m1\u001b[39m:\n\u001b[1;32m   2460\u001b[0m     a \u001b[39m=\u001b[39m a\u001b[39m.\u001b[39msqueeze()\n",
      "File \u001b[0;32m/Library/Frameworks/Python.framework/Versions/3.10/lib/python3.10/site-packages/pandas/core/series.py:857\u001b[0m, in \u001b[0;36mSeries.__array__\u001b[0;34m(self, dtype)\u001b[0m\n\u001b[1;32m    810\u001b[0m \u001b[39mdef\u001b[39;00m \u001b[39m__array__\u001b[39m(\u001b[39mself\u001b[39m, dtype: NpDtype \u001b[39m|\u001b[39m \u001b[39mNone\u001b[39;00m \u001b[39m=\u001b[39m \u001b[39mNone\u001b[39;00m) \u001b[39m-\u001b[39m\u001b[39m>\u001b[39m np\u001b[39m.\u001b[39mndarray:\n\u001b[1;32m    811\u001b[0m \u001b[39m    \u001b[39m\u001b[39m\"\"\"\u001b[39;00m\n\u001b[1;32m    812\u001b[0m \u001b[39m    Return the values as a NumPy array.\u001b[39;00m\n\u001b[1;32m    813\u001b[0m \n\u001b[0;32m   (...)\u001b[0m\n\u001b[1;32m    855\u001b[0m \u001b[39m          dtype='datetime64[ns]')\u001b[39;00m\n\u001b[1;32m    856\u001b[0m \u001b[39m    \"\"\"\u001b[39;00m\n\u001b[0;32m--> 857\u001b[0m     \u001b[39mreturn\u001b[39;00m np\u001b[39m.\u001b[39;49masarray(\u001b[39mself\u001b[39;49m\u001b[39m.\u001b[39;49m_values, dtype)\n",
      "File \u001b[0;32m/Library/Frameworks/Python.framework/Versions/3.10/lib/python3.10/site-packages/pandas/core/arrays/categorical.py:1453\u001b[0m, in \u001b[0;36mCategorical.__array__\u001b[0;34m(self, dtype)\u001b[0m\n\u001b[1;32m   1451\u001b[0m ret \u001b[39m=\u001b[39m take_nd(\u001b[39mself\u001b[39m\u001b[39m.\u001b[39mcategories\u001b[39m.\u001b[39m_values, \u001b[39mself\u001b[39m\u001b[39m.\u001b[39m_codes)\n\u001b[1;32m   1452\u001b[0m \u001b[39mif\u001b[39;00m dtype \u001b[39mand\u001b[39;00m \u001b[39mnot\u001b[39;00m is_dtype_equal(dtype, \u001b[39mself\u001b[39m\u001b[39m.\u001b[39mcategories\u001b[39m.\u001b[39mdtype):\n\u001b[0;32m-> 1453\u001b[0m     \u001b[39mreturn\u001b[39;00m np\u001b[39m.\u001b[39;49masarray(ret, dtype)\n\u001b[1;32m   1454\u001b[0m \u001b[39m# When we're a Categorical[ExtensionArray], like Interval,\u001b[39;00m\n\u001b[1;32m   1455\u001b[0m \u001b[39m# we need to ensure __array__ gets all the way to an\u001b[39;00m\n\u001b[1;32m   1456\u001b[0m \u001b[39m# ndarray.\u001b[39;00m\n\u001b[1;32m   1457\u001b[0m \u001b[39mreturn\u001b[39;00m np\u001b[39m.\u001b[39masarray(ret)\n",
      "\u001b[0;31mValueError\u001b[0m: could not convert string to float: '>5Days'"
     ]
    },
    {
     "data": {
      "image/png": "[encoded data removed]",
      "text/plain": [
       "<Figure size 432x288 with 1 Axes>"
      ]
     },
     "metadata": {},
     "output_type": "display_data"
    }
   ],
   "source": [
    "target = df['FullResolutionTime'].dropna()\n",
    "\n",
    "sns.distplot(target , fit=norm);\n",
    "\n",
    "# Get the fitted parameters used by the function\n",
    "(mu, sigma) = norm.fit(target)\n",
    "print( '\\n mu = {:.2f} and sigma = {:.2f}\\n'.format(mu, sigma))\n",
    "\n",
    "#Now plot the distribution\n",
    "plt.legend(['Normal dist. ($\\mu=$ {:.2f} and $\\sigma=$ {:.2f} )'.format(mu, sigma)],\n",
    "            loc='best')\n",
    "plt.ylabel('Frequency')\n",
    "plt.title('ResolutionTime distribution')\n",
    "\n"
   ]
  },
  {
   "cell_type": "code",
   "execution_count": 45,
   "metadata": {},
   "outputs": [
    {
     "ename": "AttributeError",
     "evalue": "'float' object has no attribute 'shape'",
     "output_type": "error",
     "traceback": [
      "\u001b[0;31m---------------------------------------------------------------------------\u001b[0m",
      "\u001b[0;31mAttributeError\u001b[0m                            Traceback (most recent call last)",
      "\u001b[1;32m/Users/joaolousada/Documents/GitHub/zentest/exercise.ipynb Cell 16\u001b[0m in \u001b[0;36m<module>\u001b[0;34m\u001b[0m\n\u001b[1;32m      <a href='vscode-notebook-cell:/Users/joaolousada/Documents/GitHub/zentest/exercise.ipynb#Y155sZmlsZQ%3D%3D?line=0'>1</a>\u001b[0m \u001b[39m#Get also the QQ-plot\u001b[39;00m\n\u001b[1;32m      <a href='vscode-notebook-cell:/Users/joaolousada/Documents/GitHub/zentest/exercise.ipynb#Y155sZmlsZQ%3D%3D?line=1'>2</a>\u001b[0m fig \u001b[39m=\u001b[39m plt\u001b[39m.\u001b[39mfigure()\n\u001b[0;32m----> <a href='vscode-notebook-cell:/Users/joaolousada/Documents/GitHub/zentest/exercise.ipynb#Y155sZmlsZQ%3D%3D?line=2'>3</a>\u001b[0m res \u001b[39m=\u001b[39m stats\u001b[39m.\u001b[39;49mprobplot(target, plot\u001b[39m=\u001b[39;49mplt)\n\u001b[1;32m      <a href='vscode-notebook-cell:/Users/joaolousada/Documents/GitHub/zentest/exercise.ipynb#Y155sZmlsZQ%3D%3D?line=3'>4</a>\u001b[0m plt\u001b[39m.\u001b[39mshow()\n",
      "File \u001b[0;32m/Library/Frameworks/Python.framework/Versions/3.10/lib/python3.10/site-packages/scipy/stats/_morestats.py:614\u001b[0m, in \u001b[0;36mprobplot\u001b[0;34m(x, sparams, dist, fit, plot, rvalue)\u001b[0m\n\u001b[1;32m    611\u001b[0m osr \u001b[39m=\u001b[39m sort(x)\n\u001b[1;32m    612\u001b[0m \u001b[39mif\u001b[39;00m fit:\n\u001b[1;32m    613\u001b[0m     \u001b[39m# perform a linear least squares fit.\u001b[39;00m\n\u001b[0;32m--> 614\u001b[0m     slope, intercept, r, prob, _ \u001b[39m=\u001b[39m _stats_py\u001b[39m.\u001b[39;49mlinregress(osm, osr)\n\u001b[1;32m    616\u001b[0m \u001b[39mif\u001b[39;00m plot \u001b[39mis\u001b[39;00m \u001b[39mnot\u001b[39;00m \u001b[39mNone\u001b[39;00m:\n\u001b[1;32m    617\u001b[0m     plot\u001b[39m.\u001b[39mplot(osm, osr, \u001b[39m'\u001b[39m\u001b[39mbo\u001b[39m\u001b[39m'\u001b[39m)\n",
      "File \u001b[0;32m/Library/Frameworks/Python.framework/Versions/3.10/lib/python3.10/site-packages/scipy/stats/_stats_mstats_common.py:166\u001b[0m, in \u001b[0;36mlinregress\u001b[0;34m(x, y, alternative)\u001b[0m\n\u001b[1;32m    161\u001b[0m ymean \u001b[39m=\u001b[39m np\u001b[39m.\u001b[39mmean(y, \u001b[39mNone\u001b[39;00m)\n\u001b[1;32m    163\u001b[0m \u001b[39m# Average sums of square differences from the mean\u001b[39;00m\n\u001b[1;32m    164\u001b[0m \u001b[39m#   ssxm = mean( (x-mean(x))^2 )\u001b[39;00m\n\u001b[1;32m    165\u001b[0m \u001b[39m#   ssxym = mean( (x-mean(x)) * (y-mean(y)) )\u001b[39;00m\n\u001b[0;32m--> 166\u001b[0m ssxm, ssxym, _, ssym \u001b[39m=\u001b[39m np\u001b[39m.\u001b[39;49mcov(x, y, bias\u001b[39m=\u001b[39;49m\u001b[39m1\u001b[39;49m)\u001b[39m.\u001b[39mflat\n\u001b[1;32m    168\u001b[0m \u001b[39m# R-value\u001b[39;00m\n\u001b[1;32m    169\u001b[0m \u001b[39m#   r = ssxym / sqrt( ssxm * ssym )\u001b[39;00m\n\u001b[1;32m    170\u001b[0m \u001b[39mif\u001b[39;00m ssxm \u001b[39m==\u001b[39m \u001b[39m0.0\u001b[39m \u001b[39mor\u001b[39;00m ssym \u001b[39m==\u001b[39m \u001b[39m0.0\u001b[39m:\n\u001b[1;32m    171\u001b[0m     \u001b[39m# If the denominator was going to be 0\u001b[39;00m\n",
      "File \u001b[0;32m<__array_function__ internals>:180\u001b[0m, in \u001b[0;36mcov\u001b[0;34m(*args, **kwargs)\u001b[0m\n",
      "File \u001b[0;32m/Library/Frameworks/Python.framework/Versions/3.10/lib/python3.10/site-packages/numpy/lib/function_base.py:2656\u001b[0m, in \u001b[0;36mcov\u001b[0;34m(m, y, rowvar, bias, ddof, fweights, aweights, dtype)\u001b[0m\n\u001b[1;32m   2653\u001b[0m     \u001b[39melse\u001b[39;00m:\n\u001b[1;32m   2654\u001b[0m         w \u001b[39m*\u001b[39m\u001b[39m=\u001b[39m aweights\n\u001b[0;32m-> 2656\u001b[0m avg, w_sum \u001b[39m=\u001b[39m average(X, axis\u001b[39m=\u001b[39;49m\u001b[39m1\u001b[39;49m, weights\u001b[39m=\u001b[39;49mw, returned\u001b[39m=\u001b[39;49m\u001b[39mTrue\u001b[39;49;00m)\n\u001b[1;32m   2657\u001b[0m w_sum \u001b[39m=\u001b[39m w_sum[\u001b[39m0\u001b[39m]\n\u001b[1;32m   2659\u001b[0m \u001b[39m# Determine the normalization\u001b[39;00m\n",
      "File \u001b[0;32m<__array_function__ internals>:180\u001b[0m, in \u001b[0;36maverage\u001b[0;34m(*args, **kwargs)\u001b[0m\n",
      "File \u001b[0;32m/Library/Frameworks/Python.framework/Versions/3.10/lib/python3.10/site-packages/numpy/lib/function_base.py:530\u001b[0m, in \u001b[0;36maverage\u001b[0;34m(a, axis, weights, returned)\u001b[0m\n\u001b[1;32m    527\u001b[0m     avg \u001b[39m=\u001b[39m np\u001b[39m.\u001b[39mmultiply(a, wgt, dtype\u001b[39m=\u001b[39mresult_dtype)\u001b[39m.\u001b[39msum(axis)\u001b[39m/\u001b[39mscl\n\u001b[1;32m    529\u001b[0m \u001b[39mif\u001b[39;00m returned:\n\u001b[0;32m--> 530\u001b[0m     \u001b[39mif\u001b[39;00m scl\u001b[39m.\u001b[39;49mshape \u001b[39m!=\u001b[39m avg\u001b[39m.\u001b[39mshape:\n\u001b[1;32m    531\u001b[0m         scl \u001b[39m=\u001b[39m np\u001b[39m.\u001b[39mbroadcast_to(scl, avg\u001b[39m.\u001b[39mshape)\u001b[39m.\u001b[39mcopy()\n\u001b[1;32m    532\u001b[0m     \u001b[39mreturn\u001b[39;00m avg, scl\n",
      "\u001b[0;31mAttributeError\u001b[0m: 'float' object has no attribute 'shape'"
     ]
    },
    {
     "data": {
      "text/plain": [
       "<Figure size 432x288 with 0 Axes>"
      ]
     },
     "metadata": {},
     "output_type": "display_data"
    }
   ],
   "source": [
    "#Get also the QQ-plot\n",
    "fig = plt.figure()\n",
    "res = stats.probplot(target, plot=plt)\n",
    "plt.show()"
   ]
  },
  {
   "cell_type": "code",
   "execution_count": 200,
   "metadata": {},
   "outputs": [
    {
     "data": {
      "text/plain": [
       "{'whiskers': [<matplotlib.lines.Line2D at 0x14db2afb0>,\n",
       "  <matplotlib.lines.Line2D at 0x14db2b280>],\n",
       " 'caps': [<matplotlib.lines.Line2D at 0x14db2b550>,\n",
       "  <matplotlib.lines.Line2D at 0x14db2b820>],\n",
       " 'boxes': [<matplotlib.lines.Line2D at 0x14db2ae00>],\n",
       " 'medians': [<matplotlib.lines.Line2D at 0x14db2baf0>],\n",
       " 'fliers': [],\n",
       " 'means': []}"
      ]
     },
     "execution_count": 200,
     "metadata": {},
     "output_type": "execute_result"
    },
    {
     "data": {
      "image/png": "[encoded data removed]",
      "text/plain": [
       "<Figure size 432x288 with 1 Axes>"
      ]
     },
     "metadata": {},
     "output_type": "display_data"
    }
   ],
   "source": [
    "plt.boxplot(target, showfliers=False)"
   ]
  },
  {
   "cell_type": "code",
   "execution_count": 42,
   "metadata": {},
   "outputs": [
    {
     "data": {
      "text/plain": [
       "{'whiskers': [<matplotlib.lines.Line2D at 0x1405c5870>,\n",
       "  <matplotlib.lines.Line2D at 0x1405c5b40>],\n",
       " 'caps': [<matplotlib.lines.Line2D at 0x1405c5e10>,\n",
       "  <matplotlib.lines.Line2D at 0x1405c60e0>],\n",
       " 'boxes': [<matplotlib.lines.Line2D at 0x1405c55a0>],\n",
       " 'medians': [<matplotlib.lines.Line2D at 0x1405c63b0>],\n",
       " 'fliers': [],\n",
       " 'means': []}"
      ]
     },
     "execution_count": 42,
     "metadata": {},
     "output_type": "execute_result"
    },
    {
     "data": {
      "image/png": "[encoded data removed]",
      "text/plain": [
       "<Figure size 432x288 with 1 Axes>"
      ]
     },
     "metadata": {},
     "output_type": "display_data"
    }
   ],
   "source": [
    "plt.boxplot(np.log1p(target), showfliers=False)"
   ]
  },
  {
   "cell_type": "code",
   "execution_count": 228,
   "metadata": {},
   "outputs": [
    {
     "data": {
      "image/png": "[encoded data removed]",
      "text/plain": [
       "<Figure size 1080x576 with 2 Axes>"
      ]
     },
     "metadata": {
      "needs_background": "light"
     },
     "output_type": "display_data"
    }
   ],
   "source": [
    "# Get correlations for the dataset loaded as df\n",
    "import seaborn as sns\n",
    "import matplotlib.pyplot as plt\n",
    "%matplotlib inline\n",
    "\n",
    "test_correlations = df.corr();\n",
    "plt.figure(figsize=(15, 8))\n",
    "mask = np.zeros_like(test_correlations)\n",
    "mask[np.triu_indices_from(mask)] = True\n",
    "with sns.axes_style('white'):\n",
    " ax = sns.heatmap(test_correlations, mask=mask, square=True, xticklabels=True, yticklabels=True, cmap='YlGnBu')"
   ]
  },
  {
   "cell_type": "code",
   "execution_count": 90,
   "metadata": {},
   "outputs": [
    {
     "data": {
      "image/png": "[encoded data removed]",
      "text/plain": [
       "<Figure size 576x720 with 1 Axes>"
      ]
     },
     "metadata": {},
     "output_type": "display_data"
    }
   ],
   "source": [
    "ax1 = df.plot.scatter(x='FullResolutionTime',y='NumAgentComments')"
   ]
  },
  {
   "cell_type": "code",
   "execution_count": null,
   "metadata": {},
   "outputs": [
    {
     "data": {
      "text/plain": [
       "<function matplotlib.pyplot.show(close=None, block=None)>"
      ]
     },
     "execution_count": 221,
     "metadata": {},
     "output_type": "execute_result"
    },
    {
     "data": {
      "image/png": "[encoded data removed]",
      "text/plain": [
       "<Figure size 720x1080 with 1 Axes>"
      ]
     },
     "metadata": {
      "needs_background": "dark"
     },
     "output_type": "display_data"
    }
   ],
   "source": [
    "cat_columns = df.select_dtypes(['category']).columns\n",
    "df_corr = df.copy()\n",
    "df_corr[cat_columns] = df[cat_columns].apply(lambda x: x.cat.codes)\n",
    "\n",
    "corr_matrix = df_corr.corr()\n",
    "f, ax = plt.subplots(figsize=(10,15))\n",
    "corr_matrix['FullResolutionTime'].sort_values(ascending=True).plot.barh()\n",
    "plt.show"
   ]
  },
  {
   "cell_type": "code",
   "execution_count": 647,
   "metadata": {},
   "outputs": [],
   "source": [
    "df['TicketCreatedDate'] = pd.to_datetime(df['TicketCreatedDate'])\n",
    "df['TicketCreatedYear'] = df['TicketCreatedDate'].dt.isocalendar().year\n",
    "df['TicketCreatedWeekNr'] = df['TicketCreatedDate'].dt.isocalendar().week"
   ]
  },
  {
   "cell_type": "code",
   "execution_count": 650,
   "metadata": {},
   "outputs": [
    {
     "name": "stdout",
     "output_type": "stream",
     "text": [
      "       TicketCreatedDate TicketClosedDate\n",
      "924           2017-01-18       2017-01-27\n",
      "925           2017-01-06       2017-01-06\n",
      "926           2017-01-06       2017-01-06\n",
      "927           2017-08-18       2017-08-18\n",
      "928           2017-03-31       2017-03-31\n",
      "...                  ...              ...\n",
      "240660        2017-07-17       2017-07-19\n",
      "240661        2017-05-22       2017-06-14\n",
      "240662        2017-06-27       2017-07-04\n",
      "240663        2017-07-05       2017-07-18\n",
      "240664        2017-04-21       2017-05-09\n",
      "\n",
      "[239741 rows x 2 columns]\n"
     ]
    }
   ],
   "source": [
    "df['TicketClosedDate'] = pd.to_datetime((df['TicketCreatedDate'] + pd.to_timedelta(df['FullResolutionTime'], unit='min')).dt.date)\n",
    "df['SolvedSameDay'] = df['TicketCreatedDate'] == df['TicketClosedDate']\n",
    "print(df[['TicketCreatedDate','TicketClosedDate']])"
   ]
  },
  {
   "cell_type": "code",
   "execution_count": 74,
   "metadata": {},
   "outputs": [
    {
     "data": {
      "text/plain": [
       "<AxesSubplot:xlabel='TicketCreatedYear,TicketCreatedWeekNr'>"
      ]
     },
     "execution_count": 74,
     "metadata": {},
     "output_type": "execute_result"
    },
    {
     "data": {
      "image/png": "[encoded data removed]",
      "text/plain": [
       "<Figure size 432x288 with 1 Axes>"
      ]
     },
     "metadata": {},
     "output_type": "display_data"
    }
   ],
   "source": [
    "# Volume of tickets Overtime\n",
    "\n",
    "df.groupby(['TicketCreatedYear','TicketCreatedWeekNr'])['TicketID'].count().plot.line()"
   ]
  },
  {
   "cell_type": "code",
   "execution_count": null,
   "metadata": {},
   "outputs": [
    {
     "data": {
      "text/plain": [
       "<AxesSubplot:xlabel='TicketCreatedYear,TicketCreatedWeekNr'>"
      ]
     },
     "execution_count": 227,
     "metadata": {},
     "output_type": "execute_result"
    },
    {
     "data": {
      "image/png": "[encoded data removed]",
      "text/plain": [
       "<Figure size 432x288 with 1 Axes>"
      ]
     },
     "metadata": {
      "needs_background": "dark"
     },
     "output_type": "display_data"
    }
   ],
   "source": [
    "# time to solve tickets\n",
    "\n",
    "df.groupby(['TicketCreatedYear','TicketCreatedWeekNr'])['FullResolutionTime'].median().plot.line()"
   ]
  },
  {
   "cell_type": "code",
   "execution_count": null,
   "metadata": {},
   "outputs": [
    {
     "data": {
      "text/plain": [
       "<AxesSubplot:>"
      ]
     },
     "execution_count": 228,
     "metadata": {},
     "output_type": "execute_result"
    },
    {
     "data": {
      "image/png": "[encoded data removed]",
      "text/plain": [
       "<Figure size 432x288 with 1 Axes>"
      ]
     },
     "metadata": {
      "needs_background": "dark"
     },
     "output_type": "display_data"
    }
   ],
   "source": [
    "# daily ticket queue\n",
    "\n",
    "def queue_size(date): \n",
    "    mask = (date >= df['TicketCreatedDate']) & (date < df['TicketResolutionDate'])\n",
    "    return df.loc[mask]['TicketID'].count()\n",
    "\n",
    "ts=pd.Series(pd.date_range(start=df['TicketCreatedDate'].min(), end=df['TicketResolutionDate'].max()))\n",
    "ts.apply (lambda row: queue_size(row)).plot.line()\n"
   ]
  },
  {
   "cell_type": "code",
   "execution_count": null,
   "metadata": {},
   "outputs": [
    {
     "data": {
      "text/html": [
       "<div>\n",
       "<style scoped>\n",
       "    .dataframe tbody tr th:only-of-type {\n",
       "        vertical-align: middle;\n",
       "    }\n",
       "\n",
       "    .dataframe tbody tr th {\n",
       "        vertical-align: top;\n",
       "    }\n",
       "\n",
       "    .dataframe thead th {\n",
       "        text-align: right;\n",
       "    }\n",
       "</style>\n",
       "<table border=\"1\" class=\"dataframe\">\n",
       "  <thead>\n",
       "    <tr style=\"text-align: right;\">\n",
       "      <th></th>\n",
       "      <th>volume</th>\n",
       "      <th>response_rate</th>\n",
       "      <th>csat_score</th>\n",
       "    </tr>\n",
       "    <tr>\n",
       "      <th>ZendeskPlan</th>\n",
       "      <th></th>\n",
       "      <th></th>\n",
       "      <th></th>\n",
       "    </tr>\n",
       "  </thead>\n",
       "  <tbody>\n",
       "    <tr>\n",
       "      <th>None</th>\n",
       "      <td>62776.0</td>\n",
       "      <td>14.16</td>\n",
       "      <td>89.04</td>\n",
       "    </tr>\n",
       "    <tr>\n",
       "      <th>Enterprise Legacy</th>\n",
       "      <td>44452.0</td>\n",
       "      <td>22.78</td>\n",
       "      <td>96.11</td>\n",
       "    </tr>\n",
       "    <tr>\n",
       "      <th>Trial</th>\n",
       "      <td>33322.0</td>\n",
       "      <td>21.70</td>\n",
       "      <td>95.28</td>\n",
       "    </tr>\n",
       "    <tr>\n",
       "      <th>Professional</th>\n",
       "      <td>22866.0</td>\n",
       "      <td>22.37</td>\n",
       "      <td>94.76</td>\n",
       "    </tr>\n",
       "    <tr>\n",
       "      <th>Plus</th>\n",
       "      <td>18383.0</td>\n",
       "      <td>24.13</td>\n",
       "      <td>95.22</td>\n",
       "    </tr>\n",
       "    <tr>\n",
       "      <th>Non-Customer</th>\n",
       "      <td>12839.0</td>\n",
       "      <td>1.85</td>\n",
       "      <td>79.75</td>\n",
       "    </tr>\n",
       "    <tr>\n",
       "      <th>Team</th>\n",
       "      <td>11734.0</td>\n",
       "      <td>20.58</td>\n",
       "      <td>94.24</td>\n",
       "    </tr>\n",
       "    <tr>\n",
       "      <th>Expired</th>\n",
       "      <td>11210.0</td>\n",
       "      <td>21.09</td>\n",
       "      <td>94.63</td>\n",
       "    </tr>\n",
       "    <tr>\n",
       "      <th>Enterprise</th>\n",
       "      <td>7052.0</td>\n",
       "      <td>24.73</td>\n",
       "      <td>95.87</td>\n",
       "    </tr>\n",
       "    <tr>\n",
       "      <th>Regular</th>\n",
       "      <td>6897.0</td>\n",
       "      <td>22.73</td>\n",
       "      <td>94.32</td>\n",
       "    </tr>\n",
       "    <tr>\n",
       "      <th>Essential</th>\n",
       "      <td>3009.0</td>\n",
       "      <td>13.63</td>\n",
       "      <td>91.71</td>\n",
       "    </tr>\n",
       "    <tr>\n",
       "      <th>Starter</th>\n",
       "      <td>2203.0</td>\n",
       "      <td>17.57</td>\n",
       "      <td>92.25</td>\n",
       "    </tr>\n",
       "    <tr>\n",
       "      <th>Enterprise Elite</th>\n",
       "      <td>1853.0</td>\n",
       "      <td>25.69</td>\n",
       "      <td>97.69</td>\n",
       "    </tr>\n",
       "    <tr>\n",
       "      <th>Unknown</th>\n",
       "      <td>859.0</td>\n",
       "      <td>11.76</td>\n",
       "      <td>84.16</td>\n",
       "    </tr>\n",
       "    <tr>\n",
       "      <th>Inbox</th>\n",
       "      <td>286.0</td>\n",
       "      <td>20.98</td>\n",
       "      <td>98.33</td>\n",
       "    </tr>\n",
       "  </tbody>\n",
       "</table>\n",
       "</div>"
      ],
      "text/plain": [
       "                    volume  response_rate  csat_score\n",
       "ZendeskPlan                                          \n",
       "None               62776.0          14.16       89.04\n",
       "Enterprise Legacy  44452.0          22.78       96.11\n",
       "Trial              33322.0          21.70       95.28\n",
       "Professional       22866.0          22.37       94.76\n",
       "Plus               18383.0          24.13       95.22\n",
       "Non-Customer       12839.0           1.85       79.75\n",
       "Team               11734.0          20.58       94.24\n",
       "Expired            11210.0          21.09       94.63\n",
       "Enterprise          7052.0          24.73       95.87\n",
       "Regular             6897.0          22.73       94.32\n",
       "Essential           3009.0          13.63       91.71\n",
       "Starter             2203.0          17.57       92.25\n",
       "Enterprise Elite    1853.0          25.69       97.69\n",
       "Unknown              859.0          11.76       84.16\n",
       "Inbox                286.0          20.98       98.33"
      ]
     },
     "execution_count": 229,
     "metadata": {},
     "output_type": "execute_result"
    }
   ],
   "source": [
    "def f(x):\n",
    "    d = {}\n",
    "    d['volume'] = x['TicketID'].count()\n",
    "    d['response_rate'] = round(100*x[x['CustomerSatisfaction'] != None]['TicketID'].count() / x['TicketID'].count(), 2)\n",
    "    d['csat_score'] = round(100*x['CustomerSatisfaction'].sum()/x[x['CustomerSatisfaction'] != None]['TicketID'].count() , 2)\n",
    "    return pd.Series(d, index=['volume', 'response_rate', 'csat_score'])\n",
    "\n",
    "df.groupby('ZendeskPlan').apply(f).sort_values( by='volume', ascending=False)"
   ]
  },
  {
   "cell_type": "code",
   "execution_count": null,
   "metadata": {},
   "outputs": [
    {
     "data": {
      "text/plain": [
       "<AxesSubplot:>"
      ]
     },
     "execution_count": 230,
     "metadata": {},
     "output_type": "execute_result"
    },
    {
     "data": {
      "image/png": "[encoded data removed]",
      "text/plain": [
       "<Figure size 432x288 with 1 Axes>"
      ]
     },
     "metadata": {
      "needs_background": "dark"
     },
     "output_type": "display_data"
    }
   ],
   "source": [
    "# CSAT Over time \n",
    "\n",
    "def csat(date): \n",
    "    mask = (date >= df['TicketCreatedDate']) & (df['CustomerSatisfaction'] != None)\n",
    "    return 100*df.loc[mask]['CustomerSatisfaction'].sum()/df.loc[mask]['TicketID'].count()\n",
    "\n",
    "ts=pd.Series(pd.date_range(start=df['TicketCreatedDate'].min(), end=df['TicketCreatedDate'].max()))\n",
    "ts.apply (lambda row: csat(row)).plot.line()\n"
   ]
  },
  {
   "cell_type": "code",
   "execution_count": null,
   "metadata": {},
   "outputs": [
    {
     "data": {
      "text/plain": [
       "<AxesSubplot:xlabel='TicketCreatedYear,TicketCreatedWeekNr'>"
      ]
     },
     "execution_count": 231,
     "metadata": {},
     "output_type": "execute_result"
    },
    {
     "data": {
      "image/png": "[encoded data removed]",
      "text/plain": [
       "<Figure size 432x288 with 1 Axes>"
      ]
     },
     "metadata": {
      "needs_background": "dark"
     },
     "output_type": "display_data"
    }
   ],
   "source": [
    "# Weekly Active Employees \n",
    "df.groupby(['TicketCreatedYear','TicketCreatedWeekNr'])['EmployeeID'].nunique().plot.bar()"
   ]
  },
  {
   "cell_type": "code",
   "execution_count": null,
   "metadata": {},
   "outputs": [
    {
     "name": "stdout",
     "output_type": "stream",
     "text": [
      "how many tickets were created ?\n",
      " 239741\n",
      "--- \n",
      "how % of tickets were solved ?\n",
      " 100.0\n",
      "--- \n",
      "how long does it take to solve a ticket ?\n",
      " count    239741.000000\n",
      "mean       5949.678053\n",
      "std       19227.491206\n",
      "min           0.000000\n",
      "25%          13.000000\n",
      "50%         116.000000\n",
      "75%        8112.000000\n",
      "max      548814.000000\n",
      "Name: FullResolutionTime, dtype: float64\n",
      "--- \n",
      "What channels receive more tickets ?\n",
      "   TicketChannel  count\n",
      "1          chat  87874\n",
      "8           web  66105\n",
      "2         email  44627\n",
      "7         voice  32886\n",
      "0           api   4752\n",
      "6       twitter   2039\n",
      "3      facebook    819\n",
      "4   help_center    630\n",
      "5        mobile      9\n"
     ]
    }
   ],
   "source": [
    "# Ticket Info \n",
    "q1 = f'how many tickets were created ?\\n'\n",
    "a1 = df['TicketID'].nunique()\n",
    "print(q1,a1)\n",
    "\n",
    "q2 = f'--- \\nhow % of tickets were solved ?\\n'\n",
    "a2 = df['FullResolutionTime'].count()\n",
    "print(q2,np.round(100*a2/a1, 2))\n",
    "\n",
    "q3 = f'--- \\nhow long does it take to solve a ticket ?\\n'\n",
    "print(q3, df['FullResolutionTime'].describe())\n",
    "\n",
    "q4 = f'--- \\nWhat channels receive more tickets ?\\n'\n",
    "print(q4, df.groupby(['TicketChannel'])['TicketID'] \\\n",
    "    .count() \\\n",
    "    .reset_index(name='count') \\\n",
    "    .sort_values(['count'], ascending=False)\n",
    ")\n",
    "\n"
   ]
  },
  {
   "cell_type": "code",
   "execution_count": null,
   "metadata": {},
   "outputs": [
    {
     "data": {
      "text/html": [
       "<div>\n",
       "<style scoped>\n",
       "    .dataframe tbody tr th:only-of-type {\n",
       "        vertical-align: middle;\n",
       "    }\n",
       "\n",
       "    .dataframe tbody tr th {\n",
       "        vertical-align: top;\n",
       "    }\n",
       "\n",
       "    .dataframe thead tr th {\n",
       "        text-align: left;\n",
       "    }\n",
       "\n",
       "    .dataframe thead tr:last-of-type th {\n",
       "        text-align: right;\n",
       "    }\n",
       "</style>\n",
       "<table border=\"1\" class=\"dataframe\">\n",
       "  <thead>\n",
       "    <tr>\n",
       "      <th></th>\n",
       "      <th>TicketID</th>\n",
       "      <th colspan=\"3\" halign=\"left\">FullResolutionTime</th>\n",
       "      <th colspan=\"2\" halign=\"left\">FirstReplyTime</th>\n",
       "      <th>NumAgentComments</th>\n",
       "      <th>NumPublicComments</th>\n",
       "      <th>TicketEscalated</th>\n",
       "      <th>CustomerSatisfaction</th>\n",
       "    </tr>\n",
       "    <tr>\n",
       "      <th></th>\n",
       "      <th>count</th>\n",
       "      <th>count</th>\n",
       "      <th>median</th>\n",
       "      <th>mean</th>\n",
       "      <th>count</th>\n",
       "      <th>median</th>\n",
       "      <th>median</th>\n",
       "      <th>median</th>\n",
       "      <th>sum</th>\n",
       "      <th>sum</th>\n",
       "    </tr>\n",
       "    <tr>\n",
       "      <th>EmployeeID</th>\n",
       "      <th></th>\n",
       "      <th></th>\n",
       "      <th></th>\n",
       "      <th></th>\n",
       "      <th></th>\n",
       "      <th></th>\n",
       "      <th></th>\n",
       "      <th></th>\n",
       "      <th></th>\n",
       "      <th></th>\n",
       "    </tr>\n",
       "  </thead>\n",
       "  <tbody>\n",
       "    <tr>\n",
       "      <th>2081</th>\n",
       "      <td>14040</td>\n",
       "      <td>14040</td>\n",
       "      <td>5.0</td>\n",
       "      <td>166.566453</td>\n",
       "      <td>14040</td>\n",
       "      <td>-1.0</td>\n",
       "      <td>0.0</td>\n",
       "      <td>0.0</td>\n",
       "      <td>254</td>\n",
       "      <td>1960</td>\n",
       "    </tr>\n",
       "    <tr>\n",
       "      <th>2050</th>\n",
       "      <td>7828</td>\n",
       "      <td>7828</td>\n",
       "      <td>9.0</td>\n",
       "      <td>322.87187</td>\n",
       "      <td>7828</td>\n",
       "      <td>-1.0</td>\n",
       "      <td>0.0</td>\n",
       "      <td>0.0</td>\n",
       "      <td>140</td>\n",
       "      <td>1262</td>\n",
       "    </tr>\n",
       "    <tr>\n",
       "      <th>1463</th>\n",
       "      <td>7676</td>\n",
       "      <td>7676</td>\n",
       "      <td>6.0</td>\n",
       "      <td>250.369724</td>\n",
       "      <td>7676</td>\n",
       "      <td>-1.0</td>\n",
       "      <td>0.0</td>\n",
       "      <td>0.0</td>\n",
       "      <td>100</td>\n",
       "      <td>1073</td>\n",
       "    </tr>\n",
       "    <tr>\n",
       "      <th>2031</th>\n",
       "      <td>3568</td>\n",
       "      <td>3568</td>\n",
       "      <td>1608.0</td>\n",
       "      <td>6750.746357</td>\n",
       "      <td>3568</td>\n",
       "      <td>46.5</td>\n",
       "      <td>2.0</td>\n",
       "      <td>2.0</td>\n",
       "      <td>55</td>\n",
       "      <td>767</td>\n",
       "    </tr>\n",
       "    <tr>\n",
       "      <th>2149</th>\n",
       "      <td>4675</td>\n",
       "      <td>4675</td>\n",
       "      <td>60.0</td>\n",
       "      <td>4807.848342</td>\n",
       "      <td>4675</td>\n",
       "      <td>16.0</td>\n",
       "      <td>2.0</td>\n",
       "      <td>2.0</td>\n",
       "      <td>74</td>\n",
       "      <td>741</td>\n",
       "    </tr>\n",
       "    <tr>\n",
       "      <th>...</th>\n",
       "      <td>...</td>\n",
       "      <td>...</td>\n",
       "      <td>...</td>\n",
       "      <td>...</td>\n",
       "      <td>...</td>\n",
       "      <td>...</td>\n",
       "      <td>...</td>\n",
       "      <td>...</td>\n",
       "      <td>...</td>\n",
       "      <td>...</td>\n",
       "    </tr>\n",
       "    <tr>\n",
       "      <th>1077</th>\n",
       "      <td>2</td>\n",
       "      <td>2</td>\n",
       "      <td>191.0</td>\n",
       "      <td>191.0</td>\n",
       "      <td>2</td>\n",
       "      <td>23.5</td>\n",
       "      <td>1.5</td>\n",
       "      <td>3.0</td>\n",
       "      <td>1</td>\n",
       "      <td>0</td>\n",
       "    </tr>\n",
       "    <tr>\n",
       "      <th>939</th>\n",
       "      <td>6</td>\n",
       "      <td>6</td>\n",
       "      <td>468.5</td>\n",
       "      <td>3249.166667</td>\n",
       "      <td>6</td>\n",
       "      <td>5.5</td>\n",
       "      <td>2.0</td>\n",
       "      <td>3.0</td>\n",
       "      <td>1</td>\n",
       "      <td>0</td>\n",
       "    </tr>\n",
       "    <tr>\n",
       "      <th>411</th>\n",
       "      <td>5</td>\n",
       "      <td>5</td>\n",
       "      <td>12.0</td>\n",
       "      <td>23569.2</td>\n",
       "      <td>5</td>\n",
       "      <td>-1.0</td>\n",
       "      <td>2.0</td>\n",
       "      <td>0.0</td>\n",
       "      <td>0</td>\n",
       "      <td>0</td>\n",
       "    </tr>\n",
       "    <tr>\n",
       "      <th>528</th>\n",
       "      <td>1</td>\n",
       "      <td>1</td>\n",
       "      <td>22723.0</td>\n",
       "      <td>22723.0</td>\n",
       "      <td>1</td>\n",
       "      <td>4257.0</td>\n",
       "      <td>4.0</td>\n",
       "      <td>3.0</td>\n",
       "      <td>1</td>\n",
       "      <td>0</td>\n",
       "    </tr>\n",
       "    <tr>\n",
       "      <th>553</th>\n",
       "      <td>1</td>\n",
       "      <td>1</td>\n",
       "      <td>78.0</td>\n",
       "      <td>78.0</td>\n",
       "      <td>1</td>\n",
       "      <td>78.0</td>\n",
       "      <td>3.0</td>\n",
       "      <td>2.0</td>\n",
       "      <td>0</td>\n",
       "      <td>0</td>\n",
       "    </tr>\n",
       "  </tbody>\n",
       "</table>\n",
       "<p>193 rows × 10 columns</p>\n",
       "</div>"
      ],
      "text/plain": [
       "           TicketID FullResolutionTime                       FirstReplyTime  \\\n",
       "              count              count   median         mean          count   \n",
       "EmployeeID                                                                    \n",
       "2081          14040              14040      5.0   166.566453          14040   \n",
       "2050           7828               7828      9.0    322.87187           7828   \n",
       "1463           7676               7676      6.0   250.369724           7676   \n",
       "2031           3568               3568   1608.0  6750.746357           3568   \n",
       "2149           4675               4675     60.0  4807.848342           4675   \n",
       "...             ...                ...      ...          ...            ...   \n",
       "1077              2                  2    191.0        191.0              2   \n",
       "939               6                  6    468.5  3249.166667              6   \n",
       "411               5                  5     12.0      23569.2              5   \n",
       "528               1                  1  22723.0      22723.0              1   \n",
       "553               1                  1     78.0         78.0              1   \n",
       "\n",
       "                   NumAgentComments NumPublicComments TicketEscalated  \\\n",
       "            median           median            median             sum   \n",
       "EmployeeID                                                              \n",
       "2081          -1.0              0.0               0.0             254   \n",
       "2050          -1.0              0.0               0.0             140   \n",
       "1463          -1.0              0.0               0.0             100   \n",
       "2031          46.5              2.0               2.0              55   \n",
       "2149          16.0              2.0               2.0              74   \n",
       "...            ...              ...               ...             ...   \n",
       "1077          23.5              1.5               3.0               1   \n",
       "939            5.5              2.0               3.0               1   \n",
       "411           -1.0              2.0               0.0               0   \n",
       "528         4257.0              4.0               3.0               1   \n",
       "553           78.0              3.0               2.0               0   \n",
       "\n",
       "           CustomerSatisfaction  \n",
       "                            sum  \n",
       "EmployeeID                       \n",
       "2081                       1960  \n",
       "2050                       1262  \n",
       "1463                       1073  \n",
       "2031                        767  \n",
       "2149                        741  \n",
       "...                         ...  \n",
       "1077                          0  \n",
       "939                           0  \n",
       "411                           0  \n",
       "528                           0  \n",
       "553                           0  \n",
       "\n",
       "[193 rows x 10 columns]"
      ]
     },
     "execution_count": 233,
     "metadata": {},
     "output_type": "execute_result"
    }
   ],
   "source": [
    "# average tickets solved per day per employee\n",
    "\n",
    "df.groupby(['EmployeeID']).agg({'TicketID':['count'], \n",
    "                         'FullResolutionTime':['count','median', 'mean'],\n",
    "                         'FirstReplyTime': ['count', 'median'],\n",
    "                         'NumAgentComments': 'median',\n",
    "                         'NumPublicComments': 'median',\n",
    "                         'TicketEscalated': 'sum',\n",
    "                         'CustomerSatisfaction': 'sum'\n",
    "                         }).sort_values(by=('CustomerSatisfaction','sum'), ascending=False)\n"
   ]
  },
  {
   "cell_type": "code",
   "execution_count": 275,
   "metadata": {},
   "outputs": [
    {
     "ename": "KeyError",
     "evalue": "'FullResolutionTime'",
     "output_type": "error",
     "traceback": [
      "\u001b[0;31m---------------------------------------------------------------------------\u001b[0m",
      "\u001b[0;31mKeyError\u001b[0m                                  Traceback (most recent call last)",
      "File \u001b[0;32m/Library/Frameworks/Python.framework/Versions/3.10/lib/python3.10/site-packages/pandas/core/indexes/base.py:3361\u001b[0m, in \u001b[0;36mIndex.get_loc\u001b[0;34m(self, key, method, tolerance)\u001b[0m\n\u001b[1;32m   3360\u001b[0m \u001b[39mtry\u001b[39;00m:\n\u001b[0;32m-> 3361\u001b[0m     \u001b[39mreturn\u001b[39;00m \u001b[39mself\u001b[39;49m\u001b[39m.\u001b[39;49m_engine\u001b[39m.\u001b[39;49mget_loc(casted_key)\n\u001b[1;32m   3362\u001b[0m \u001b[39mexcept\u001b[39;00m \u001b[39mKeyError\u001b[39;00m \u001b[39mas\u001b[39;00m err:\n",
      "File \u001b[0;32m/Library/Frameworks/Python.framework/Versions/3.10/lib/python3.10/site-packages/pandas/_libs/index.pyx:76\u001b[0m, in \u001b[0;36mpandas._libs.index.IndexEngine.get_loc\u001b[0;34m()\u001b[0m\n",
      "File \u001b[0;32m/Library/Frameworks/Python.framework/Versions/3.10/lib/python3.10/site-packages/pandas/_libs/index.pyx:108\u001b[0m, in \u001b[0;36mpandas._libs.index.IndexEngine.get_loc\u001b[0;34m()\u001b[0m\n",
      "File \u001b[0;32mpandas/_libs/hashtable_class_helper.pxi:5198\u001b[0m, in \u001b[0;36mpandas._libs.hashtable.PyObjectHashTable.get_item\u001b[0;34m()\u001b[0m\n",
      "File \u001b[0;32mpandas/_libs/hashtable_class_helper.pxi:5206\u001b[0m, in \u001b[0;36mpandas._libs.hashtable.PyObjectHashTable.get_item\u001b[0;34m()\u001b[0m\n",
      "\u001b[0;31mKeyError\u001b[0m: 'FullResolutionTime'",
      "\nThe above exception was the direct cause of the following exception:\n",
      "\u001b[0;31mKeyError\u001b[0m                                  Traceback (most recent call last)",
      "\u001b[1;32m/Users/joaolousada/Documents/GitHub/zentest/exercise.ipynb Cell 31\u001b[0m in \u001b[0;36m<module>\u001b[0;34m\u001b[0m\n\u001b[1;32m      <a href='vscode-notebook-cell:/Users/joaolousada/Documents/GitHub/zentest/exercise.ipynb#Y220sZmlsZQ%3D%3D?line=0'>1</a>\u001b[0m corr_matrix \u001b[39m=\u001b[39m df\u001b[39m.\u001b[39mcorr()\n\u001b[0;32m----> <a href='vscode-notebook-cell:/Users/joaolousada/Documents/GitHub/zentest/exercise.ipynb#Y220sZmlsZQ%3D%3D?line=1'>2</a>\u001b[0m corr_matrix[\u001b[39m'\u001b[39;49m\u001b[39mFullResolutionTime\u001b[39;49m\u001b[39m'\u001b[39;49m]\u001b[39m.\u001b[39msort_values(ascending\u001b[39m=\u001b[39m\u001b[39mFalse\u001b[39;00m)\n",
      "File \u001b[0;32m/Library/Frameworks/Python.framework/Versions/3.10/lib/python3.10/site-packages/pandas/core/frame.py:3458\u001b[0m, in \u001b[0;36mDataFrame.__getitem__\u001b[0;34m(self, key)\u001b[0m\n\u001b[1;32m   3456\u001b[0m \u001b[39mif\u001b[39;00m \u001b[39mself\u001b[39m\u001b[39m.\u001b[39mcolumns\u001b[39m.\u001b[39mnlevels \u001b[39m>\u001b[39m \u001b[39m1\u001b[39m:\n\u001b[1;32m   3457\u001b[0m     \u001b[39mreturn\u001b[39;00m \u001b[39mself\u001b[39m\u001b[39m.\u001b[39m_getitem_multilevel(key)\n\u001b[0;32m-> 3458\u001b[0m indexer \u001b[39m=\u001b[39m \u001b[39mself\u001b[39;49m\u001b[39m.\u001b[39;49mcolumns\u001b[39m.\u001b[39;49mget_loc(key)\n\u001b[1;32m   3459\u001b[0m \u001b[39mif\u001b[39;00m is_integer(indexer):\n\u001b[1;32m   3460\u001b[0m     indexer \u001b[39m=\u001b[39m [indexer]\n",
      "File \u001b[0;32m/Library/Frameworks/Python.framework/Versions/3.10/lib/python3.10/site-packages/pandas/core/indexes/base.py:3363\u001b[0m, in \u001b[0;36mIndex.get_loc\u001b[0;34m(self, key, method, tolerance)\u001b[0m\n\u001b[1;32m   3361\u001b[0m         \u001b[39mreturn\u001b[39;00m \u001b[39mself\u001b[39m\u001b[39m.\u001b[39m_engine\u001b[39m.\u001b[39mget_loc(casted_key)\n\u001b[1;32m   3362\u001b[0m     \u001b[39mexcept\u001b[39;00m \u001b[39mKeyError\u001b[39;00m \u001b[39mas\u001b[39;00m err:\n\u001b[0;32m-> 3363\u001b[0m         \u001b[39mraise\u001b[39;00m \u001b[39mKeyError\u001b[39;00m(key) \u001b[39mfrom\u001b[39;00m \u001b[39merr\u001b[39;00m\n\u001b[1;32m   3365\u001b[0m \u001b[39mif\u001b[39;00m is_scalar(key) \u001b[39mand\u001b[39;00m isna(key) \u001b[39mand\u001b[39;00m \u001b[39mnot\u001b[39;00m \u001b[39mself\u001b[39m\u001b[39m.\u001b[39mhasnans:\n\u001b[1;32m   3366\u001b[0m     \u001b[39mraise\u001b[39;00m \u001b[39mKeyError\u001b[39;00m(key)\n",
      "\u001b[0;31mKeyError\u001b[0m: 'FullResolutionTime'"
     ]
    }
   ],
   "source": [
    "corr_matrix = df.corr()\n",
    "corr_matrix['FullResolutionTime'].sort_values(ascending=False)"
   ]
  },
  {
   "cell_type": "markdown",
   "metadata": {},
   "source": [
    "## Preprocessing"
   ]
  },
  {
   "cell_type": "code",
   "execution_count": 7,
   "metadata": {},
   "outputs": [
    {
     "data": {
      "text/html": [
       "<div>\n",
       "<style scoped>\n",
       "    .dataframe tbody tr th:only-of-type {\n",
       "        vertical-align: middle;\n",
       "    }\n",
       "\n",
       "    .dataframe tbody tr th {\n",
       "        vertical-align: top;\n",
       "    }\n",
       "\n",
       "    .dataframe thead th {\n",
       "        text-align: right;\n",
       "    }\n",
       "</style>\n",
       "<table border=\"1\" class=\"dataframe\">\n",
       "  <thead>\n",
       "    <tr style=\"text-align: right;\">\n",
       "      <th></th>\n",
       "      <th>EmployeeID</th>\n",
       "      <th>TicketChannel</th>\n",
       "      <th>TicketGroup</th>\n",
       "      <th>TicketID</th>\n",
       "      <th>TicketCreatedDate</th>\n",
       "      <th>ZendeskPlan</th>\n",
       "      <th>DayTicketSolved</th>\n",
       "      <th>AssigneeTier</th>\n",
       "      <th>FirstReplyTime</th>\n",
       "      <th>FullResolutionTime</th>\n",
       "      <th>NumAgentComments</th>\n",
       "      <th>NumPublicComments</th>\n",
       "      <th>TicketEscalated</th>\n",
       "      <th>CustomerSatisfaction</th>\n",
       "      <th>WorkerDateHired</th>\n",
       "      <th>WorkerLocation</th>\n",
       "      <th>Worker_Type</th>\n",
       "      <th>WorkerTenure</th>\n",
       "    </tr>\n",
       "  </thead>\n",
       "  <tbody>\n",
       "    <tr>\n",
       "      <th>924</th>\n",
       "      <td>688</td>\n",
       "      <td>chat</td>\n",
       "      <td>Zopim T1</td>\n",
       "      <td>2166897</td>\n",
       "      <td>2017-01-18</td>\n",
       "      <td>None</td>\n",
       "      <td>Friday</td>\n",
       "      <td>None</td>\n",
       "      <td>0</td>\n",
       "      <td>13309</td>\n",
       "      <td>1</td>\n",
       "      <td>0</td>\n",
       "      <td>0</td>\n",
       "      <td>-1</td>\n",
       "      <td>2014-06-01</td>\n",
       "      <td>Manila</td>\n",
       "      <td>Employee</td>\n",
       "      <td>962</td>\n",
       "    </tr>\n",
       "    <tr>\n",
       "      <th>925</th>\n",
       "      <td>1463</td>\n",
       "      <td>chat</td>\n",
       "      <td>Zopim T1</td>\n",
       "      <td>2132608</td>\n",
       "      <td>2017-01-06</td>\n",
       "      <td>None</td>\n",
       "      <td>Friday</td>\n",
       "      <td>None</td>\n",
       "      <td>0</td>\n",
       "      <td>4</td>\n",
       "      <td>0</td>\n",
       "      <td>0</td>\n",
       "      <td>0</td>\n",
       "      <td>0</td>\n",
       "      <td>2015-08-03</td>\n",
       "      <td>Manila</td>\n",
       "      <td>Employee</td>\n",
       "      <td>522</td>\n",
       "    </tr>\n",
       "    <tr>\n",
       "      <th>926</th>\n",
       "      <td>1463</td>\n",
       "      <td>chat</td>\n",
       "      <td>Zopim T1</td>\n",
       "      <td>2132014</td>\n",
       "      <td>2017-01-06</td>\n",
       "      <td>None</td>\n",
       "      <td>Friday</td>\n",
       "      <td>None</td>\n",
       "      <td>0</td>\n",
       "      <td>35</td>\n",
       "      <td>0</td>\n",
       "      <td>0</td>\n",
       "      <td>0</td>\n",
       "      <td>0</td>\n",
       "      <td>2015-08-03</td>\n",
       "      <td>Manila</td>\n",
       "      <td>Employee</td>\n",
       "      <td>522</td>\n",
       "    </tr>\n",
       "    <tr>\n",
       "      <th>927</th>\n",
       "      <td>1463</td>\n",
       "      <td>chat</td>\n",
       "      <td>Zopim T1</td>\n",
       "      <td>2878472</td>\n",
       "      <td>2017-08-18</td>\n",
       "      <td>None</td>\n",
       "      <td>Friday</td>\n",
       "      <td>None</td>\n",
       "      <td>0</td>\n",
       "      <td>0</td>\n",
       "      <td>0</td>\n",
       "      <td>0</td>\n",
       "      <td>0</td>\n",
       "      <td>0</td>\n",
       "      <td>2015-08-03</td>\n",
       "      <td>Manila</td>\n",
       "      <td>Employee</td>\n",
       "      <td>746</td>\n",
       "    </tr>\n",
       "    <tr>\n",
       "      <th>928</th>\n",
       "      <td>1463</td>\n",
       "      <td>chat</td>\n",
       "      <td>Zopim T1</td>\n",
       "      <td>2483674</td>\n",
       "      <td>2017-03-31</td>\n",
       "      <td>None</td>\n",
       "      <td>Friday</td>\n",
       "      <td>None</td>\n",
       "      <td>0</td>\n",
       "      <td>2</td>\n",
       "      <td>0</td>\n",
       "      <td>0</td>\n",
       "      <td>0</td>\n",
       "      <td>0</td>\n",
       "      <td>2015-08-03</td>\n",
       "      <td>Manila</td>\n",
       "      <td>Employee</td>\n",
       "      <td>606</td>\n",
       "    </tr>\n",
       "  </tbody>\n",
       "</table>\n",
       "</div>"
      ],
      "text/plain": [
       "     EmployeeID TicketChannel TicketGroup  TicketID TicketCreatedDate  \\\n",
       "924         688          chat    Zopim T1   2166897        2017-01-18   \n",
       "925        1463          chat    Zopim T1   2132608        2017-01-06   \n",
       "926        1463          chat    Zopim T1   2132014        2017-01-06   \n",
       "927        1463          chat    Zopim T1   2878472        2017-08-18   \n",
       "928        1463          chat    Zopim T1   2483674        2017-03-31   \n",
       "\n",
       "    ZendeskPlan DayTicketSolved AssigneeTier  FirstReplyTime  \\\n",
       "924        None          Friday         None               0   \n",
       "925        None          Friday         None               0   \n",
       "926        None          Friday         None               0   \n",
       "927        None          Friday         None               0   \n",
       "928        None          Friday         None               0   \n",
       "\n",
       "     FullResolutionTime  NumAgentComments  NumPublicComments  TicketEscalated  \\\n",
       "924               13309                 1                  0                0   \n",
       "925                   4                 0                  0                0   \n",
       "926                  35                 0                  0                0   \n",
       "927                   0                 0                  0                0   \n",
       "928                   2                 0                  0                0   \n",
       "\n",
       "     CustomerSatisfaction WorkerDateHired WorkerLocation Worker_Type  \\\n",
       "924                    -1      2014-06-01         Manila    Employee   \n",
       "925                     0      2015-08-03         Manila    Employee   \n",
       "926                     0      2015-08-03         Manila    Employee   \n",
       "927                     0      2015-08-03         Manila    Employee   \n",
       "928                     0      2015-08-03         Manila    Employee   \n",
       "\n",
       "     WorkerTenure  \n",
       "924           962  \n",
       "925           522  \n",
       "926           522  \n",
       "927           746  \n",
       "928           606  "
      ]
     },
     "execution_count": 7,
     "metadata": {},
     "output_type": "execute_result"
    }
   ],
   "source": [
    "df.head()"
   ]
  },
  {
   "cell_type": "code",
   "execution_count": 8,
   "metadata": {},
   "outputs": [
    {
     "name": "stdout",
     "output_type": "stream",
     "text": [
      "<class 'pandas.core.frame.DataFrame'>\n",
      "Int64Index: 239741 entries, 924 to 240664\n",
      "Data columns (total 18 columns):\n",
      " #   Column                Non-Null Count   Dtype \n",
      "---  ------                --------------   ----- \n",
      " 0   EmployeeID            239741 non-null  Int64 \n",
      " 1   TicketChannel         239741 non-null  object\n",
      " 2   TicketGroup           239741 non-null  object\n",
      " 3   TicketID              239741 non-null  Int64 \n",
      " 4   TicketCreatedDate     239741 non-null  dbdate\n",
      " 5   ZendeskPlan           239741 non-null  object\n",
      " 6   DayTicketSolved       239741 non-null  object\n",
      " 7   AssigneeTier          239741 non-null  object\n",
      " 8   FirstReplyTime        239741 non-null  Int64 \n",
      " 9   FullResolutionTime    239741 non-null  Int64 \n",
      " 10  NumAgentComments      239741 non-null  Int64 \n",
      " 11  NumPublicComments     239741 non-null  Int64 \n",
      " 12  TicketEscalated       239741 non-null  Int64 \n",
      " 13  CustomerSatisfaction  239741 non-null  Int64 \n",
      " 14  WorkerDateHired       239741 non-null  dbdate\n",
      " 15  WorkerLocation        239741 non-null  object\n",
      " 16  Worker_Type           239741 non-null  object\n",
      " 17  WorkerTenure          239741 non-null  Int64 \n",
      "dtypes: Int64(9), dbdate(2), object(7)\n",
      "memory usage: 36.8+ MB\n"
     ]
    }
   ],
   "source": [
    "df.info()"
   ]
  },
  {
   "cell_type": "code",
   "execution_count": 35,
   "metadata": {},
   "outputs": [],
   "source": [
    "df['TicketClosedDate'] = pd.to_datetime((pd.to_datetime(df['TicketCreatedDate']) + pd.to_timedelta(df['FullResolutionTime'], unit='m')).dt.date)\n",
    "df['TicketCreatedDate'] = pd.to_datetime(df['TicketCreatedDate'])\n"
   ]
  },
  {
   "cell_type": "code",
   "execution_count": 38,
   "metadata": {},
   "outputs": [
    {
     "data": {
      "text/html": [
       "<div>\n",
       "<style scoped>\n",
       "    .dataframe tbody tr th:only-of-type {\n",
       "        vertical-align: middle;\n",
       "    }\n",
       "\n",
       "    .dataframe tbody tr th {\n",
       "        vertical-align: top;\n",
       "    }\n",
       "\n",
       "    .dataframe thead th {\n",
       "        text-align: right;\n",
       "    }\n",
       "</style>\n",
       "<table border=\"1\" class=\"dataframe\">\n",
       "  <thead>\n",
       "    <tr style=\"text-align: right;\">\n",
       "      <th></th>\n",
       "      <th></th>\n",
       "      <th>QueueSize</th>\n",
       "    </tr>\n",
       "    <tr>\n",
       "      <th>EmployeeID</th>\n",
       "      <th>Date</th>\n",
       "      <th></th>\n",
       "    </tr>\n",
       "  </thead>\n",
       "  <tbody>\n",
       "    <tr>\n",
       "      <th rowspan=\"5\" valign=\"top\">688</th>\n",
       "      <th>2017-01-01</th>\n",
       "      <td>0</td>\n",
       "    </tr>\n",
       "    <tr>\n",
       "      <th>2017-01-02</th>\n",
       "      <td>0</td>\n",
       "    </tr>\n",
       "    <tr>\n",
       "      <th>2017-01-03</th>\n",
       "      <td>0</td>\n",
       "    </tr>\n",
       "    <tr>\n",
       "      <th>2017-01-04</th>\n",
       "      <td>0</td>\n",
       "    </tr>\n",
       "    <tr>\n",
       "      <th>2017-01-05</th>\n",
       "      <td>2</td>\n",
       "    </tr>\n",
       "  </tbody>\n",
       "</table>\n",
       "</div>"
      ],
      "text/plain": [
       "                       QueueSize\n",
       "EmployeeID Date                 \n",
       "688        2017-01-01          0\n",
       "           2017-01-02          0\n",
       "           2017-01-03          0\n",
       "           2017-01-04          0\n",
       "           2017-01-05          2"
      ]
     },
     "execution_count": 38,
     "metadata": {},
     "output_type": "execute_result"
    }
   ],
   "source": [
    "def queue_size(eID, date): \n",
    "    mask = (date >= df['TicketCreatedDate']) & (date < df['TicketClosedDate'])\n",
    "    return df[df['EmployeeID'] == eID].loc[mask]['TicketID'].count()\n",
    "\n",
    "ts = pd.date_range(start=df['TicketCreatedDate'].min(), end=df['TicketClosedDate'].max())\n",
    "eID = (list(df['EmployeeID'].unique()))\n",
    "\n",
    "multi_index = pd.MultiIndex.from_product([eID,ts], names=[\"EmployeeID\", \"Date\"]).to_frame()\n",
    "multi_index.reset_index(drop=True, inplace=True)\n",
    "\n",
    "# iterate through employees\n",
    "multi_index['QueueSize'] = multi_index.apply(lambda x: queue_size(x['EmployeeID'], x['Date']), axis=1)\n",
    "multi_index.set_index(['EmployeeID','Date'], inplace=True)\n",
    "multi_index.head()\n"
   ]
  },
  {
   "cell_type": "code",
   "execution_count": 39,
   "metadata": {},
   "outputs": [],
   "source": [
    "df['NrOpenTickets'] = df.apply(lambda x: multi_index.loc[x['EmployeeID'], x['TicketCreatedDate']], axis=1)"
   ]
  },
  {
   "cell_type": "code",
   "execution_count": 40,
   "metadata": {},
   "outputs": [
    {
     "data": {
      "text/html": [
       "<div>\n",
       "<style scoped>\n",
       "    .dataframe tbody tr th:only-of-type {\n",
       "        vertical-align: middle;\n",
       "    }\n",
       "\n",
       "    .dataframe tbody tr th {\n",
       "        vertical-align: top;\n",
       "    }\n",
       "\n",
       "    .dataframe thead th {\n",
       "        text-align: right;\n",
       "    }\n",
       "</style>\n",
       "<table border=\"1\" class=\"dataframe\">\n",
       "  <thead>\n",
       "    <tr style=\"text-align: right;\">\n",
       "      <th></th>\n",
       "      <th>EmployeeID</th>\n",
       "      <th>TicketChannel</th>\n",
       "      <th>TicketGroup</th>\n",
       "      <th>TicketID</th>\n",
       "      <th>TicketCreatedDate</th>\n",
       "      <th>ZendeskPlan</th>\n",
       "      <th>DayTicketSolved</th>\n",
       "      <th>AssigneeTier</th>\n",
       "      <th>FirstReplyTime</th>\n",
       "      <th>FullResolutionTime</th>\n",
       "      <th>NumAgentComments</th>\n",
       "      <th>NumPublicComments</th>\n",
       "      <th>TicketEscalated</th>\n",
       "      <th>CustomerSatisfaction</th>\n",
       "      <th>WorkerDateHired</th>\n",
       "      <th>WorkerLocation</th>\n",
       "      <th>Worker_Type</th>\n",
       "      <th>WorkerTenure</th>\n",
       "      <th>TicketClosedDate</th>\n",
       "      <th>NrOpenTickets</th>\n",
       "    </tr>\n",
       "  </thead>\n",
       "  <tbody>\n",
       "    <tr>\n",
       "      <th>924</th>\n",
       "      <td>688</td>\n",
       "      <td>chat</td>\n",
       "      <td>Zopim T1</td>\n",
       "      <td>2166897</td>\n",
       "      <td>2017-01-18</td>\n",
       "      <td>None</td>\n",
       "      <td>Friday</td>\n",
       "      <td>None</td>\n",
       "      <td>0</td>\n",
       "      <td>13309</td>\n",
       "      <td>1</td>\n",
       "      <td>0</td>\n",
       "      <td>0</td>\n",
       "      <td>-1</td>\n",
       "      <td>2014-06-01</td>\n",
       "      <td>Manila</td>\n",
       "      <td>Employee</td>\n",
       "      <td>962</td>\n",
       "      <td>2017-01-27</td>\n",
       "      <td>4</td>\n",
       "    </tr>\n",
       "    <tr>\n",
       "      <th>925</th>\n",
       "      <td>1463</td>\n",
       "      <td>chat</td>\n",
       "      <td>Zopim T1</td>\n",
       "      <td>2132608</td>\n",
       "      <td>2017-01-06</td>\n",
       "      <td>None</td>\n",
       "      <td>Friday</td>\n",
       "      <td>None</td>\n",
       "      <td>0</td>\n",
       "      <td>4</td>\n",
       "      <td>0</td>\n",
       "      <td>0</td>\n",
       "      <td>0</td>\n",
       "      <td>0</td>\n",
       "      <td>2015-08-03</td>\n",
       "      <td>Manila</td>\n",
       "      <td>Employee</td>\n",
       "      <td>522</td>\n",
       "      <td>2017-01-06</td>\n",
       "      <td>2</td>\n",
       "    </tr>\n",
       "    <tr>\n",
       "      <th>926</th>\n",
       "      <td>1463</td>\n",
       "      <td>chat</td>\n",
       "      <td>Zopim T1</td>\n",
       "      <td>2132014</td>\n",
       "      <td>2017-01-06</td>\n",
       "      <td>None</td>\n",
       "      <td>Friday</td>\n",
       "      <td>None</td>\n",
       "      <td>0</td>\n",
       "      <td>35</td>\n",
       "      <td>0</td>\n",
       "      <td>0</td>\n",
       "      <td>0</td>\n",
       "      <td>0</td>\n",
       "      <td>2015-08-03</td>\n",
       "      <td>Manila</td>\n",
       "      <td>Employee</td>\n",
       "      <td>522</td>\n",
       "      <td>2017-01-06</td>\n",
       "      <td>2</td>\n",
       "    </tr>\n",
       "    <tr>\n",
       "      <th>927</th>\n",
       "      <td>1463</td>\n",
       "      <td>chat</td>\n",
       "      <td>Zopim T1</td>\n",
       "      <td>2878472</td>\n",
       "      <td>2017-08-18</td>\n",
       "      <td>None</td>\n",
       "      <td>Friday</td>\n",
       "      <td>None</td>\n",
       "      <td>0</td>\n",
       "      <td>0</td>\n",
       "      <td>0</td>\n",
       "      <td>0</td>\n",
       "      <td>0</td>\n",
       "      <td>0</td>\n",
       "      <td>2015-08-03</td>\n",
       "      <td>Manila</td>\n",
       "      <td>Employee</td>\n",
       "      <td>746</td>\n",
       "      <td>2017-08-18</td>\n",
       "      <td>3</td>\n",
       "    </tr>\n",
       "    <tr>\n",
       "      <th>928</th>\n",
       "      <td>1463</td>\n",
       "      <td>chat</td>\n",
       "      <td>Zopim T1</td>\n",
       "      <td>2483674</td>\n",
       "      <td>2017-03-31</td>\n",
       "      <td>None</td>\n",
       "      <td>Friday</td>\n",
       "      <td>None</td>\n",
       "      <td>0</td>\n",
       "      <td>2</td>\n",
       "      <td>0</td>\n",
       "      <td>0</td>\n",
       "      <td>0</td>\n",
       "      <td>0</td>\n",
       "      <td>2015-08-03</td>\n",
       "      <td>Manila</td>\n",
       "      <td>Employee</td>\n",
       "      <td>606</td>\n",
       "      <td>2017-03-31</td>\n",
       "      <td>0</td>\n",
       "    </tr>\n",
       "  </tbody>\n",
       "</table>\n",
       "</div>"
      ],
      "text/plain": [
       "     EmployeeID TicketChannel TicketGroup  TicketID TicketCreatedDate  \\\n",
       "924         688          chat    Zopim T1   2166897        2017-01-18   \n",
       "925        1463          chat    Zopim T1   2132608        2017-01-06   \n",
       "926        1463          chat    Zopim T1   2132014        2017-01-06   \n",
       "927        1463          chat    Zopim T1   2878472        2017-08-18   \n",
       "928        1463          chat    Zopim T1   2483674        2017-03-31   \n",
       "\n",
       "    ZendeskPlan DayTicketSolved AssigneeTier  FirstReplyTime  \\\n",
       "924        None          Friday         None               0   \n",
       "925        None          Friday         None               0   \n",
       "926        None          Friday         None               0   \n",
       "927        None          Friday         None               0   \n",
       "928        None          Friday         None               0   \n",
       "\n",
       "     FullResolutionTime  NumAgentComments  NumPublicComments  TicketEscalated  \\\n",
       "924               13309                 1                  0                0   \n",
       "925                   4                 0                  0                0   \n",
       "926                  35                 0                  0                0   \n",
       "927                   0                 0                  0                0   \n",
       "928                   2                 0                  0                0   \n",
       "\n",
       "     CustomerSatisfaction WorkerDateHired WorkerLocation Worker_Type  \\\n",
       "924                    -1      2014-06-01         Manila    Employee   \n",
       "925                     0      2015-08-03         Manila    Employee   \n",
       "926                     0      2015-08-03         Manila    Employee   \n",
       "927                     0      2015-08-03         Manila    Employee   \n",
       "928                     0      2015-08-03         Manila    Employee   \n",
       "\n",
       "     WorkerTenure TicketClosedDate  NrOpenTickets  \n",
       "924           962       2017-01-27              4  \n",
       "925           522       2017-01-06              2  \n",
       "926           522       2017-01-06              2  \n",
       "927           746       2017-08-18              3  \n",
       "928           606       2017-03-31              0  "
      ]
     },
     "execution_count": 40,
     "metadata": {},
     "output_type": "execute_result"
    }
   ],
   "source": [
    "df.head()"
   ]
  },
  {
   "cell_type": "code",
   "execution_count": 43,
   "metadata": {},
   "outputs": [
    {
     "data": {
      "text/html": [
       "<div>\n",
       "<style scoped>\n",
       "    .dataframe tbody tr th:only-of-type {\n",
       "        vertical-align: middle;\n",
       "    }\n",
       "\n",
       "    .dataframe tbody tr th {\n",
       "        vertical-align: top;\n",
       "    }\n",
       "\n",
       "    .dataframe thead th {\n",
       "        text-align: right;\n",
       "    }\n",
       "</style>\n",
       "<table border=\"1\" class=\"dataframe\">\n",
       "  <thead>\n",
       "    <tr style=\"text-align: right;\">\n",
       "      <th></th>\n",
       "      <th>EmployeeID</th>\n",
       "      <th>TicketChannel</th>\n",
       "      <th>TicketGroup</th>\n",
       "      <th>ZendeskPlan</th>\n",
       "      <th>DayTicketSolved</th>\n",
       "      <th>AssigneeTier</th>\n",
       "      <th>FirstReplyTime</th>\n",
       "      <th>FullResolutionTime</th>\n",
       "      <th>NumAgentComments</th>\n",
       "      <th>NumPublicComments</th>\n",
       "      <th>TicketEscalated</th>\n",
       "      <th>WorkerLocation</th>\n",
       "      <th>Worker_Type</th>\n",
       "      <th>WorkerTenure</th>\n",
       "      <th>NrOpenTickets</th>\n",
       "      <th>TicketCreatedMonth</th>\n",
       "      <th>HasResponded</th>\n",
       "    </tr>\n",
       "  </thead>\n",
       "  <tbody>\n",
       "    <tr>\n",
       "      <th>924</th>\n",
       "      <td>688</td>\n",
       "      <td>chat</td>\n",
       "      <td>Zopim T1</td>\n",
       "      <td>None</td>\n",
       "      <td>Friday</td>\n",
       "      <td>0</td>\n",
       "      <td>0</td>\n",
       "      <td>13309</td>\n",
       "      <td>1</td>\n",
       "      <td>0</td>\n",
       "      <td>0</td>\n",
       "      <td>Manila</td>\n",
       "      <td>Employee</td>\n",
       "      <td>962</td>\n",
       "      <td>4</td>\n",
       "      <td>1</td>\n",
       "      <td>1</td>\n",
       "    </tr>\n",
       "    <tr>\n",
       "      <th>925</th>\n",
       "      <td>1463</td>\n",
       "      <td>chat</td>\n",
       "      <td>Zopim T1</td>\n",
       "      <td>None</td>\n",
       "      <td>Friday</td>\n",
       "      <td>0</td>\n",
       "      <td>0</td>\n",
       "      <td>4</td>\n",
       "      <td>0</td>\n",
       "      <td>0</td>\n",
       "      <td>0</td>\n",
       "      <td>Manila</td>\n",
       "      <td>Employee</td>\n",
       "      <td>522</td>\n",
       "      <td>2</td>\n",
       "      <td>1</td>\n",
       "      <td>0</td>\n",
       "    </tr>\n",
       "    <tr>\n",
       "      <th>926</th>\n",
       "      <td>1463</td>\n",
       "      <td>chat</td>\n",
       "      <td>Zopim T1</td>\n",
       "      <td>None</td>\n",
       "      <td>Friday</td>\n",
       "      <td>0</td>\n",
       "      <td>0</td>\n",
       "      <td>35</td>\n",
       "      <td>0</td>\n",
       "      <td>0</td>\n",
       "      <td>0</td>\n",
       "      <td>Manila</td>\n",
       "      <td>Employee</td>\n",
       "      <td>522</td>\n",
       "      <td>2</td>\n",
       "      <td>1</td>\n",
       "      <td>0</td>\n",
       "    </tr>\n",
       "    <tr>\n",
       "      <th>927</th>\n",
       "      <td>1463</td>\n",
       "      <td>chat</td>\n",
       "      <td>Zopim T1</td>\n",
       "      <td>None</td>\n",
       "      <td>Friday</td>\n",
       "      <td>0</td>\n",
       "      <td>0</td>\n",
       "      <td>0</td>\n",
       "      <td>0</td>\n",
       "      <td>0</td>\n",
       "      <td>0</td>\n",
       "      <td>Manila</td>\n",
       "      <td>Employee</td>\n",
       "      <td>746</td>\n",
       "      <td>3</td>\n",
       "      <td>8</td>\n",
       "      <td>0</td>\n",
       "    </tr>\n",
       "    <tr>\n",
       "      <th>928</th>\n",
       "      <td>1463</td>\n",
       "      <td>chat</td>\n",
       "      <td>Zopim T1</td>\n",
       "      <td>None</td>\n",
       "      <td>Friday</td>\n",
       "      <td>0</td>\n",
       "      <td>0</td>\n",
       "      <td>2</td>\n",
       "      <td>0</td>\n",
       "      <td>0</td>\n",
       "      <td>0</td>\n",
       "      <td>Manila</td>\n",
       "      <td>Employee</td>\n",
       "      <td>606</td>\n",
       "      <td>0</td>\n",
       "      <td>3</td>\n",
       "      <td>0</td>\n",
       "    </tr>\n",
       "  </tbody>\n",
       "</table>\n",
       "</div>"
      ],
      "text/plain": [
       "     EmployeeID TicketChannel TicketGroup ZendeskPlan DayTicketSolved  \\\n",
       "924         688          chat    Zopim T1        None          Friday   \n",
       "925        1463          chat    Zopim T1        None          Friday   \n",
       "926        1463          chat    Zopim T1        None          Friday   \n",
       "927        1463          chat    Zopim T1        None          Friday   \n",
       "928        1463          chat    Zopim T1        None          Friday   \n",
       "\n",
       "    AssigneeTier  FirstReplyTime  FullResolutionTime  NumAgentComments  \\\n",
       "924            0               0               13309                 1   \n",
       "925            0               0                   4                 0   \n",
       "926            0               0                  35                 0   \n",
       "927            0               0                   0                 0   \n",
       "928            0               0                   2                 0   \n",
       "\n",
       "     NumPublicComments  TicketEscalated WorkerLocation Worker_Type  \\\n",
       "924                  0                0         Manila    Employee   \n",
       "925                  0                0         Manila    Employee   \n",
       "926                  0                0         Manila    Employee   \n",
       "927                  0                0         Manila    Employee   \n",
       "928                  0                0         Manila    Employee   \n",
       "\n",
       "     WorkerTenure  NrOpenTickets  TicketCreatedMonth  HasResponded  \n",
       "924           962              4                   1             1  \n",
       "925           522              2                   1             0  \n",
       "926           522              2                   1             0  \n",
       "927           746              3                   8             0  \n",
       "928           606              0                   3             0  "
      ]
     },
     "execution_count": 43,
     "metadata": {},
     "output_type": "execute_result"
    }
   ],
   "source": [
    "df.set_index('TicketID')\n",
    "\n",
    "df['TicketCreatedMonth'] = pd.DatetimeIndex(df['TicketCreatedDate']).month\n",
    "df['HasResponded'] = df.apply(lambda x: 0 if x['CustomerSatisfaction'] == 0 else 1, axis=1)\n",
    "di = {'None': 0, 'Triage': 0, 'Tier 1': 1, 'Tier 2': 2, 'Tier 1': 3}\n",
    "df.replace({\"AssigneeTier\": di}, inplace=True)\n",
    "\n",
    "exclude = [\n",
    "    'TicketID',\n",
    "    'WorkerDateHired',\n",
    "    'TicketCreatedDate',\n",
    "    'TicketClosedDate',\n",
    "    'CustomerSatisfaction'\n",
    "]\n",
    "\n",
    "df = df.drop(exclude, axis=1)\n",
    "\n",
    "df.head()"
   ]
  },
  {
   "cell_type": "code",
   "execution_count": 44,
   "metadata": {},
   "outputs": [
    {
     "data": {
      "text/html": [
       "<div>\n",
       "<style scoped>\n",
       "    .dataframe tbody tr th:only-of-type {\n",
       "        vertical-align: middle;\n",
       "    }\n",
       "\n",
       "    .dataframe tbody tr th {\n",
       "        vertical-align: top;\n",
       "    }\n",
       "\n",
       "    .dataframe thead th {\n",
       "        text-align: right;\n",
       "    }\n",
       "</style>\n",
       "<table border=\"1\" class=\"dataframe\">\n",
       "  <thead>\n",
       "    <tr style=\"text-align: right;\">\n",
       "      <th></th>\n",
       "      <th>EmployeeID</th>\n",
       "      <th>TicketChannel</th>\n",
       "      <th>TicketGroup</th>\n",
       "      <th>ZendeskPlan</th>\n",
       "      <th>DayTicketSolved</th>\n",
       "      <th>AssigneeTier</th>\n",
       "      <th>FirstReplyTime</th>\n",
       "      <th>FullResolutionTime</th>\n",
       "      <th>NumAgentComments</th>\n",
       "      <th>NumPublicComments</th>\n",
       "      <th>TicketEscalated</th>\n",
       "      <th>WorkerLocation</th>\n",
       "      <th>Worker_Type</th>\n",
       "      <th>WorkerTenure</th>\n",
       "      <th>NrOpenTickets</th>\n",
       "      <th>TicketCreatedMonth</th>\n",
       "      <th>HasResponded</th>\n",
       "    </tr>\n",
       "  </thead>\n",
       "  <tbody>\n",
       "    <tr>\n",
       "      <th>924</th>\n",
       "      <td>688</td>\n",
       "      <td>1</td>\n",
       "      <td>26</td>\n",
       "      <td>7</td>\n",
       "      <td>0</td>\n",
       "      <td>0</td>\n",
       "      <td>0</td>\n",
       "      <td>13309</td>\n",
       "      <td>1</td>\n",
       "      <td>0</td>\n",
       "      <td>0</td>\n",
       "      <td>5</td>\n",
       "      <td>1</td>\n",
       "      <td>962</td>\n",
       "      <td>4</td>\n",
       "      <td>1</td>\n",
       "      <td>1</td>\n",
       "    </tr>\n",
       "    <tr>\n",
       "      <th>925</th>\n",
       "      <td>1463</td>\n",
       "      <td>1</td>\n",
       "      <td>26</td>\n",
       "      <td>7</td>\n",
       "      <td>0</td>\n",
       "      <td>0</td>\n",
       "      <td>0</td>\n",
       "      <td>4</td>\n",
       "      <td>0</td>\n",
       "      <td>0</td>\n",
       "      <td>0</td>\n",
       "      <td>5</td>\n",
       "      <td>1</td>\n",
       "      <td>522</td>\n",
       "      <td>2</td>\n",
       "      <td>1</td>\n",
       "      <td>0</td>\n",
       "    </tr>\n",
       "    <tr>\n",
       "      <th>926</th>\n",
       "      <td>1463</td>\n",
       "      <td>1</td>\n",
       "      <td>26</td>\n",
       "      <td>7</td>\n",
       "      <td>0</td>\n",
       "      <td>0</td>\n",
       "      <td>0</td>\n",
       "      <td>35</td>\n",
       "      <td>0</td>\n",
       "      <td>0</td>\n",
       "      <td>0</td>\n",
       "      <td>5</td>\n",
       "      <td>1</td>\n",
       "      <td>522</td>\n",
       "      <td>2</td>\n",
       "      <td>1</td>\n",
       "      <td>0</td>\n",
       "    </tr>\n",
       "    <tr>\n",
       "      <th>927</th>\n",
       "      <td>1463</td>\n",
       "      <td>1</td>\n",
       "      <td>26</td>\n",
       "      <td>7</td>\n",
       "      <td>0</td>\n",
       "      <td>0</td>\n",
       "      <td>0</td>\n",
       "      <td>0</td>\n",
       "      <td>0</td>\n",
       "      <td>0</td>\n",
       "      <td>0</td>\n",
       "      <td>5</td>\n",
       "      <td>1</td>\n",
       "      <td>746</td>\n",
       "      <td>3</td>\n",
       "      <td>8</td>\n",
       "      <td>0</td>\n",
       "    </tr>\n",
       "    <tr>\n",
       "      <th>928</th>\n",
       "      <td>1463</td>\n",
       "      <td>1</td>\n",
       "      <td>26</td>\n",
       "      <td>7</td>\n",
       "      <td>0</td>\n",
       "      <td>0</td>\n",
       "      <td>0</td>\n",
       "      <td>2</td>\n",
       "      <td>0</td>\n",
       "      <td>0</td>\n",
       "      <td>0</td>\n",
       "      <td>5</td>\n",
       "      <td>1</td>\n",
       "      <td>606</td>\n",
       "      <td>0</td>\n",
       "      <td>3</td>\n",
       "      <td>0</td>\n",
       "    </tr>\n",
       "  </tbody>\n",
       "</table>\n",
       "</div>"
      ],
      "text/plain": [
       "     EmployeeID  TicketChannel  TicketGroup  ZendeskPlan  DayTicketSolved  \\\n",
       "924         688              1           26            7                0   \n",
       "925        1463              1           26            7                0   \n",
       "926        1463              1           26            7                0   \n",
       "927        1463              1           26            7                0   \n",
       "928        1463              1           26            7                0   \n",
       "\n",
       "     AssigneeTier  FirstReplyTime  FullResolutionTime  NumAgentComments  \\\n",
       "924             0               0               13309                 1   \n",
       "925             0               0                   4                 0   \n",
       "926             0               0                  35                 0   \n",
       "927             0               0                   0                 0   \n",
       "928             0               0                   2                 0   \n",
       "\n",
       "     NumPublicComments  TicketEscalated  WorkerLocation  Worker_Type  \\\n",
       "924                  0                0               5            1   \n",
       "925                  0                0               5            1   \n",
       "926                  0                0               5            1   \n",
       "927                  0                0               5            1   \n",
       "928                  0                0               5            1   \n",
       "\n",
       "     WorkerTenure  NrOpenTickets  TicketCreatedMonth  HasResponded  \n",
       "924           962              4                   1             1  \n",
       "925           522              2                   1             0  \n",
       "926           522              2                   1             0  \n",
       "927           746              3                   8             0  \n",
       "928           606              0                   3             0  "
      ]
     },
     "execution_count": 44,
     "metadata": {},
     "output_type": "execute_result"
    }
   ],
   "source": [
    "from sklearn.preprocessing import LabelEncoder\n",
    "\n",
    "df_cat = list(df.select_dtypes(include=object))\n",
    "\n",
    "# process columns, apply LabelEncoder to categorical features\n",
    "for c in df_cat:\n",
    "    lbl = LabelEncoder() \n",
    "    lbl.fit(list(df[c].values)) \n",
    "    df[c] = lbl.transform(list(df[c].values))\n",
    "\n",
    "df.head()"
   ]
  },
  {
   "cell_type": "code",
   "execution_count": 46,
   "metadata": {},
   "outputs": [],
   "source": [
    "df['FullResolutionTime'] = np.log1p(df['FullResolutionTime'])\n",
    "df['FirstReplyTime'] = np.log1p(df['FirstReplyTime'])\n",
    "df['Workload'] = df['AssigneeTier'] * df['NrOpenTickets']"
   ]
  },
  {
   "cell_type": "code",
   "execution_count": 47,
   "metadata": {},
   "outputs": [
    {
     "data": {
      "text/plain": [
       "HasResponded          1.000000\n",
       "FirstReplyTime        0.110874\n",
       "NumPublicComments     0.102774\n",
       "FullResolutionTime    0.076653\n",
       "TicketEscalated       0.048041\n",
       "AssigneeTier          0.044628\n",
       "NumAgentComments      0.039447\n",
       "Workload              0.034932\n",
       "DayTicketSolved       0.024282\n",
       "NrOpenTickets         0.021635\n",
       "Worker_Type           0.018216\n",
       "EmployeeID            0.018010\n",
       "WorkerLocation        0.001617\n",
       "ZendeskPlan          -0.002272\n",
       "TicketCreatedMonth   -0.006962\n",
       "WorkerTenure         -0.020241\n",
       "TicketGroup          -0.025120\n",
       "TicketChannel        -0.032974\n",
       "Name: HasResponded, dtype: float64"
      ]
     },
     "execution_count": 47,
     "metadata": {},
     "output_type": "execute_result"
    }
   ],
   "source": [
    "corr_matrix = df.corr()\n",
    "corr_matrix['HasResponded'].sort_values(ascending=False)"
   ]
  },
  {
   "cell_type": "code",
   "execution_count": 88,
   "metadata": {},
   "outputs": [
    {
     "data": {
      "text/plain": [
       "FullResolutionTime    1.000000\n",
       "FirstReplyTime        0.670031\n",
       "NumPublicComments     0.506921\n",
       "NumAgentComments      0.459622\n",
       "TicketEscalated       0.373763\n",
       "NrOpenTickets         0.339590\n",
       "Workload              0.333038\n",
       "AssigneeTier          0.289325\n",
       "TicketChannel         0.260109\n",
       "HasResponded          0.076653\n",
       "WorkerLocation        0.053964\n",
       "WorkerTenure          0.051527\n",
       "DayTicketSolved      -0.010984\n",
       "Worker_Type          -0.014857\n",
       "TicketCreatedMonth   -0.016388\n",
       "ZendeskPlan          -0.037085\n",
       "EmployeeID           -0.049360\n",
       "TicketGroup          -0.188790\n",
       "Name: FullResolutionTime, dtype: float64"
      ]
     },
     "execution_count": 88,
     "metadata": {},
     "output_type": "execute_result"
    }
   ],
   "source": [
    "corr_matrix['FullResolutionTime'].sort_values(ascending=False)"
   ]
  },
  {
   "cell_type": "code",
   "execution_count": 89,
   "metadata": {},
   "outputs": [],
   "source": [
    "included = ['TicketChannel', 'FirstReplyTime','TicketGroup', 'Workload', 'FullResolutionTime']\n",
    "\n",
    "df_new = df[included]"
   ]
  },
  {
   "cell_type": "code",
   "execution_count": 90,
   "metadata": {},
   "outputs": [
    {
     "data": {
      "text/html": [
       "<div>\n",
       "<style scoped>\n",
       "    .dataframe tbody tr th:only-of-type {\n",
       "        vertical-align: middle;\n",
       "    }\n",
       "\n",
       "    .dataframe tbody tr th {\n",
       "        vertical-align: top;\n",
       "    }\n",
       "\n",
       "    .dataframe thead th {\n",
       "        text-align: right;\n",
       "    }\n",
       "</style>\n",
       "<table border=\"1\" class=\"dataframe\">\n",
       "  <thead>\n",
       "    <tr style=\"text-align: right;\">\n",
       "      <th></th>\n",
       "      <th>TicketChannel</th>\n",
       "      <th>FirstReplyTime</th>\n",
       "      <th>TicketGroup</th>\n",
       "      <th>Workload</th>\n",
       "      <th>FullResolutionTime</th>\n",
       "    </tr>\n",
       "  </thead>\n",
       "  <tbody>\n",
       "    <tr>\n",
       "      <th>924</th>\n",
       "      <td>1</td>\n",
       "      <td>0.0</td>\n",
       "      <td>26</td>\n",
       "      <td>0</td>\n",
       "      <td>9.496271</td>\n",
       "    </tr>\n",
       "    <tr>\n",
       "      <th>925</th>\n",
       "      <td>1</td>\n",
       "      <td>0.0</td>\n",
       "      <td>26</td>\n",
       "      <td>0</td>\n",
       "      <td>1.609438</td>\n",
       "    </tr>\n",
       "    <tr>\n",
       "      <th>926</th>\n",
       "      <td>1</td>\n",
       "      <td>0.0</td>\n",
       "      <td>26</td>\n",
       "      <td>0</td>\n",
       "      <td>3.583519</td>\n",
       "    </tr>\n",
       "    <tr>\n",
       "      <th>927</th>\n",
       "      <td>1</td>\n",
       "      <td>0.0</td>\n",
       "      <td>26</td>\n",
       "      <td>0</td>\n",
       "      <td>0.0</td>\n",
       "    </tr>\n",
       "    <tr>\n",
       "      <th>928</th>\n",
       "      <td>1</td>\n",
       "      <td>0.0</td>\n",
       "      <td>26</td>\n",
       "      <td>0</td>\n",
       "      <td>1.098612</td>\n",
       "    </tr>\n",
       "  </tbody>\n",
       "</table>\n",
       "</div>"
      ],
      "text/plain": [
       "     TicketChannel  FirstReplyTime  TicketGroup  Workload  FullResolutionTime\n",
       "924              1             0.0           26         0            9.496271\n",
       "925              1             0.0           26         0            1.609438\n",
       "926              1             0.0           26         0            3.583519\n",
       "927              1             0.0           26         0                 0.0\n",
       "928              1             0.0           26         0            1.098612"
      ]
     },
     "execution_count": 90,
     "metadata": {},
     "output_type": "execute_result"
    }
   ],
   "source": [
    "df_new.head()"
   ]
  },
  {
   "cell_type": "markdown",
   "metadata": {},
   "source": [
    "## Regression \n",
    "\n"
   ]
  },
  {
   "cell_type": "code",
   "execution_count": 91,
   "metadata": {},
   "outputs": [],
   "source": [
    "from sklearn.metrics import mean_squared_error,roc_auc_score, auc, roc_curve, r2_score\n",
    "from sklearn.pipeline import make_pipeline\n",
    "from sklearn.preprocessing import RobustScaler\n",
    "from sklearn.base import BaseEstimator, TransformerMixin, RegressorMixin, clone\n",
    "from sklearn.model_selection import KFold, cross_val_score, train_test_split\n",
    "from sklearn.ensemble import RandomForestRegressor\n",
    "import optuna\n",
    "\n",
    "cv = KFold(n_splits=4)"
   ]
  },
  {
   "cell_type": "code",
   "execution_count": 92,
   "metadata": {},
   "outputs": [],
   "source": [
    "df_model = df_new.copy()\n",
    "\n",
    "y = df_model.pop('FullResolutionTime')\n",
    "X = df_model\n",
    "X_train, X_test, y_train, y_test = train_test_split(X, y, test_size=0.2, random_state=0)"
   ]
  },
  {
   "cell_type": "markdown",
   "metadata": {},
   "source": [
    "### Linear Regression"
   ]
  },
  {
   "cell_type": "code",
   "execution_count": 93,
   "metadata": {},
   "outputs": [],
   "source": [
    "from sklearn.linear_model import LinearRegression, LassoCV\n",
    "\n",
    "model = LinearRegression()\n",
    "score = cross_val_score(\n",
    "     model, X_train, y_train, cv=cv, scoring=\"neg_root_mean_squared_error\"\n",
    "    ).mean()\n",
    "\n",
    "model.fit(X_train, y_train)\n",
    "y_pred = model.predict(X_test)"
   ]
  },
  {
   "cell_type": "code",
   "execution_count": 94,
   "metadata": {},
   "outputs": [
    {
     "data": {
      "text/plain": [
       "<matplotlib.collections.PathCollection at 0x163efe980>"
      ]
     },
     "execution_count": 94,
     "metadata": {},
     "output_type": "execute_result"
    },
    {
     "data": {
      "image/png": "[encoded data removed]",
      "text/plain": [
       "<Figure size 432x288 with 1 Axes>"
      ]
     },
     "metadata": {},
     "output_type": "display_data"
    }
   ],
   "source": [
    "plt.scatter(y_test, (y_pred))"
   ]
  },
  {
   "cell_type": "code",
   "execution_count": 95,
   "metadata": {},
   "outputs": [
    {
     "name": "stdout",
     "output_type": "stream",
     "text": [
      "MSE of rf on test set: 5.33\n",
      "R2 of rf on test set: 0.48\n"
     ]
    },
    {
     "data": {
      "text/plain": [
       "(array([1.0000e+00, 2.0000e+00, 1.7500e+02, 1.0233e+04, 1.5209e+04,\n",
       "        1.1611e+04, 7.9930e+03, 2.3530e+03, 3.3100e+02, 4.1000e+01]),\n",
       " array([-10.027538741371911, -8.033244265284084, -6.0389497891962565,\n",
       "        -4.044655313108429, -2.0503608370206017, -0.05606636093277473,\n",
       "        1.938228115155054, 3.932522591242881, 5.926817067330708,\n",
       "        7.921111543418535, 9.915406019506362], dtype=object),\n",
       " <BarContainer object of 10 artists>)"
      ]
     },
     "execution_count": 95,
     "metadata": {},
     "output_type": "execute_result"
    },
    {
     "data": {
      "image/png": "[encoded data removed]",
      "text/plain": [
       "<Figure size 432x288 with 1 Axes>"
      ]
     },
     "metadata": {},
     "output_type": "display_data"
    }
   ],
   "source": [
    "print('MSE of rf on test set: {:.2f}'.format(mean_squared_error(y_test, y_pred)))\n",
    "print('R2 of rf on test set: {:.2f}'.format(r2_score(y_test, y_pred)))\n",
    "plt.hist(y_test - y_pred)"
   ]
  },
  {
   "cell_type": "code",
   "execution_count": 96,
   "metadata": {},
   "outputs": [
    {
     "data": {
      "text/plain": [
       "<AxesSubplot:xlabel='preds', ylabel='residuals'>"
      ]
     },
     "execution_count": 96,
     "metadata": {},
     "output_type": "execute_result"
    },
    {
     "data": {
      "image/png": "[encoded data removed]",
      "text/plain": [
       "<Figure size 432x432 with 1 Axes>"
      ]
     },
     "metadata": {},
     "output_type": "display_data"
    }
   ],
   "source": [
    "#let's look at the residuals as well:\n",
    "plt.rcParams['figure.figsize'] = (6.0, 6.0)\n",
    "\n",
    "preds = pd.DataFrame({\"preds\": y_pred, \"true\": y_test})\n",
    "preds[\"residuals\"] = preds[\"true\"] - preds[\"preds\"]\n",
    "preds.plot(x = \"preds\", y = \"residuals\",kind = \"scatter\")"
   ]
  },
  {
   "cell_type": "markdown",
   "metadata": {},
   "source": [
    "### Lasso\n"
   ]
  },
  {
   "cell_type": "code",
   "execution_count": 481,
   "metadata": {},
   "outputs": [
    {
     "name": "stdout",
     "output_type": "stream",
     "text": [
      "-2.510805302818416\n"
     ]
    }
   ],
   "source": [
    "model = LassoCV(alphas = [1, 0.1, 0.001, 0.0005])\n",
    "score = cross_val_score(\n",
    "     model, X_train, y_train, cv=cv, scoring=\"neg_root_mean_squared_error\"\n",
    "    ).mean()\n",
    "print(score)\n",
    "\n",
    "model.fit(X_train.values, y_train.values)\n",
    "y_pred = model.predict(X_test)"
   ]
  },
  {
   "cell_type": "code",
   "execution_count": 482,
   "metadata": {},
   "outputs": [
    {
     "name": "stdout",
     "output_type": "stream",
     "text": [
      "RMSE of rf on test set: 6.29\n",
      "R2 of rf on test set: 0.38\n"
     ]
    },
    {
     "data": {
      "text/plain": [
       "(array([1.0000e+00, 1.0000e+00, 3.0000e+00, 7.0000e+00, 1.4000e+01,\n",
       "        1.1100e+02, 1.4102e+04, 2.3372e+04, 1.0141e+04, 1.9700e+02]),\n",
       " array([-28.9670582951032, -25.058655723554015, -21.15025315200483,\n",
       "        -17.241850580455647, -13.333448008906462, -9.425045437357277,\n",
       "        -5.516642865808095, -1.6082402942589091, 2.3001622772902763,\n",
       "        6.208564848839458, 10.116967420388647], dtype=object),\n",
       " <BarContainer object of 10 artists>)"
      ]
     },
     "execution_count": 482,
     "metadata": {},
     "output_type": "execute_result"
    },
    {
     "data": {
      "image/png": "[encoded data removed]",
      "text/plain": [
       "<Figure size 432x288 with 1 Axes>"
      ]
     },
     "metadata": {
      "needs_background": "dark"
     },
     "output_type": "display_data"
    }
   ],
   "source": [
    "print('RMSE of rf on test set: {:.2f}'.format(mean_squared_error(y_test, y_pred)))\n",
    "print('R2 of rf on test set: {:.2f}'.format(r2_score(y_test, y_pred)))\n",
    "plt.hist(y_test - y_pred)\n"
   ]
  },
  {
   "cell_type": "code",
   "execution_count": 472,
   "metadata": {},
   "outputs": [
    {
     "name": "stdout",
     "output_type": "stream",
     "text": [
      "Lasso picked 6 variables and eliminated the other 0 variables\n"
     ]
    }
   ],
   "source": [
    "coef = pd.Series(model.coef_, index = X_train.columns)\n",
    "print(\"Lasso picked \" + str(sum(coef != 0)) + \" variables and eliminated the other \" +  str(sum(coef == 0)) + \" variables\")\n"
   ]
  },
  {
   "cell_type": "code",
   "execution_count": 473,
   "metadata": {},
   "outputs": [],
   "source": [
    "imp_coef = pd.concat([coef.sort_values().head(10),\n",
    "                     coef.sort_values().tail(10)])"
   ]
  },
  {
   "cell_type": "code",
   "execution_count": 148,
   "metadata": {},
   "outputs": [
    {
     "data": {
      "text/plain": [
       "Text(0.5, 1.0, 'Coefficients in the Lasso Model')"
      ]
     },
     "execution_count": 148,
     "metadata": {},
     "output_type": "execute_result"
    },
    {
     "data": {
      "image/png": "[encoded data removed]",
      "text/plain": [
       "<Figure size 576x720 with 1 Axes>"
      ]
     },
     "metadata": {},
     "output_type": "display_data"
    }
   ],
   "source": [
    "plt.rcParams['figure.figsize'] = (8.0, 10.0)\n",
    "imp_coef.plot(kind = \"barh\")\n",
    "plt.title(\"Coefficients in the Lasso Model\")"
   ]
  },
  {
   "cell_type": "markdown",
   "metadata": {},
   "source": [
    "### Random Forest Regression"
   ]
  },
  {
   "cell_type": "code",
   "execution_count": 97,
   "metadata": {},
   "outputs": [
    {
     "name": "stderr",
     "output_type": "stream",
     "text": [
      "\u001b[33m[W 2023-03-25 01:36:49,631]\u001b[0m Trial 1 failed with parameters: {'n_estimators': 131, 'max_depth': 12, 'min_samples_split': 6, 'min_samples_leaf': 5, 'max_features': 24} because of the following error: KeyboardInterrupt().\u001b[0m\n",
      "Traceback (most recent call last):\n",
      "  File \"/Library/Frameworks/Python.framework/Versions/3.10/lib/python3.10/site-packages/optuna/study/_optimize.py\", line 200, in _run_trial\n",
      "    value_or_values = func(trial)\n",
      "  File \"/var/folders/nz/_1_4r28n6sd_j7432npcb9j40000gn/T/ipykernel_1252/1105638951.py\", line 18, in objective\n",
      "    score = cross_val_score(\n",
      "  File \"/Library/Frameworks/Python.framework/Versions/3.10/lib/python3.10/site-packages/sklearn/model_selection/_validation.py\", line 515, in cross_val_score\n",
      "    cv_results = cross_validate(\n",
      "  File \"/Library/Frameworks/Python.framework/Versions/3.10/lib/python3.10/site-packages/sklearn/model_selection/_validation.py\", line 266, in cross_validate\n",
      "    results = parallel(\n",
      "  File \"/Library/Frameworks/Python.framework/Versions/3.10/lib/python3.10/site-packages/sklearn/utils/parallel.py\", line 63, in __call__\n",
      "    return super().__call__(iterable_with_config)\n",
      "  File \"/Library/Frameworks/Python.framework/Versions/3.10/lib/python3.10/site-packages/joblib/parallel.py\", line 1088, in __call__\n",
      "    while self.dispatch_one_batch(iterator):\n",
      "  File \"/Library/Frameworks/Python.framework/Versions/3.10/lib/python3.10/site-packages/joblib/parallel.py\", line 901, in dispatch_one_batch\n",
      "    self._dispatch(tasks)\n",
      "  File \"/Library/Frameworks/Python.framework/Versions/3.10/lib/python3.10/site-packages/joblib/parallel.py\", line 819, in _dispatch\n",
      "    job = self._backend.apply_async(batch, callback=cb)\n",
      "  File \"/Library/Frameworks/Python.framework/Versions/3.10/lib/python3.10/site-packages/joblib/_parallel_backends.py\", line 208, in apply_async\n",
      "    result = ImmediateResult(func)\n",
      "  File \"/Library/Frameworks/Python.framework/Versions/3.10/lib/python3.10/site-packages/joblib/_parallel_backends.py\", line 597, in __init__\n",
      "    self.results = batch()\n",
      "  File \"/Library/Frameworks/Python.framework/Versions/3.10/lib/python3.10/site-packages/joblib/parallel.py\", line 288, in __call__\n",
      "    return [func(*args, **kwargs)\n",
      "  File \"/Library/Frameworks/Python.framework/Versions/3.10/lib/python3.10/site-packages/joblib/parallel.py\", line 288, in <listcomp>\n",
      "    return [func(*args, **kwargs)\n",
      "  File \"/Library/Frameworks/Python.framework/Versions/3.10/lib/python3.10/site-packages/sklearn/utils/parallel.py\", line 123, in __call__\n",
      "    return self.function(*args, **kwargs)\n",
      "  File \"/Library/Frameworks/Python.framework/Versions/3.10/lib/python3.10/site-packages/sklearn/model_selection/_validation.py\", line 686, in _fit_and_score\n",
      "    estimator.fit(X_train, y_train, **fit_params)\n",
      "  File \"/Library/Frameworks/Python.framework/Versions/3.10/lib/python3.10/site-packages/sklearn/ensemble/_forest.py\", line 473, in fit\n",
      "    trees = Parallel(\n",
      "  File \"/Library/Frameworks/Python.framework/Versions/3.10/lib/python3.10/site-packages/sklearn/utils/parallel.py\", line 63, in __call__\n",
      "    return super().__call__(iterable_with_config)\n",
      "  File \"/Library/Frameworks/Python.framework/Versions/3.10/lib/python3.10/site-packages/joblib/parallel.py\", line 1098, in __call__\n",
      "    self.retrieve()\n",
      "  File \"/Library/Frameworks/Python.framework/Versions/3.10/lib/python3.10/site-packages/joblib/parallel.py\", line 975, in retrieve\n",
      "    self._output.extend(job.get(timeout=self.timeout))\n",
      "  File \"/Library/Frameworks/Python.framework/Versions/3.10/lib/python3.10/site-packages/joblib/_parallel_backends.py\", line 567, in wrap_future_result\n",
      "    return future.result(timeout=timeout)\n",
      "  File \"/Library/Frameworks/Python.framework/Versions/3.10/lib/python3.10/concurrent/futures/_base.py\", line 441, in result\n",
      "    self._condition.wait(timeout)\n",
      "  File \"/Library/Frameworks/Python.framework/Versions/3.10/lib/python3.10/threading.py\", line 320, in wait\n",
      "    waiter.acquire()\n",
      "KeyboardInterrupt\n",
      "\u001b[33m[W 2023-03-25 01:36:49,654]\u001b[0m Trial 1 failed with value None.\u001b[0m\n"
     ]
    },
    {
     "ename": "KeyboardInterrupt",
     "evalue": "",
     "output_type": "error",
     "traceback": [
      "\u001b[0;31m---------------------------------------------------------------------------\u001b[0m",
      "\u001b[0;31mKeyboardInterrupt\u001b[0m                         Traceback (most recent call last)",
      "\u001b[1;32m/Users/joaolousada/Documents/GitHub/zentest/exercise.ipynb Cell 61\u001b[0m in \u001b[0;36m<module>\u001b[0;34m\u001b[0m\n\u001b[1;32m     <a href='vscode-notebook-cell:/Users/joaolousada/Documents/GitHub/zentest/exercise.ipynb#Y114sZmlsZQ%3D%3D?line=23'>24</a>\u001b[0m optuna\u001b[39m.\u001b[39mlogging\u001b[39m.\u001b[39mset_verbosity(\u001b[39m0\u001b[39m)\n\u001b[1;32m     <a href='vscode-notebook-cell:/Users/joaolousada/Documents/GitHub/zentest/exercise.ipynb#Y114sZmlsZQ%3D%3D?line=25'>26</a>\u001b[0m study \u001b[39m=\u001b[39m optuna\u001b[39m.\u001b[39mcreate_study(direction\u001b[39m=\u001b[39m\u001b[39m\"\u001b[39m\u001b[39mmaximize\u001b[39m\u001b[39m\"\u001b[39m)\n\u001b[0;32m---> <a href='vscode-notebook-cell:/Users/joaolousada/Documents/GitHub/zentest/exercise.ipynb#Y114sZmlsZQ%3D%3D?line=26'>27</a>\u001b[0m study\u001b[39m.\u001b[39;49moptimize(objective, n_trials\u001b[39m=\u001b[39;49m\u001b[39m10\u001b[39;49m)\n\u001b[1;32m     <a href='vscode-notebook-cell:/Users/joaolousada/Documents/GitHub/zentest/exercise.ipynb#Y114sZmlsZQ%3D%3D?line=28'>29</a>\u001b[0m rf_params \u001b[39m=\u001b[39m study\u001b[39m.\u001b[39mbest_params\n\u001b[1;32m     <a href='vscode-notebook-cell:/Users/joaolousada/Documents/GitHub/zentest/exercise.ipynb#Y114sZmlsZQ%3D%3D?line=29'>30</a>\u001b[0m rf_best_score \u001b[39m=\u001b[39m study\u001b[39m.\u001b[39mbest_value\n",
      "File \u001b[0;32m/Library/Frameworks/Python.framework/Versions/3.10/lib/python3.10/site-packages/optuna/study/study.py:425\u001b[0m, in \u001b[0;36mStudy.optimize\u001b[0;34m(self, func, n_trials, timeout, n_jobs, catch, callbacks, gc_after_trial, show_progress_bar)\u001b[0m\n\u001b[1;32m    321\u001b[0m \u001b[39mdef\u001b[39;00m \u001b[39moptimize\u001b[39m(\n\u001b[1;32m    322\u001b[0m     \u001b[39mself\u001b[39m,\n\u001b[1;32m    323\u001b[0m     func: ObjectiveFuncType,\n\u001b[0;32m   (...)\u001b[0m\n\u001b[1;32m    330\u001b[0m     show_progress_bar: \u001b[39mbool\u001b[39m \u001b[39m=\u001b[39m \u001b[39mFalse\u001b[39;00m,\n\u001b[1;32m    331\u001b[0m ) \u001b[39m-\u001b[39m\u001b[39m>\u001b[39m \u001b[39mNone\u001b[39;00m:\n\u001b[1;32m    332\u001b[0m \u001b[39m    \u001b[39m\u001b[39m\"\"\"Optimize an objective function.\u001b[39;00m\n\u001b[1;32m    333\u001b[0m \n\u001b[1;32m    334\u001b[0m \u001b[39m    Optimization is done by choosing a suitable set of hyperparameter values from a given\u001b[39;00m\n\u001b[0;32m   (...)\u001b[0m\n\u001b[1;32m    422\u001b[0m \u001b[39m            If nested invocation of this method occurs.\u001b[39;00m\n\u001b[1;32m    423\u001b[0m \u001b[39m    \"\"\"\u001b[39;00m\n\u001b[0;32m--> 425\u001b[0m     _optimize(\n\u001b[1;32m    426\u001b[0m         study\u001b[39m=\u001b[39;49m\u001b[39mself\u001b[39;49m,\n\u001b[1;32m    427\u001b[0m         func\u001b[39m=\u001b[39;49mfunc,\n\u001b[1;32m    428\u001b[0m         n_trials\u001b[39m=\u001b[39;49mn_trials,\n\u001b[1;32m    429\u001b[0m         timeout\u001b[39m=\u001b[39;49mtimeout,\n\u001b[1;32m    430\u001b[0m         n_jobs\u001b[39m=\u001b[39;49mn_jobs,\n\u001b[1;32m    431\u001b[0m         catch\u001b[39m=\u001b[39;49m\u001b[39mtuple\u001b[39;49m(catch) \u001b[39mif\u001b[39;49;00m \u001b[39misinstance\u001b[39;49m(catch, Iterable) \u001b[39melse\u001b[39;49;00m (catch,),\n\u001b[1;32m    432\u001b[0m         callbacks\u001b[39m=\u001b[39;49mcallbacks,\n\u001b[1;32m    433\u001b[0m         gc_after_trial\u001b[39m=\u001b[39;49mgc_after_trial,\n\u001b[1;32m    434\u001b[0m         show_progress_bar\u001b[39m=\u001b[39;49mshow_progress_bar,\n\u001b[1;32m    435\u001b[0m     )\n",
      "File \u001b[0;32m/Library/Frameworks/Python.framework/Versions/3.10/lib/python3.10/site-packages/optuna/study/_optimize.py:66\u001b[0m, in \u001b[0;36m_optimize\u001b[0;34m(study, func, n_trials, timeout, n_jobs, catch, callbacks, gc_after_trial, show_progress_bar)\u001b[0m\n\u001b[1;32m     64\u001b[0m \u001b[39mtry\u001b[39;00m:\n\u001b[1;32m     65\u001b[0m     \u001b[39mif\u001b[39;00m n_jobs \u001b[39m==\u001b[39m \u001b[39m1\u001b[39m:\n\u001b[0;32m---> 66\u001b[0m         _optimize_sequential(\n\u001b[1;32m     67\u001b[0m             study,\n\u001b[1;32m     68\u001b[0m             func,\n\u001b[1;32m     69\u001b[0m             n_trials,\n\u001b[1;32m     70\u001b[0m             timeout,\n\u001b[1;32m     71\u001b[0m             catch,\n\u001b[1;32m     72\u001b[0m             callbacks,\n\u001b[1;32m     73\u001b[0m             gc_after_trial,\n\u001b[1;32m     74\u001b[0m             reseed_sampler_rng\u001b[39m=\u001b[39;49m\u001b[39mFalse\u001b[39;49;00m,\n\u001b[1;32m     75\u001b[0m             time_start\u001b[39m=\u001b[39;49m\u001b[39mNone\u001b[39;49;00m,\n\u001b[1;32m     76\u001b[0m             progress_bar\u001b[39m=\u001b[39;49mprogress_bar,\n\u001b[1;32m     77\u001b[0m         )\n\u001b[1;32m     78\u001b[0m     \u001b[39melse\u001b[39;00m:\n\u001b[1;32m     79\u001b[0m         \u001b[39mif\u001b[39;00m n_jobs \u001b[39m==\u001b[39m \u001b[39m-\u001b[39m\u001b[39m1\u001b[39m:\n",
      "File \u001b[0;32m/Library/Frameworks/Python.framework/Versions/3.10/lib/python3.10/site-packages/optuna/study/_optimize.py:163\u001b[0m, in \u001b[0;36m_optimize_sequential\u001b[0;34m(study, func, n_trials, timeout, catch, callbacks, gc_after_trial, reseed_sampler_rng, time_start, progress_bar)\u001b[0m\n\u001b[1;32m    160\u001b[0m         \u001b[39mbreak\u001b[39;00m\n\u001b[1;32m    162\u001b[0m \u001b[39mtry\u001b[39;00m:\n\u001b[0;32m--> 163\u001b[0m     frozen_trial \u001b[39m=\u001b[39m _run_trial(study, func, catch)\n\u001b[1;32m    164\u001b[0m \u001b[39mfinally\u001b[39;00m:\n\u001b[1;32m    165\u001b[0m     \u001b[39m# The following line mitigates memory problems that can be occurred in some\u001b[39;00m\n\u001b[1;32m    166\u001b[0m     \u001b[39m# environments (e.g., services that use computing containers such as GitHub Actions).\u001b[39;00m\n\u001b[1;32m    167\u001b[0m     \u001b[39m# Please refer to the following PR for further details:\u001b[39;00m\n\u001b[1;32m    168\u001b[0m     \u001b[39m# https://github.com/optuna/optuna/pull/325.\u001b[39;00m\n\u001b[1;32m    169\u001b[0m     \u001b[39mif\u001b[39;00m gc_after_trial:\n",
      "File \u001b[0;32m/Library/Frameworks/Python.framework/Versions/3.10/lib/python3.10/site-packages/optuna/study/_optimize.py:251\u001b[0m, in \u001b[0;36m_run_trial\u001b[0;34m(study, func, catch)\u001b[0m\n\u001b[1;32m    244\u001b[0m         \u001b[39massert\u001b[39;00m \u001b[39mFalse\u001b[39;00m, \u001b[39m\"\u001b[39m\u001b[39mShould not reach.\u001b[39m\u001b[39m\"\u001b[39m\n\u001b[1;32m    246\u001b[0m \u001b[39mif\u001b[39;00m (\n\u001b[1;32m    247\u001b[0m     frozen_trial\u001b[39m.\u001b[39mstate \u001b[39m==\u001b[39m TrialState\u001b[39m.\u001b[39mFAIL\n\u001b[1;32m    248\u001b[0m     \u001b[39mand\u001b[39;00m func_err \u001b[39mis\u001b[39;00m \u001b[39mnot\u001b[39;00m \u001b[39mNone\u001b[39;00m\n\u001b[1;32m    249\u001b[0m     \u001b[39mand\u001b[39;00m \u001b[39mnot\u001b[39;00m \u001b[39misinstance\u001b[39m(func_err, catch)\n\u001b[1;32m    250\u001b[0m ):\n\u001b[0;32m--> 251\u001b[0m     \u001b[39mraise\u001b[39;00m func_err\n\u001b[1;32m    252\u001b[0m \u001b[39mreturn\u001b[39;00m frozen_trial\n",
      "File \u001b[0;32m/Library/Frameworks/Python.framework/Versions/3.10/lib/python3.10/site-packages/optuna/study/_optimize.py:200\u001b[0m, in \u001b[0;36m_run_trial\u001b[0;34m(study, func, catch)\u001b[0m\n\u001b[1;32m    198\u001b[0m \u001b[39mwith\u001b[39;00m get_heartbeat_thread(trial\u001b[39m.\u001b[39m_trial_id, study\u001b[39m.\u001b[39m_storage):\n\u001b[1;32m    199\u001b[0m     \u001b[39mtry\u001b[39;00m:\n\u001b[0;32m--> 200\u001b[0m         value_or_values \u001b[39m=\u001b[39m func(trial)\n\u001b[1;32m    201\u001b[0m     \u001b[39mexcept\u001b[39;00m exceptions\u001b[39m.\u001b[39mTrialPruned \u001b[39mas\u001b[39;00m e:\n\u001b[1;32m    202\u001b[0m         \u001b[39m# TODO(mamu): Handle multi-objective cases.\u001b[39;00m\n\u001b[1;32m    203\u001b[0m         state \u001b[39m=\u001b[39m TrialState\u001b[39m.\u001b[39mPRUNED\n",
      "\u001b[1;32m/Users/joaolousada/Documents/GitHub/zentest/exercise.ipynb Cell 61\u001b[0m in \u001b[0;36mobjective\u001b[0;34m(trial)\u001b[0m\n\u001b[1;32m      <a href='vscode-notebook-cell:/Users/joaolousada/Documents/GitHub/zentest/exercise.ipynb#Y114sZmlsZQ%3D%3D?line=5'>6</a>\u001b[0m _max_features \u001b[39m=\u001b[39m trial\u001b[39m.\u001b[39msuggest_int(\u001b[39m\"\u001b[39m\u001b[39mmax_features\u001b[39m\u001b[39m\"\u001b[39m, \u001b[39m10\u001b[39m, \u001b[39m50\u001b[39m)\n\u001b[1;32m      <a href='vscode-notebook-cell:/Users/joaolousada/Documents/GitHub/zentest/exercise.ipynb#Y114sZmlsZQ%3D%3D?line=7'>8</a>\u001b[0m rf \u001b[39m=\u001b[39m RandomForestRegressor(\n\u001b[1;32m      <a href='vscode-notebook-cell:/Users/joaolousada/Documents/GitHub/zentest/exercise.ipynb#Y114sZmlsZQ%3D%3D?line=8'>9</a>\u001b[0m  max_depth\u001b[39m=\u001b[39m_max_depth,\n\u001b[1;32m     <a href='vscode-notebook-cell:/Users/joaolousada/Documents/GitHub/zentest/exercise.ipynb#Y114sZmlsZQ%3D%3D?line=9'>10</a>\u001b[0m  min_samples_split\u001b[39m=\u001b[39m_min_samp_split,\n\u001b[0;32m   (...)\u001b[0m\n\u001b[1;32m     <a href='vscode-notebook-cell:/Users/joaolousada/Documents/GitHub/zentest/exercise.ipynb#Y114sZmlsZQ%3D%3D?line=14'>15</a>\u001b[0m  random_state\u001b[39m=\u001b[39m\u001b[39m42\u001b[39m,\n\u001b[1;32m     <a href='vscode-notebook-cell:/Users/joaolousada/Documents/GitHub/zentest/exercise.ipynb#Y114sZmlsZQ%3D%3D?line=15'>16</a>\u001b[0m )\n\u001b[0;32m---> <a href='vscode-notebook-cell:/Users/joaolousada/Documents/GitHub/zentest/exercise.ipynb#Y114sZmlsZQ%3D%3D?line=17'>18</a>\u001b[0m score \u001b[39m=\u001b[39m cross_val_score(\n\u001b[1;32m     <a href='vscode-notebook-cell:/Users/joaolousada/Documents/GitHub/zentest/exercise.ipynb#Y114sZmlsZQ%3D%3D?line=18'>19</a>\u001b[0m  rf, X_train, y_train, cv\u001b[39m=\u001b[39;49mcv, scoring\u001b[39m=\u001b[39;49m\u001b[39m\"\u001b[39;49m\u001b[39mneg_root_mean_squared_error\u001b[39;49m\u001b[39m\"\u001b[39;49m\n\u001b[1;32m     <a href='vscode-notebook-cell:/Users/joaolousada/Documents/GitHub/zentest/exercise.ipynb#Y114sZmlsZQ%3D%3D?line=19'>20</a>\u001b[0m )\u001b[39m.\u001b[39mmean()\n\u001b[1;32m     <a href='vscode-notebook-cell:/Users/joaolousada/Documents/GitHub/zentest/exercise.ipynb#Y114sZmlsZQ%3D%3D?line=20'>21</a>\u001b[0m \u001b[39mreturn\u001b[39;00m score\n",
      "File \u001b[0;32m/Library/Frameworks/Python.framework/Versions/3.10/lib/python3.10/site-packages/sklearn/model_selection/_validation.py:515\u001b[0m, in \u001b[0;36mcross_val_score\u001b[0;34m(estimator, X, y, groups, scoring, cv, n_jobs, verbose, fit_params, pre_dispatch, error_score)\u001b[0m\n\u001b[1;32m    512\u001b[0m \u001b[39m# To ensure multimetric format is not supported\u001b[39;00m\n\u001b[1;32m    513\u001b[0m scorer \u001b[39m=\u001b[39m check_scoring(estimator, scoring\u001b[39m=\u001b[39mscoring)\n\u001b[0;32m--> 515\u001b[0m cv_results \u001b[39m=\u001b[39m cross_validate(\n\u001b[1;32m    516\u001b[0m     estimator\u001b[39m=\u001b[39;49mestimator,\n\u001b[1;32m    517\u001b[0m     X\u001b[39m=\u001b[39;49mX,\n\u001b[1;32m    518\u001b[0m     y\u001b[39m=\u001b[39;49my,\n\u001b[1;32m    519\u001b[0m     groups\u001b[39m=\u001b[39;49mgroups,\n\u001b[1;32m    520\u001b[0m     scoring\u001b[39m=\u001b[39;49m{\u001b[39m\"\u001b[39;49m\u001b[39mscore\u001b[39;49m\u001b[39m\"\u001b[39;49m: scorer},\n\u001b[1;32m    521\u001b[0m     cv\u001b[39m=\u001b[39;49mcv,\n\u001b[1;32m    522\u001b[0m     n_jobs\u001b[39m=\u001b[39;49mn_jobs,\n\u001b[1;32m    523\u001b[0m     verbose\u001b[39m=\u001b[39;49mverbose,\n\u001b[1;32m    524\u001b[0m     fit_params\u001b[39m=\u001b[39;49mfit_params,\n\u001b[1;32m    525\u001b[0m     pre_dispatch\u001b[39m=\u001b[39;49mpre_dispatch,\n\u001b[1;32m    526\u001b[0m     error_score\u001b[39m=\u001b[39;49merror_score,\n\u001b[1;32m    527\u001b[0m )\n\u001b[1;32m    528\u001b[0m \u001b[39mreturn\u001b[39;00m cv_results[\u001b[39m\"\u001b[39m\u001b[39mtest_score\u001b[39m\u001b[39m\"\u001b[39m]\n",
      "File \u001b[0;32m/Library/Frameworks/Python.framework/Versions/3.10/lib/python3.10/site-packages/sklearn/model_selection/_validation.py:266\u001b[0m, in \u001b[0;36mcross_validate\u001b[0;34m(estimator, X, y, groups, scoring, cv, n_jobs, verbose, fit_params, pre_dispatch, return_train_score, return_estimator, error_score)\u001b[0m\n\u001b[1;32m    263\u001b[0m \u001b[39m# We clone the estimator to make sure that all the folds are\u001b[39;00m\n\u001b[1;32m    264\u001b[0m \u001b[39m# independent, and that it is pickle-able.\u001b[39;00m\n\u001b[1;32m    265\u001b[0m parallel \u001b[39m=\u001b[39m Parallel(n_jobs\u001b[39m=\u001b[39mn_jobs, verbose\u001b[39m=\u001b[39mverbose, pre_dispatch\u001b[39m=\u001b[39mpre_dispatch)\n\u001b[0;32m--> 266\u001b[0m results \u001b[39m=\u001b[39m parallel(\n\u001b[1;32m    267\u001b[0m     delayed(_fit_and_score)(\n\u001b[1;32m    268\u001b[0m         clone(estimator),\n\u001b[1;32m    269\u001b[0m         X,\n\u001b[1;32m    270\u001b[0m         y,\n\u001b[1;32m    271\u001b[0m         scorers,\n\u001b[1;32m    272\u001b[0m         train,\n\u001b[1;32m    273\u001b[0m         test,\n\u001b[1;32m    274\u001b[0m         verbose,\n\u001b[1;32m    275\u001b[0m         \u001b[39mNone\u001b[39;49;00m,\n\u001b[1;32m    276\u001b[0m         fit_params,\n\u001b[1;32m    277\u001b[0m         return_train_score\u001b[39m=\u001b[39;49mreturn_train_score,\n\u001b[1;32m    278\u001b[0m         return_times\u001b[39m=\u001b[39;49m\u001b[39mTrue\u001b[39;49;00m,\n\u001b[1;32m    279\u001b[0m         return_estimator\u001b[39m=\u001b[39;49mreturn_estimator,\n\u001b[1;32m    280\u001b[0m         error_score\u001b[39m=\u001b[39;49merror_score,\n\u001b[1;32m    281\u001b[0m     )\n\u001b[1;32m    282\u001b[0m     \u001b[39mfor\u001b[39;49;00m train, test \u001b[39min\u001b[39;49;00m cv\u001b[39m.\u001b[39;49msplit(X, y, groups)\n\u001b[1;32m    283\u001b[0m )\n\u001b[1;32m    285\u001b[0m _warn_or_raise_about_fit_failures(results, error_score)\n\u001b[1;32m    287\u001b[0m \u001b[39m# For callabe scoring, the return type is only know after calling. If the\u001b[39;00m\n\u001b[1;32m    288\u001b[0m \u001b[39m# return type is a dictionary, the error scores can now be inserted with\u001b[39;00m\n\u001b[1;32m    289\u001b[0m \u001b[39m# the correct key.\u001b[39;00m\n",
      "File \u001b[0;32m/Library/Frameworks/Python.framework/Versions/3.10/lib/python3.10/site-packages/sklearn/utils/parallel.py:63\u001b[0m, in \u001b[0;36mParallel.__call__\u001b[0;34m(self, iterable)\u001b[0m\n\u001b[1;32m     58\u001b[0m config \u001b[39m=\u001b[39m get_config()\n\u001b[1;32m     59\u001b[0m iterable_with_config \u001b[39m=\u001b[39m (\n\u001b[1;32m     60\u001b[0m     (_with_config(delayed_func, config), args, kwargs)\n\u001b[1;32m     61\u001b[0m     \u001b[39mfor\u001b[39;00m delayed_func, args, kwargs \u001b[39min\u001b[39;00m iterable\n\u001b[1;32m     62\u001b[0m )\n\u001b[0;32m---> 63\u001b[0m \u001b[39mreturn\u001b[39;00m \u001b[39msuper\u001b[39;49m()\u001b[39m.\u001b[39;49m\u001b[39m__call__\u001b[39;49m(iterable_with_config)\n",
      "File \u001b[0;32m/Library/Frameworks/Python.framework/Versions/3.10/lib/python3.10/site-packages/joblib/parallel.py:1088\u001b[0m, in \u001b[0;36mParallel.__call__\u001b[0;34m(self, iterable)\u001b[0m\n\u001b[1;32m   1085\u001b[0m \u001b[39mif\u001b[39;00m \u001b[39mself\u001b[39m\u001b[39m.\u001b[39mdispatch_one_batch(iterator):\n\u001b[1;32m   1086\u001b[0m     \u001b[39mself\u001b[39m\u001b[39m.\u001b[39m_iterating \u001b[39m=\u001b[39m \u001b[39mself\u001b[39m\u001b[39m.\u001b[39m_original_iterator \u001b[39mis\u001b[39;00m \u001b[39mnot\u001b[39;00m \u001b[39mNone\u001b[39;00m\n\u001b[0;32m-> 1088\u001b[0m \u001b[39mwhile\u001b[39;00m \u001b[39mself\u001b[39;49m\u001b[39m.\u001b[39;49mdispatch_one_batch(iterator):\n\u001b[1;32m   1089\u001b[0m     \u001b[39mpass\u001b[39;00m\n\u001b[1;32m   1091\u001b[0m \u001b[39mif\u001b[39;00m pre_dispatch \u001b[39m==\u001b[39m \u001b[39m\"\u001b[39m\u001b[39mall\u001b[39m\u001b[39m\"\u001b[39m \u001b[39mor\u001b[39;00m n_jobs \u001b[39m==\u001b[39m \u001b[39m1\u001b[39m:\n\u001b[1;32m   1092\u001b[0m     \u001b[39m# The iterable was consumed all at once by the above for loop.\u001b[39;00m\n\u001b[1;32m   1093\u001b[0m     \u001b[39m# No need to wait for async callbacks to trigger to\u001b[39;00m\n\u001b[1;32m   1094\u001b[0m     \u001b[39m# consumption.\u001b[39;00m\n",
      "File \u001b[0;32m/Library/Frameworks/Python.framework/Versions/3.10/lib/python3.10/site-packages/joblib/parallel.py:901\u001b[0m, in \u001b[0;36mParallel.dispatch_one_batch\u001b[0;34m(self, iterator)\u001b[0m\n\u001b[1;32m    899\u001b[0m     \u001b[39mreturn\u001b[39;00m \u001b[39mFalse\u001b[39;00m\n\u001b[1;32m    900\u001b[0m \u001b[39melse\u001b[39;00m:\n\u001b[0;32m--> 901\u001b[0m     \u001b[39mself\u001b[39;49m\u001b[39m.\u001b[39;49m_dispatch(tasks)\n\u001b[1;32m    902\u001b[0m     \u001b[39mreturn\u001b[39;00m \u001b[39mTrue\u001b[39;00m\n",
      "File \u001b[0;32m/Library/Frameworks/Python.framework/Versions/3.10/lib/python3.10/site-packages/joblib/parallel.py:819\u001b[0m, in \u001b[0;36mParallel._dispatch\u001b[0;34m(self, batch)\u001b[0m\n\u001b[1;32m    817\u001b[0m \u001b[39mwith\u001b[39;00m \u001b[39mself\u001b[39m\u001b[39m.\u001b[39m_lock:\n\u001b[1;32m    818\u001b[0m     job_idx \u001b[39m=\u001b[39m \u001b[39mlen\u001b[39m(\u001b[39mself\u001b[39m\u001b[39m.\u001b[39m_jobs)\n\u001b[0;32m--> 819\u001b[0m     job \u001b[39m=\u001b[39m \u001b[39mself\u001b[39;49m\u001b[39m.\u001b[39;49m_backend\u001b[39m.\u001b[39;49mapply_async(batch, callback\u001b[39m=\u001b[39;49mcb)\n\u001b[1;32m    820\u001b[0m     \u001b[39m# A job can complete so quickly than its callback is\u001b[39;00m\n\u001b[1;32m    821\u001b[0m     \u001b[39m# called before we get here, causing self._jobs to\u001b[39;00m\n\u001b[1;32m    822\u001b[0m     \u001b[39m# grow. To ensure correct results ordering, .insert is\u001b[39;00m\n\u001b[1;32m    823\u001b[0m     \u001b[39m# used (rather than .append) in the following line\u001b[39;00m\n\u001b[1;32m    824\u001b[0m     \u001b[39mself\u001b[39m\u001b[39m.\u001b[39m_jobs\u001b[39m.\u001b[39minsert(job_idx, job)\n",
      "File \u001b[0;32m/Library/Frameworks/Python.framework/Versions/3.10/lib/python3.10/site-packages/joblib/_parallel_backends.py:208\u001b[0m, in \u001b[0;36mSequentialBackend.apply_async\u001b[0;34m(self, func, callback)\u001b[0m\n\u001b[1;32m    206\u001b[0m \u001b[39mdef\u001b[39;00m \u001b[39mapply_async\u001b[39m(\u001b[39mself\u001b[39m, func, callback\u001b[39m=\u001b[39m\u001b[39mNone\u001b[39;00m):\n\u001b[1;32m    207\u001b[0m \u001b[39m    \u001b[39m\u001b[39m\"\"\"Schedule a func to be run\"\"\"\u001b[39;00m\n\u001b[0;32m--> 208\u001b[0m     result \u001b[39m=\u001b[39m ImmediateResult(func)\n\u001b[1;32m    209\u001b[0m     \u001b[39mif\u001b[39;00m callback:\n\u001b[1;32m    210\u001b[0m         callback(result)\n",
      "File \u001b[0;32m/Library/Frameworks/Python.framework/Versions/3.10/lib/python3.10/site-packages/joblib/_parallel_backends.py:597\u001b[0m, in \u001b[0;36mImmediateResult.__init__\u001b[0;34m(self, batch)\u001b[0m\n\u001b[1;32m    594\u001b[0m \u001b[39mdef\u001b[39;00m \u001b[39m__init__\u001b[39m(\u001b[39mself\u001b[39m, batch):\n\u001b[1;32m    595\u001b[0m     \u001b[39m# Don't delay the application, to avoid keeping the input\u001b[39;00m\n\u001b[1;32m    596\u001b[0m     \u001b[39m# arguments in memory\u001b[39;00m\n\u001b[0;32m--> 597\u001b[0m     \u001b[39mself\u001b[39m\u001b[39m.\u001b[39mresults \u001b[39m=\u001b[39m batch()\n",
      "File \u001b[0;32m/Library/Frameworks/Python.framework/Versions/3.10/lib/python3.10/site-packages/joblib/parallel.py:288\u001b[0m, in \u001b[0;36mBatchedCalls.__call__\u001b[0;34m(self)\u001b[0m\n\u001b[1;32m    284\u001b[0m \u001b[39mdef\u001b[39;00m \u001b[39m__call__\u001b[39m(\u001b[39mself\u001b[39m):\n\u001b[1;32m    285\u001b[0m     \u001b[39m# Set the default nested backend to self._backend but do not set the\u001b[39;00m\n\u001b[1;32m    286\u001b[0m     \u001b[39m# change the default number of processes to -1\u001b[39;00m\n\u001b[1;32m    287\u001b[0m     \u001b[39mwith\u001b[39;00m parallel_backend(\u001b[39mself\u001b[39m\u001b[39m.\u001b[39m_backend, n_jobs\u001b[39m=\u001b[39m\u001b[39mself\u001b[39m\u001b[39m.\u001b[39m_n_jobs):\n\u001b[0;32m--> 288\u001b[0m         \u001b[39mreturn\u001b[39;00m [func(\u001b[39m*\u001b[39margs, \u001b[39m*\u001b[39m\u001b[39m*\u001b[39mkwargs)\n\u001b[1;32m    289\u001b[0m                 \u001b[39mfor\u001b[39;00m func, args, kwargs \u001b[39min\u001b[39;00m \u001b[39mself\u001b[39m\u001b[39m.\u001b[39mitems]\n",
      "File \u001b[0;32m/Library/Frameworks/Python.framework/Versions/3.10/lib/python3.10/site-packages/joblib/parallel.py:288\u001b[0m, in \u001b[0;36m<listcomp>\u001b[0;34m(.0)\u001b[0m\n\u001b[1;32m    284\u001b[0m \u001b[39mdef\u001b[39;00m \u001b[39m__call__\u001b[39m(\u001b[39mself\u001b[39m):\n\u001b[1;32m    285\u001b[0m     \u001b[39m# Set the default nested backend to self._backend but do not set the\u001b[39;00m\n\u001b[1;32m    286\u001b[0m     \u001b[39m# change the default number of processes to -1\u001b[39;00m\n\u001b[1;32m    287\u001b[0m     \u001b[39mwith\u001b[39;00m parallel_backend(\u001b[39mself\u001b[39m\u001b[39m.\u001b[39m_backend, n_jobs\u001b[39m=\u001b[39m\u001b[39mself\u001b[39m\u001b[39m.\u001b[39m_n_jobs):\n\u001b[0;32m--> 288\u001b[0m         \u001b[39mreturn\u001b[39;00m [func(\u001b[39m*\u001b[39;49margs, \u001b[39m*\u001b[39;49m\u001b[39m*\u001b[39;49mkwargs)\n\u001b[1;32m    289\u001b[0m                 \u001b[39mfor\u001b[39;00m func, args, kwargs \u001b[39min\u001b[39;00m \u001b[39mself\u001b[39m\u001b[39m.\u001b[39mitems]\n",
      "File \u001b[0;32m/Library/Frameworks/Python.framework/Versions/3.10/lib/python3.10/site-packages/sklearn/utils/parallel.py:123\u001b[0m, in \u001b[0;36m_FuncWrapper.__call__\u001b[0;34m(self, *args, **kwargs)\u001b[0m\n\u001b[1;32m    121\u001b[0m     config \u001b[39m=\u001b[39m {}\n\u001b[1;32m    122\u001b[0m \u001b[39mwith\u001b[39;00m config_context(\u001b[39m*\u001b[39m\u001b[39m*\u001b[39mconfig):\n\u001b[0;32m--> 123\u001b[0m     \u001b[39mreturn\u001b[39;00m \u001b[39mself\u001b[39;49m\u001b[39m.\u001b[39;49mfunction(\u001b[39m*\u001b[39;49margs, \u001b[39m*\u001b[39;49m\u001b[39m*\u001b[39;49mkwargs)\n",
      "File \u001b[0;32m/Library/Frameworks/Python.framework/Versions/3.10/lib/python3.10/site-packages/sklearn/model_selection/_validation.py:686\u001b[0m, in \u001b[0;36m_fit_and_score\u001b[0;34m(estimator, X, y, scorer, train, test, verbose, parameters, fit_params, return_train_score, return_parameters, return_n_test_samples, return_times, return_estimator, split_progress, candidate_progress, error_score)\u001b[0m\n\u001b[1;32m    684\u001b[0m         estimator\u001b[39m.\u001b[39mfit(X_train, \u001b[39m*\u001b[39m\u001b[39m*\u001b[39mfit_params)\n\u001b[1;32m    685\u001b[0m     \u001b[39melse\u001b[39;00m:\n\u001b[0;32m--> 686\u001b[0m         estimator\u001b[39m.\u001b[39;49mfit(X_train, y_train, \u001b[39m*\u001b[39;49m\u001b[39m*\u001b[39;49mfit_params)\n\u001b[1;32m    688\u001b[0m \u001b[39mexcept\u001b[39;00m \u001b[39mException\u001b[39;00m:\n\u001b[1;32m    689\u001b[0m     \u001b[39m# Note fit time as time until error\u001b[39;00m\n\u001b[1;32m    690\u001b[0m     fit_time \u001b[39m=\u001b[39m time\u001b[39m.\u001b[39mtime() \u001b[39m-\u001b[39m start_time\n",
      "File \u001b[0;32m/Library/Frameworks/Python.framework/Versions/3.10/lib/python3.10/site-packages/sklearn/ensemble/_forest.py:473\u001b[0m, in \u001b[0;36mBaseForest.fit\u001b[0;34m(self, X, y, sample_weight)\u001b[0m\n\u001b[1;32m    462\u001b[0m trees \u001b[39m=\u001b[39m [\n\u001b[1;32m    463\u001b[0m     \u001b[39mself\u001b[39m\u001b[39m.\u001b[39m_make_estimator(append\u001b[39m=\u001b[39m\u001b[39mFalse\u001b[39;00m, random_state\u001b[39m=\u001b[39mrandom_state)\n\u001b[1;32m    464\u001b[0m     \u001b[39mfor\u001b[39;00m i \u001b[39min\u001b[39;00m \u001b[39mrange\u001b[39m(n_more_estimators)\n\u001b[1;32m    465\u001b[0m ]\n\u001b[1;32m    467\u001b[0m \u001b[39m# Parallel loop: we prefer the threading backend as the Cython code\u001b[39;00m\n\u001b[1;32m    468\u001b[0m \u001b[39m# for fitting the trees is internally releasing the Python GIL\u001b[39;00m\n\u001b[1;32m    469\u001b[0m \u001b[39m# making threading more efficient than multiprocessing in\u001b[39;00m\n\u001b[1;32m    470\u001b[0m \u001b[39m# that case. However, for joblib 0.12+ we respect any\u001b[39;00m\n\u001b[1;32m    471\u001b[0m \u001b[39m# parallel_backend contexts set at a higher level,\u001b[39;00m\n\u001b[1;32m    472\u001b[0m \u001b[39m# since correctness does not rely on using threads.\u001b[39;00m\n\u001b[0;32m--> 473\u001b[0m trees \u001b[39m=\u001b[39m Parallel(\n\u001b[1;32m    474\u001b[0m     n_jobs\u001b[39m=\u001b[39;49m\u001b[39mself\u001b[39;49m\u001b[39m.\u001b[39;49mn_jobs,\n\u001b[1;32m    475\u001b[0m     verbose\u001b[39m=\u001b[39;49m\u001b[39mself\u001b[39;49m\u001b[39m.\u001b[39;49mverbose,\n\u001b[1;32m    476\u001b[0m     prefer\u001b[39m=\u001b[39;49m\u001b[39m\"\u001b[39;49m\u001b[39mthreads\u001b[39;49m\u001b[39m\"\u001b[39;49m,\n\u001b[1;32m    477\u001b[0m )(\n\u001b[1;32m    478\u001b[0m     delayed(_parallel_build_trees)(\n\u001b[1;32m    479\u001b[0m         t,\n\u001b[1;32m    480\u001b[0m         \u001b[39mself\u001b[39;49m\u001b[39m.\u001b[39;49mbootstrap,\n\u001b[1;32m    481\u001b[0m         X,\n\u001b[1;32m    482\u001b[0m         y,\n\u001b[1;32m    483\u001b[0m         sample_weight,\n\u001b[1;32m    484\u001b[0m         i,\n\u001b[1;32m    485\u001b[0m         \u001b[39mlen\u001b[39;49m(trees),\n\u001b[1;32m    486\u001b[0m         verbose\u001b[39m=\u001b[39;49m\u001b[39mself\u001b[39;49m\u001b[39m.\u001b[39;49mverbose,\n\u001b[1;32m    487\u001b[0m         class_weight\u001b[39m=\u001b[39;49m\u001b[39mself\u001b[39;49m\u001b[39m.\u001b[39;49mclass_weight,\n\u001b[1;32m    488\u001b[0m         n_samples_bootstrap\u001b[39m=\u001b[39;49mn_samples_bootstrap,\n\u001b[1;32m    489\u001b[0m     )\n\u001b[1;32m    490\u001b[0m     \u001b[39mfor\u001b[39;49;00m i, t \u001b[39min\u001b[39;49;00m \u001b[39menumerate\u001b[39;49m(trees)\n\u001b[1;32m    491\u001b[0m )\n\u001b[1;32m    493\u001b[0m \u001b[39m# Collect newly grown trees\u001b[39;00m\n\u001b[1;32m    494\u001b[0m \u001b[39mself\u001b[39m\u001b[39m.\u001b[39mestimators_\u001b[39m.\u001b[39mextend(trees)\n",
      "File \u001b[0;32m/Library/Frameworks/Python.framework/Versions/3.10/lib/python3.10/site-packages/sklearn/utils/parallel.py:63\u001b[0m, in \u001b[0;36mParallel.__call__\u001b[0;34m(self, iterable)\u001b[0m\n\u001b[1;32m     58\u001b[0m config \u001b[39m=\u001b[39m get_config()\n\u001b[1;32m     59\u001b[0m iterable_with_config \u001b[39m=\u001b[39m (\n\u001b[1;32m     60\u001b[0m     (_with_config(delayed_func, config), args, kwargs)\n\u001b[1;32m     61\u001b[0m     \u001b[39mfor\u001b[39;00m delayed_func, args, kwargs \u001b[39min\u001b[39;00m iterable\n\u001b[1;32m     62\u001b[0m )\n\u001b[0;32m---> 63\u001b[0m \u001b[39mreturn\u001b[39;00m \u001b[39msuper\u001b[39;49m()\u001b[39m.\u001b[39;49m\u001b[39m__call__\u001b[39;49m(iterable_with_config)\n",
      "File \u001b[0;32m/Library/Frameworks/Python.framework/Versions/3.10/lib/python3.10/site-packages/joblib/parallel.py:1098\u001b[0m, in \u001b[0;36mParallel.__call__\u001b[0;34m(self, iterable)\u001b[0m\n\u001b[1;32m   1095\u001b[0m     \u001b[39mself\u001b[39m\u001b[39m.\u001b[39m_iterating \u001b[39m=\u001b[39m \u001b[39mFalse\u001b[39;00m\n\u001b[1;32m   1097\u001b[0m \u001b[39mwith\u001b[39;00m \u001b[39mself\u001b[39m\u001b[39m.\u001b[39m_backend\u001b[39m.\u001b[39mretrieval_context():\n\u001b[0;32m-> 1098\u001b[0m     \u001b[39mself\u001b[39;49m\u001b[39m.\u001b[39;49mretrieve()\n\u001b[1;32m   1099\u001b[0m \u001b[39m# Make sure that we get a last message telling us we are done\u001b[39;00m\n\u001b[1;32m   1100\u001b[0m elapsed_time \u001b[39m=\u001b[39m time\u001b[39m.\u001b[39mtime() \u001b[39m-\u001b[39m \u001b[39mself\u001b[39m\u001b[39m.\u001b[39m_start_time\n",
      "File \u001b[0;32m/Library/Frameworks/Python.framework/Versions/3.10/lib/python3.10/site-packages/joblib/parallel.py:975\u001b[0m, in \u001b[0;36mParallel.retrieve\u001b[0;34m(self)\u001b[0m\n\u001b[1;32m    973\u001b[0m \u001b[39mtry\u001b[39;00m:\n\u001b[1;32m    974\u001b[0m     \u001b[39mif\u001b[39;00m \u001b[39mgetattr\u001b[39m(\u001b[39mself\u001b[39m\u001b[39m.\u001b[39m_backend, \u001b[39m'\u001b[39m\u001b[39msupports_timeout\u001b[39m\u001b[39m'\u001b[39m, \u001b[39mFalse\u001b[39;00m):\n\u001b[0;32m--> 975\u001b[0m         \u001b[39mself\u001b[39m\u001b[39m.\u001b[39m_output\u001b[39m.\u001b[39mextend(job\u001b[39m.\u001b[39;49mget(timeout\u001b[39m=\u001b[39;49m\u001b[39mself\u001b[39;49m\u001b[39m.\u001b[39;49mtimeout))\n\u001b[1;32m    976\u001b[0m     \u001b[39melse\u001b[39;00m:\n\u001b[1;32m    977\u001b[0m         \u001b[39mself\u001b[39m\u001b[39m.\u001b[39m_output\u001b[39m.\u001b[39mextend(job\u001b[39m.\u001b[39mget())\n",
      "File \u001b[0;32m/Library/Frameworks/Python.framework/Versions/3.10/lib/python3.10/site-packages/joblib/_parallel_backends.py:567\u001b[0m, in \u001b[0;36mLokyBackend.wrap_future_result\u001b[0;34m(future, timeout)\u001b[0m\n\u001b[1;32m    564\u001b[0m \u001b[39m\u001b[39m\u001b[39m\"\"\"Wrapper for Future.result to implement the same behaviour as\u001b[39;00m\n\u001b[1;32m    565\u001b[0m \u001b[39mAsyncResults.get from multiprocessing.\"\"\"\u001b[39;00m\n\u001b[1;32m    566\u001b[0m \u001b[39mtry\u001b[39;00m:\n\u001b[0;32m--> 567\u001b[0m     \u001b[39mreturn\u001b[39;00m future\u001b[39m.\u001b[39;49mresult(timeout\u001b[39m=\u001b[39;49mtimeout)\n\u001b[1;32m    568\u001b[0m \u001b[39mexcept\u001b[39;00m CfTimeoutError \u001b[39mas\u001b[39;00m e:\n\u001b[1;32m    569\u001b[0m     \u001b[39mraise\u001b[39;00m \u001b[39mTimeoutError\u001b[39;00m \u001b[39mfrom\u001b[39;00m \u001b[39me\u001b[39;00m\n",
      "File \u001b[0;32m/Library/Frameworks/Python.framework/Versions/3.10/lib/python3.10/concurrent/futures/_base.py:441\u001b[0m, in \u001b[0;36mFuture.result\u001b[0;34m(self, timeout)\u001b[0m\n\u001b[1;32m    438\u001b[0m \u001b[39melif\u001b[39;00m \u001b[39mself\u001b[39m\u001b[39m.\u001b[39m_state \u001b[39m==\u001b[39m FINISHED:\n\u001b[1;32m    439\u001b[0m     \u001b[39mreturn\u001b[39;00m \u001b[39mself\u001b[39m\u001b[39m.\u001b[39m__get_result()\n\u001b[0;32m--> 441\u001b[0m \u001b[39mself\u001b[39;49m\u001b[39m.\u001b[39;49m_condition\u001b[39m.\u001b[39;49mwait(timeout)\n\u001b[1;32m    443\u001b[0m \u001b[39mif\u001b[39;00m \u001b[39mself\u001b[39m\u001b[39m.\u001b[39m_state \u001b[39min\u001b[39;00m [CANCELLED, CANCELLED_AND_NOTIFIED]:\n\u001b[1;32m    444\u001b[0m     \u001b[39mraise\u001b[39;00m CancelledError()\n",
      "File \u001b[0;32m/Library/Frameworks/Python.framework/Versions/3.10/lib/python3.10/threading.py:320\u001b[0m, in \u001b[0;36mCondition.wait\u001b[0;34m(self, timeout)\u001b[0m\n\u001b[1;32m    318\u001b[0m \u001b[39mtry\u001b[39;00m:    \u001b[39m# restore state no matter what (e.g., KeyboardInterrupt)\u001b[39;00m\n\u001b[1;32m    319\u001b[0m     \u001b[39mif\u001b[39;00m timeout \u001b[39mis\u001b[39;00m \u001b[39mNone\u001b[39;00m:\n\u001b[0;32m--> 320\u001b[0m         waiter\u001b[39m.\u001b[39;49macquire()\n\u001b[1;32m    321\u001b[0m         gotit \u001b[39m=\u001b[39m \u001b[39mTrue\u001b[39;00m\n\u001b[1;32m    322\u001b[0m     \u001b[39melse\u001b[39;00m:\n",
      "\u001b[0;31mKeyboardInterrupt\u001b[0m: "
     ]
    }
   ],
   "source": [
    "def objective(trial):\n",
    "    _n_estimators = trial.suggest_int(\"n_estimators\", 50, 200)\n",
    "    _max_depth = trial.suggest_int(\"max_depth\", 5, 12)\n",
    "    _min_samp_split = trial.suggest_int(\"min_samples_split\", 2, 8)\n",
    "    _min_samples_leaf = trial.suggest_int(\"min_samples_leaf\", 3, 6)\n",
    "    _max_features = trial.suggest_int(\"max_features\", 10, 50)\n",
    "\n",
    "    rf = RandomForestRegressor(\n",
    "     max_depth=_max_depth,\n",
    "     min_samples_split=_min_samp_split,\n",
    "     min_samples_leaf=_min_samples_leaf,\n",
    "     max_features=_max_features,\n",
    "     n_estimators=_n_estimators,\n",
    "     n_jobs=-1,\n",
    "     random_state=42,\n",
    "    )\n",
    "\n",
    "    score = cross_val_score(\n",
    "     rf, X_train, y_train, cv=cv, scoring=\"neg_root_mean_squared_error\"\n",
    "    ).mean()\n",
    "    return score\n",
    "\n",
    "\n",
    "optuna.logging.set_verbosity(0)\n",
    "\n",
    "study = optuna.create_study(direction=\"maximize\")\n",
    "study.optimize(objective, n_trials=10)\n",
    "\n",
    "rf_params = study.best_params\n",
    "rf_best_score = study.best_value\n",
    "print(f\"Best score:{rf_best_score} \\nOptimized parameters: {rf_params}\")"
   ]
  },
  {
   "cell_type": "code",
   "execution_count": 98,
   "metadata": {},
   "outputs": [],
   "source": [
    "rf_params = {\n",
    "    'max_depth': 10, \n",
    "    'min_samples_split': 8,\n",
    "    'min_samples_leaf': 4,\n",
    "    'max_features': 27,\n",
    "    \"n_estimators\": 122\n",
    "}"
   ]
  },
  {
   "cell_type": "code",
   "execution_count": 99,
   "metadata": {},
   "outputs": [],
   "source": [
    "rf = RandomForestRegressor(**rf_params)\n",
    "\n",
    "stack_scores = cross_val_score(\n",
    "    rf, X_train, y_train, cv=cv, scoring=\"neg_root_mean_squared_error\"\n",
    ")\n",
    "\n",
    "rf.fit(X_train.values, y_train.values)\n",
    "y_pred = rf.predict(X_test)"
   ]
  },
  {
   "cell_type": "code",
   "execution_count": 100,
   "metadata": {},
   "outputs": [
    {
     "data": {
      "text/plain": [
       "<matplotlib.collections.PathCollection at 0x14080e710>"
      ]
     },
     "execution_count": 100,
     "metadata": {},
     "output_type": "execute_result"
    },
    {
     "data": {
      "image/png": "[encoded data removed]",
      "text/plain": [
       "<Figure size 432x432 with 1 Axes>"
      ]
     },
     "metadata": {},
     "output_type": "display_data"
    }
   ],
   "source": [
    "plt.scatter(y_test, (y_pred))"
   ]
  },
  {
   "cell_type": "code",
   "execution_count": 101,
   "metadata": {},
   "outputs": [
    {
     "name": "stdout",
     "output_type": "stream",
     "text": [
      "RMSE of rf on test set: 1.90\n",
      "R2 of rf on test set: 0.65\n"
     ]
    },
    {
     "data": {
      "text/plain": [
       "(array([2.0000e+01, 8.9000e+01, 1.4400e+03, 8.4520e+03, 2.1124e+04,\n",
       "        1.3010e+04, 2.9190e+03, 8.1000e+02, 8.2000e+01, 3.0000e+00]),\n",
       " array([-9.44589054691626, -7.431348890759546, -5.416807234602833,\n",
       "        -3.4022655784461193, -1.387723922289405, 0.6268177338673091,\n",
       "        2.6413593900240215, 4.655901046180736, 6.67044270233745,\n",
       "        8.684984358494162, 10.699526014650878], dtype=object),\n",
       " <BarContainer object of 10 artists>)"
      ]
     },
     "execution_count": 101,
     "metadata": {},
     "output_type": "execute_result"
    },
    {
     "data": {
      "image/png": "[encoded data removed]",
      "text/plain": [
       "<Figure size 432x432 with 1 Axes>"
      ]
     },
     "metadata": {},
     "output_type": "display_data"
    }
   ],
   "source": [
    "print('RMSE of rf on test set: {:.2f}'.format(np.sqrt(mean_squared_error(y_test, y_pred))))\n",
    "print('R2 of rf on test set: {:.2f}'.format(r2_score(y_test, y_pred)))\n",
    "plt.hist(y_test - y_pred) "
   ]
  },
  {
   "cell_type": "code",
   "execution_count": 102,
   "metadata": {},
   "outputs": [
    {
     "data": {
      "text/plain": [
       "<AxesSubplot:xlabel='preds', ylabel='residuals'>"
      ]
     },
     "execution_count": 102,
     "metadata": {},
     "output_type": "execute_result"
    },
    {
     "data": {
      "image/png": "[encoded data removed]",
      "text/plain": [
       "<Figure size 432x432 with 1 Axes>"
      ]
     },
     "metadata": {},
     "output_type": "display_data"
    }
   ],
   "source": [
    "#let's look at the residuals as well:\n",
    "plt.rcParams['figure.figsize'] = (6.0, 6.0)\n",
    "\n",
    "preds = pd.DataFrame({\"preds\": y_pred, \"true\": y_test})\n",
    "preds[\"residuals\"] = preds[\"true\"] - preds[\"preds\"]\n",
    "preds.plot(x = \"preds\", y = \"residuals\",kind = \"scatter\")"
   ]
  },
  {
   "cell_type": "markdown",
   "metadata": {},
   "source": [
    "## Classification"
   ]
  },
  {
   "cell_type": "code",
   "execution_count": 49,
   "metadata": {},
   "outputs": [
    {
     "data": {
      "text/html": [
       "<div>\n",
       "<style scoped>\n",
       "    .dataframe tbody tr th:only-of-type {\n",
       "        vertical-align: middle;\n",
       "    }\n",
       "\n",
       "    .dataframe tbody tr th {\n",
       "        vertical-align: top;\n",
       "    }\n",
       "\n",
       "    .dataframe thead th {\n",
       "        text-align: right;\n",
       "    }\n",
       "</style>\n",
       "<table border=\"1\" class=\"dataframe\">\n",
       "  <thead>\n",
       "    <tr style=\"text-align: right;\">\n",
       "      <th></th>\n",
       "      <th>EmployeeID</th>\n",
       "      <th>TicketChannel</th>\n",
       "      <th>TicketGroup</th>\n",
       "      <th>ZendeskPlan</th>\n",
       "      <th>DayTicketSolved</th>\n",
       "      <th>AssigneeTier</th>\n",
       "      <th>FirstReplyTime</th>\n",
       "      <th>FullResolutionTime</th>\n",
       "      <th>NumAgentComments</th>\n",
       "      <th>NumPublicComments</th>\n",
       "      <th>TicketEscalated</th>\n",
       "      <th>WorkerLocation</th>\n",
       "      <th>Worker_Type</th>\n",
       "      <th>WorkerTenure</th>\n",
       "      <th>NrOpenTickets</th>\n",
       "      <th>TicketCreatedMonth</th>\n",
       "      <th>HasResponded</th>\n",
       "      <th>Workload</th>\n",
       "    </tr>\n",
       "  </thead>\n",
       "  <tbody>\n",
       "    <tr>\n",
       "      <th>924</th>\n",
       "      <td>688</td>\n",
       "      <td>1</td>\n",
       "      <td>26</td>\n",
       "      <td>7</td>\n",
       "      <td>0</td>\n",
       "      <td>0</td>\n",
       "      <td>0.0</td>\n",
       "      <td>9.496271</td>\n",
       "      <td>1</td>\n",
       "      <td>0</td>\n",
       "      <td>0</td>\n",
       "      <td>5</td>\n",
       "      <td>1</td>\n",
       "      <td>962</td>\n",
       "      <td>4</td>\n",
       "      <td>1</td>\n",
       "      <td>1</td>\n",
       "      <td>0</td>\n",
       "    </tr>\n",
       "    <tr>\n",
       "      <th>925</th>\n",
       "      <td>1463</td>\n",
       "      <td>1</td>\n",
       "      <td>26</td>\n",
       "      <td>7</td>\n",
       "      <td>0</td>\n",
       "      <td>0</td>\n",
       "      <td>0.0</td>\n",
       "      <td>1.609438</td>\n",
       "      <td>0</td>\n",
       "      <td>0</td>\n",
       "      <td>0</td>\n",
       "      <td>5</td>\n",
       "      <td>1</td>\n",
       "      <td>522</td>\n",
       "      <td>2</td>\n",
       "      <td>1</td>\n",
       "      <td>0</td>\n",
       "      <td>0</td>\n",
       "    </tr>\n",
       "    <tr>\n",
       "      <th>926</th>\n",
       "      <td>1463</td>\n",
       "      <td>1</td>\n",
       "      <td>26</td>\n",
       "      <td>7</td>\n",
       "      <td>0</td>\n",
       "      <td>0</td>\n",
       "      <td>0.0</td>\n",
       "      <td>3.583519</td>\n",
       "      <td>0</td>\n",
       "      <td>0</td>\n",
       "      <td>0</td>\n",
       "      <td>5</td>\n",
       "      <td>1</td>\n",
       "      <td>522</td>\n",
       "      <td>2</td>\n",
       "      <td>1</td>\n",
       "      <td>0</td>\n",
       "      <td>0</td>\n",
       "    </tr>\n",
       "    <tr>\n",
       "      <th>927</th>\n",
       "      <td>1463</td>\n",
       "      <td>1</td>\n",
       "      <td>26</td>\n",
       "      <td>7</td>\n",
       "      <td>0</td>\n",
       "      <td>0</td>\n",
       "      <td>0.0</td>\n",
       "      <td>0.0</td>\n",
       "      <td>0</td>\n",
       "      <td>0</td>\n",
       "      <td>0</td>\n",
       "      <td>5</td>\n",
       "      <td>1</td>\n",
       "      <td>746</td>\n",
       "      <td>3</td>\n",
       "      <td>8</td>\n",
       "      <td>0</td>\n",
       "      <td>0</td>\n",
       "    </tr>\n",
       "    <tr>\n",
       "      <th>928</th>\n",
       "      <td>1463</td>\n",
       "      <td>1</td>\n",
       "      <td>26</td>\n",
       "      <td>7</td>\n",
       "      <td>0</td>\n",
       "      <td>0</td>\n",
       "      <td>0.0</td>\n",
       "      <td>1.098612</td>\n",
       "      <td>0</td>\n",
       "      <td>0</td>\n",
       "      <td>0</td>\n",
       "      <td>5</td>\n",
       "      <td>1</td>\n",
       "      <td>606</td>\n",
       "      <td>0</td>\n",
       "      <td>3</td>\n",
       "      <td>0</td>\n",
       "      <td>0</td>\n",
       "    </tr>\n",
       "  </tbody>\n",
       "</table>\n",
       "</div>"
      ],
      "text/plain": [
       "     EmployeeID  TicketChannel  TicketGroup  ZendeskPlan  DayTicketSolved  \\\n",
       "924         688              1           26            7                0   \n",
       "925        1463              1           26            7                0   \n",
       "926        1463              1           26            7                0   \n",
       "927        1463              1           26            7                0   \n",
       "928        1463              1           26            7                0   \n",
       "\n",
       "     AssigneeTier  FirstReplyTime  FullResolutionTime  NumAgentComments  \\\n",
       "924             0             0.0            9.496271                 1   \n",
       "925             0             0.0            1.609438                 0   \n",
       "926             0             0.0            3.583519                 0   \n",
       "927             0             0.0                 0.0                 0   \n",
       "928             0             0.0            1.098612                 0   \n",
       "\n",
       "     NumPublicComments  TicketEscalated  WorkerLocation  Worker_Type  \\\n",
       "924                  0                0               5            1   \n",
       "925                  0                0               5            1   \n",
       "926                  0                0               5            1   \n",
       "927                  0                0               5            1   \n",
       "928                  0                0               5            1   \n",
       "\n",
       "     WorkerTenure  NrOpenTickets  TicketCreatedMonth  HasResponded  Workload  \n",
       "924           962              4                   1             1         0  \n",
       "925           522              2                   1             0         0  \n",
       "926           522              2                   1             0         0  \n",
       "927           746              3                   8             0         0  \n",
       "928           606              0                   3             0         0  "
      ]
     },
     "execution_count": 49,
     "metadata": {},
     "output_type": "execute_result"
    }
   ],
   "source": [
    "df.head()"
   ]
  },
  {
   "cell_type": "code",
   "execution_count": 68,
   "metadata": {},
   "outputs": [],
   "source": [
    "from sklearn.metrics import mean_squared_error\n",
    "\n",
    "from sklearn.linear_model import LogisticRegression\n",
    "from sklearn.svm import LinearSVC\n",
    "from sklearn.ensemble import RandomForestClassifier\n",
    "from sklearn.dummy import DummyClassifier\n",
    "\n",
    "\n",
    "from sklearn.pipeline import make_pipeline\n",
    "from sklearn.preprocessing import StandardScaler\n",
    "from sklearn.ensemble import StackingClassifier\n",
    "from sklearn.base import BaseEstimator, TransformerMixin, RegressorMixin, clone\n",
    "from sklearn.model_selection import KFold, cross_val_score, train_test_split\n",
    "from sklearn.metrics import roc_auc_score, auc, roc_curve, precision_score, recall_score, f1_score, accuracy_score, confusion_matrix\n",
    "import optuna\n",
    "\n",
    "cv = KFold(n_splits=4)"
   ]
  },
  {
   "cell_type": "code",
   "execution_count": 65,
   "metadata": {},
   "outputs": [],
   "source": [
    "df_model = df.copy()\n",
    "\n",
    "y = df_model.pop('HasResponded')\n",
    "X = df_model\n",
    "X_train, X_test, y_train, y_test = train_test_split(X, y, test_size=0.2, random_state=0)"
   ]
  },
  {
   "cell_type": "code",
   "execution_count": 59,
   "metadata": {},
   "outputs": [
    {
     "name": "stdout",
     "output_type": "stream",
     "text": [
      "Random under-sampling:\n",
      "0    155283\n",
      "1     36509\n",
      "Name: HasResponded, dtype: int64\n"
     ]
    },
    {
     "data": {
      "image/png": "[encoded data removed]",
      "text/plain": [
       "<Figure size 432x288 with 1 Axes>"
      ]
     },
     "metadata": {},
     "output_type": "display_data"
    }
   ],
   "source": [
    "print('Random under-sampling:')\n",
    "print(y_train.value_counts())\n",
    "\n",
    "y_train.value_counts().plot(kind='bar', title='Count (target)');"
   ]
  },
  {
   "cell_type": "code",
   "execution_count": 62,
   "metadata": {},
   "outputs": [
    {
     "name": "stdout",
     "output_type": "stream",
     "text": [
      "Random under-sampling:\n",
      "0    36509\n",
      "1    36509\n",
      "Name: HasResponded, dtype: int64\n"
     ]
    },
    {
     "data": {
      "image/png": "[encoded data removed]",
      "text/plain": [
       "<Figure size 432x288 with 1 Axes>"
      ]
     },
     "metadata": {},
     "output_type": "display_data"
    }
   ],
   "source": [
    "from imblearn.under_sampling import RandomUnderSampler\n",
    "rus = RandomUnderSampler()\n",
    "X_train, y_train  = rus.fit_resample(X_train, y_train)\n",
    "\n",
    "print('Random under-sampling:')\n",
    "print(y_train.value_counts())\n",
    "\n",
    "y_train.value_counts().plot(kind='bar', title='Count (target)');"
   ]
  },
  {
   "cell_type": "code",
   "execution_count": 63,
   "metadata": {},
   "outputs": [],
   "source": [
    "def baseline(train, test, target, model): \n",
    "    cv = KFold(n_splits=5)\n",
    "    \n",
    "    # Data Normalization\n",
    "    sc = StandardScaler()\n",
    "    train = sc.fit_transform(train)\n",
    "    test = sc.transform(test)\n",
    "\n",
    "    score = cross_val_score(model, train, target, cv=cv, scoring=\"roc_auc\")\n",
    "    print('%.3f' % score.mean())\n",
    "\n",
    "    model.fit(train, target)\n",
    "    predictions = model.predict(test)\n",
    "\n",
    "    return predictions"
   ]
  },
  {
   "cell_type": "markdown",
   "metadata": {},
   "source": [
    "#### Dummy Classifier"
   ]
  },
  {
   "cell_type": "code",
   "execution_count": 75,
   "metadata": {},
   "outputs": [
    {
     "name": "stdout",
     "output_type": "stream",
     "text": [
      "0.501\n",
      "[[31549  7355]\n",
      " [ 7258  1787]]\n",
      "Precision: 0.195\n",
      "Recall: 0.198\n",
      "F1: 0.197\n",
      "Accuracy: 0.695\n"
     ]
    }
   ],
   "source": [
    "dummy_clf = DummyClassifier(strategy=\"stratified\")\n",
    "y_pred = baseline(X_train, X_test, y_train, dummy_clf)\n",
    "\n",
    "#Get the confusion matrix\n",
    "cf_matrix = confusion_matrix(y_test, y_pred)\n",
    "print(cf_matrix)\n",
    "\n",
    "print('Precision: %.3f' % precision_score(y_test, y_pred))\n",
    "print('Recall: %.3f' % recall_score(y_test, y_pred))\n",
    "print('F1: %.3f' % f1_score(y_test, y_pred))\n",
    "print('Accuracy: %.3f' % accuracy_score(y_test, y_pred))"
   ]
  },
  {
   "cell_type": "code",
   "execution_count": 71,
   "metadata": {},
   "outputs": [
    {
     "name": "stdout",
     "output_type": "stream",
     "text": [
      "0.630\n",
      "[[23265 15639]\n",
      " [ 3643  5402]]\n",
      "Precision: 0.257\n",
      "Recall: 0.597\n",
      "F1: 0.359\n",
      "Accuracy: 0.598\n"
     ]
    }
   ],
   "source": [
    "lr = LogisticRegression(penalty='l2', class_weight='balanced')\n",
    "y_pred = baseline(X_train, X_test, y_train, lr)\n",
    "\n",
    "#Get the confusion matrix\n",
    "cf_matrix = confusion_matrix(y_test, y_pred)\n",
    "print(cf_matrix)\n",
    "\n",
    "print('Precision: %.3f' % precision_score(y_test, y_pred))\n",
    "print('Recall: %.3f' % recall_score(y_test, y_pred))\n",
    "print('F1: %.3f' % f1_score(y_test, y_pred))\n",
    "print('Accuracy: %.3f' % accuracy_score(y_test, y_pred))"
   ]
  },
  {
   "cell_type": "code",
   "execution_count": 55,
   "metadata": {},
   "outputs": [
    {
     "name": "stdout",
     "output_type": "stream",
     "text": [
      "0.688\n",
      "[[37411  1493]\n",
      " [ 8175   870]]\n",
      "Precision: 0.368\n",
      "Recall: 0.096\n",
      "F1: 0.153\n",
      "Accuracy: 0.798\n"
     ]
    }
   ],
   "source": [
    "rf = RandomForestClassifier()\n",
    "y_pred = baseline(X_train, X_test, y_train, rf)\n",
    "\n",
    "#Get the confusion matrix\n",
    "cf_matrix = confusion_matrix(y_test, y_pred)\n",
    "print(cf_matrix)\n",
    "\n",
    "print('Precision: %.3f' % precision_score(y_test, y_pred))\n",
    "print('Recall: %.3f' % recall_score(y_test, y_pred))\n",
    "print('F1: %.3f' % f1_score(y_test, y_pred))\n",
    "print('Accuracy: %.3f' % accuracy_score(y_test, y_pred))"
   ]
  },
  {
   "cell_type": "code",
   "execution_count": 57,
   "metadata": {},
   "outputs": [
    {
     "data": {
      "text/plain": [
       "array([0.06870891, 0.02503742, 0.01992301, 0.05704075, 0.04992943,\n",
       "       0.00593143, 0.10825788, 0.19826642, 0.03941673, 0.04626658,\n",
       "       0.00506565, 0.02448688, 0.00025577, 0.12945473, 0.08457512,\n",
       "       0.05985479, 0.07752849])"
      ]
     },
     "execution_count": 57,
     "metadata": {},
     "output_type": "execute_result"
    }
   ],
   "source": [
    "rf.feature_importances_"
   ]
  },
  {
   "cell_type": "markdown",
   "metadata": {},
   "source": [
    "## Improvements"
   ]
  },
  {
   "cell_type": "code",
   "execution_count": 76,
   "metadata": {},
   "outputs": [],
   "source": [
    "from kneed import KneeLocator\n",
    "from sklearn.datasets import make_blobs\n",
    "from sklearn.cluster import KMeans\n",
    "from sklearn.metrics import silhouette_score\n",
    "from sklearn.preprocessing import StandardScaler\n",
    "\n",
    "kmeans = KMeans(\n",
    "    init=\"random\",\n",
    "    n_clusters=3,\n",
    "    n_init=10,\n",
    "    max_iter=300,\n",
    "    random_state=42\n",
    ")"
   ]
  },
  {
   "cell_type": "code",
   "execution_count": 77,
   "metadata": {},
   "outputs": [
    {
     "data": {
      "text/html": [
       "<style>#sk-container-id-1 {color: black;background-color: white;}#sk-container-id-1 pre{padding: 0;}#sk-container-id-1 div.sk-toggleable {background-color: white;}#sk-container-id-1 label.sk-toggleable__label {cursor: pointer;display: block;width: 100%;margin-bottom: 0;padding: 0.3em;box-sizing: border-box;text-align: center;}#sk-container-id-1 label.sk-toggleable__label-arrow:before {content: \"▸\";float: left;margin-right: 0.25em;color: #696969;}#sk-container-id-1 label.sk-toggleable__label-arrow:hover:before {color: black;}#sk-container-id-1 div.sk-estimator:hover label.sk-toggleable__label-arrow:before {color: black;}#sk-container-id-1 div.sk-toggleable__content {max-height: 0;max-width: 0;overflow: hidden;text-align: left;background-color: #f0f8ff;}#sk-container-id-1 div.sk-toggleable__content pre {margin: 0.2em;color: black;border-radius: 0.25em;background-color: #f0f8ff;}#sk-container-id-1 input.sk-toggleable__control:checked~div.sk-toggleable__content {max-height: 200px;max-width: 100%;overflow: auto;}#sk-container-id-1 input.sk-toggleable__control:checked~label.sk-toggleable__label-arrow:before {content: \"▾\";}#sk-container-id-1 div.sk-estimator input.sk-toggleable__control:checked~label.sk-toggleable__label {background-color: #d4ebff;}#sk-container-id-1 div.sk-label input.sk-toggleable__control:checked~label.sk-toggleable__label {background-color: #d4ebff;}#sk-container-id-1 input.sk-hidden--visually {border: 0;clip: rect(1px 1px 1px 1px);clip: rect(1px, 1px, 1px, 1px);height: 1px;margin: -1px;overflow: hidden;padding: 0;position: absolute;width: 1px;}#sk-container-id-1 div.sk-estimator {font-family: monospace;background-color: #f0f8ff;border: 1px dotted black;border-radius: 0.25em;box-sizing: border-box;margin-bottom: 0.5em;}#sk-container-id-1 div.sk-estimator:hover {background-color: #d4ebff;}#sk-container-id-1 div.sk-parallel-item::after {content: \"\";width: 100%;border-bottom: 1px solid gray;flex-grow: 1;}#sk-container-id-1 div.sk-label:hover label.sk-toggleable__label {background-color: #d4ebff;}#sk-container-id-1 div.sk-serial::before {content: \"\";position: absolute;border-left: 1px solid gray;box-sizing: border-box;top: 0;bottom: 0;left: 50%;z-index: 0;}#sk-container-id-1 div.sk-serial {display: flex;flex-direction: column;align-items: center;background-color: white;padding-right: 0.2em;padding-left: 0.2em;position: relative;}#sk-container-id-1 div.sk-item {position: relative;z-index: 1;}#sk-container-id-1 div.sk-parallel {display: flex;align-items: stretch;justify-content: center;background-color: white;position: relative;}#sk-container-id-1 div.sk-item::before, #sk-container-id-1 div.sk-parallel-item::before {content: \"\";position: absolute;border-left: 1px solid gray;box-sizing: border-box;top: 0;bottom: 0;left: 50%;z-index: -1;}#sk-container-id-1 div.sk-parallel-item {display: flex;flex-direction: column;z-index: 1;position: relative;background-color: white;}#sk-container-id-1 div.sk-parallel-item:first-child::after {align-self: flex-end;width: 50%;}#sk-container-id-1 div.sk-parallel-item:last-child::after {align-self: flex-start;width: 50%;}#sk-container-id-1 div.sk-parallel-item:only-child::after {width: 0;}#sk-container-id-1 div.sk-dashed-wrapped {border: 1px dashed gray;margin: 0 0.4em 0.5em 0.4em;box-sizing: border-box;padding-bottom: 0.4em;background-color: white;}#sk-container-id-1 div.sk-label label {font-family: monospace;font-weight: bold;display: inline-block;line-height: 1.2em;}#sk-container-id-1 div.sk-label-container {text-align: center;}#sk-container-id-1 div.sk-container {/* jupyter's `normalize.less` sets `[hidden] { display: none; }` but bootstrap.min.css set `[hidden] { display: none !important; }` so we also need the `!important` here to be able to override the default hidden behavior on the sphinx rendered scikit-learn.org. See: https://github.com/scikit-learn/scikit-learn/issues/21755 */display: inline-block !important;position: relative;}#sk-container-id-1 div.sk-text-repr-fallback {display: none;}</style><div id=\"sk-container-id-1\" class=\"sk-top-container\"><div class=\"sk-text-repr-fallback\"><pre>KMeans(init=&#x27;random&#x27;, n_clusters=3, n_init=10, random_state=42)</pre><b>In a Jupyter environment, please rerun this cell to show the HTML representation or trust the notebook. <br />On GitHub, the HTML representation is unable to render, please try loading this page with nbviewer.org.</b></div><div class=\"sk-container\" hidden><div class=\"sk-item\"><div class=\"sk-estimator sk-toggleable\"><input class=\"sk-toggleable__control sk-hidden--visually\" id=\"sk-estimator-id-1\" type=\"checkbox\" checked><label for=\"sk-estimator-id-1\" class=\"sk-toggleable__label sk-toggleable__label-arrow\">KMeans</label><div class=\"sk-toggleable__content\"><pre>KMeans(init=&#x27;random&#x27;, n_clusters=3, n_init=10, random_state=42)</pre></div></div></div></div></div>"
      ],
      "text/plain": [
       "KMeans(init='random', n_clusters=3, n_init=10, random_state=42)"
      ]
     },
     "execution_count": 77,
     "metadata": {},
     "output_type": "execute_result"
    }
   ],
   "source": [
    "kmeans.fit(df)\n"
   ]
  },
  {
   "cell_type": "code",
   "execution_count": 79,
   "metadata": {},
   "outputs": [
    {
     "name": "stdout",
     "output_type": "stream",
     "text": [
      "25798448040.741917\n",
      "[[2.52789569e+03 4.32285270e+00 1.48339077e+01 7.24164503e+00\n",
      "  3.28024658e+00 1.88557872e+00 3.14728869e+00 5.81706342e+00\n",
      "  2.44919059e+00 2.99889571e+00 7.74215470e-02 4.05158605e+00\n",
      "  1.00000000e+00 1.97226343e+02 2.76469068e+01 5.92516322e+00\n",
      "  2.02339635e-01 5.20342087e+01]\n",
      " [8.57335880e+02 4.58798283e+00 1.79260730e+01 6.79783262e+00\n",
      "  3.34221030e+00 1.43693133e+00 3.28831887e+00 6.32786035e+00\n",
      "  3.48594421e+00 4.22929185e+00 3.22317597e-01 4.17437768e+00\n",
      "  9.94141631e-01 1.04593464e+03 2.75736910e+01 5.13364807e+00\n",
      "  1.86995708e-01 3.93903219e+01]\n",
      " [1.77542974e+03 3.46229286e+00 1.92264054e+01 7.05347903e+00\n",
      "  3.29419786e+00 1.20087597e+00 2.30779210e+00 4.79374111e+00\n",
      "  2.10095272e+00 2.57772159e+00 1.47442091e-01 4.06661850e+00\n",
      "  9.97001851e-01 5.24487606e+02 1.94312006e+01 4.94204181e+00\n",
      "  1.82110444e-01 2.96728857e+01]]\n",
      "6\n"
     ]
    }
   ],
   "source": [
    "# The lowest SSE value\n",
    "print(kmeans.inertia_)\n",
    "\n",
    "\n",
    "# Final locations of the centroid\n",
    "print(kmeans.cluster_centers_)\n",
    "\n",
    "\n",
    "# The number of iterations required to converge\n",
    "print(kmeans.n_iter_)"
   ]
  },
  {
   "cell_type": "code",
   "execution_count": 80,
   "metadata": {},
   "outputs": [],
   "source": [
    "kmeans_kwargs = {\n",
    "    \"init\": \"random\",\n",
    "    \"n_init\": 10,\n",
    "    \"max_iter\": 300,\n",
    "    \"random_state\": 42,\n",
    "}\n",
    "\n",
    "# A list holds the SSE values for each k\n",
    "sse = []\n",
    "for k in range(1, 11):\n",
    "    kmeans = KMeans(n_clusters=k, **kmeans_kwargs)\n",
    "    kmeans.fit(df)\n",
    "    sse.append(kmeans.inertia_)"
   ]
  },
  {
   "cell_type": "code",
   "execution_count": 81,
   "metadata": {},
   "outputs": [
    {
     "data": {
      "image/png": "[encoded data removed]",
      "text/plain": [
       "<Figure size 432x288 with 1 Axes>"
      ]
     },
     "metadata": {},
     "output_type": "display_data"
    }
   ],
   "source": [
    " plt.style.use(\"fivethirtyeight\")\n",
    " plt.plot(range(1, 11), sse)\n",
    " plt.xticks(range(1, 11))\n",
    " plt.xlabel(\"Number of Clusters\")\n",
    " plt.ylabel(\"SSE\")\n",
    " plt.show()"
   ]
  },
  {
   "cell_type": "code",
   "execution_count": 82,
   "metadata": {},
   "outputs": [
    {
     "data": {
      "text/plain": [
       "3"
      ]
     },
     "execution_count": 82,
     "metadata": {},
     "output_type": "execute_result"
    }
   ],
   "source": [
    "kl = KneeLocator(\n",
    "    range(1, 11), sse, curve=\"convex\", direction=\"decreasing\"\n",
    ")\n",
    "\n",
    "kl.elbow"
   ]
  },
  {
   "cell_type": "code",
   "execution_count": 84,
   "metadata": {},
   "outputs": [
    {
     "ename": "KeyboardInterrupt",
     "evalue": "",
     "output_type": "error",
     "traceback": [
      "\u001b[0;31m---------------------------------------------------------------------------\u001b[0m",
      "\u001b[0;31mKeyboardInterrupt\u001b[0m                         Traceback (most recent call last)",
      "\u001b[1;32m/Users/joaolousada/Documents/GitHub/zentest/exercise.ipynb Cell 86\u001b[0m in \u001b[0;36m<module>\u001b[0;34m\u001b[0m\n\u001b[1;32m      <a href='vscode-notebook-cell:/Users/joaolousada/Documents/GitHub/zentest/exercise.ipynb#Y203sZmlsZQ%3D%3D?line=5'>6</a>\u001b[0m kmeans \u001b[39m=\u001b[39m KMeans(n_clusters\u001b[39m=\u001b[39mk, \u001b[39m*\u001b[39m\u001b[39m*\u001b[39mkmeans_kwargs)\n\u001b[1;32m      <a href='vscode-notebook-cell:/Users/joaolousada/Documents/GitHub/zentest/exercise.ipynb#Y203sZmlsZQ%3D%3D?line=6'>7</a>\u001b[0m kmeans\u001b[39m.\u001b[39mfit(df)\n\u001b[0;32m----> <a href='vscode-notebook-cell:/Users/joaolousada/Documents/GitHub/zentest/exercise.ipynb#Y203sZmlsZQ%3D%3D?line=7'>8</a>\u001b[0m score \u001b[39m=\u001b[39m silhouette_score(df, kmeans\u001b[39m.\u001b[39;49mlabels_)\n\u001b[1;32m      <a href='vscode-notebook-cell:/Users/joaolousada/Documents/GitHub/zentest/exercise.ipynb#Y203sZmlsZQ%3D%3D?line=8'>9</a>\u001b[0m silhouette_coefficients\u001b[39m.\u001b[39mappend(score)\n",
      "File \u001b[0;32m/Library/Frameworks/Python.framework/Versions/3.10/lib/python3.10/site-packages/sklearn/metrics/cluster/_unsupervised.py:117\u001b[0m, in \u001b[0;36msilhouette_score\u001b[0;34m(X, labels, metric, sample_size, random_state, **kwds)\u001b[0m\n\u001b[1;32m    115\u001b[0m     \u001b[39melse\u001b[39;00m:\n\u001b[1;32m    116\u001b[0m         X, labels \u001b[39m=\u001b[39m X[indices], labels[indices]\n\u001b[0;32m--> 117\u001b[0m \u001b[39mreturn\u001b[39;00m np\u001b[39m.\u001b[39mmean(silhouette_samples(X, labels, metric\u001b[39m=\u001b[39;49mmetric, \u001b[39m*\u001b[39;49m\u001b[39m*\u001b[39;49mkwds))\n",
      "File \u001b[0;32m/Library/Frameworks/Python.framework/Versions/3.10/lib/python3.10/site-packages/sklearn/metrics/cluster/_unsupervised.py:237\u001b[0m, in \u001b[0;36msilhouette_samples\u001b[0;34m(X, labels, metric, **kwds)\u001b[0m\n\u001b[1;32m    233\u001b[0m kwds[\u001b[39m\"\u001b[39m\u001b[39mmetric\u001b[39m\u001b[39m\"\u001b[39m] \u001b[39m=\u001b[39m metric\n\u001b[1;32m    234\u001b[0m reduce_func \u001b[39m=\u001b[39m functools\u001b[39m.\u001b[39mpartial(\n\u001b[1;32m    235\u001b[0m     _silhouette_reduce, labels\u001b[39m=\u001b[39mlabels, label_freqs\u001b[39m=\u001b[39mlabel_freqs\n\u001b[1;32m    236\u001b[0m )\n\u001b[0;32m--> 237\u001b[0m results \u001b[39m=\u001b[39m \u001b[39mzip\u001b[39;49m(\u001b[39m*\u001b[39;49mpairwise_distances_chunked(X, reduce_func\u001b[39m=\u001b[39;49mreduce_func, \u001b[39m*\u001b[39;49m\u001b[39m*\u001b[39;49mkwds))\n\u001b[1;32m    238\u001b[0m intra_clust_dists, inter_clust_dists \u001b[39m=\u001b[39m results\n\u001b[1;32m    239\u001b[0m intra_clust_dists \u001b[39m=\u001b[39m np\u001b[39m.\u001b[39mconcatenate(intra_clust_dists)\n",
      "File \u001b[0;32m/Library/Frameworks/Python.framework/Versions/3.10/lib/python3.10/site-packages/sklearn/metrics/pairwise.py:1867\u001b[0m, in \u001b[0;36mpairwise_distances_chunked\u001b[0;34m(X, Y, reduce_func, metric, n_jobs, working_memory, **kwds)\u001b[0m\n\u001b[1;32m   1865\u001b[0m \u001b[39melse\u001b[39;00m:\n\u001b[1;32m   1866\u001b[0m     X_chunk \u001b[39m=\u001b[39m X[sl]\n\u001b[0;32m-> 1867\u001b[0m D_chunk \u001b[39m=\u001b[39m pairwise_distances(X_chunk, Y, metric\u001b[39m=\u001b[39;49mmetric, n_jobs\u001b[39m=\u001b[39;49mn_jobs, \u001b[39m*\u001b[39;49m\u001b[39m*\u001b[39;49mkwds)\n\u001b[1;32m   1868\u001b[0m \u001b[39mif\u001b[39;00m (X \u001b[39mis\u001b[39;00m Y \u001b[39mor\u001b[39;00m Y \u001b[39mis\u001b[39;00m \u001b[39mNone\u001b[39;00m) \u001b[39mand\u001b[39;00m PAIRWISE_DISTANCE_FUNCTIONS\u001b[39m.\u001b[39mget(\n\u001b[1;32m   1869\u001b[0m     metric, \u001b[39mNone\u001b[39;00m\n\u001b[1;32m   1870\u001b[0m ) \u001b[39mis\u001b[39;00m euclidean_distances:\n\u001b[1;32m   1871\u001b[0m     \u001b[39m# zeroing diagonal, taking care of aliases of \"euclidean\",\u001b[39;00m\n\u001b[1;32m   1872\u001b[0m     \u001b[39m# i.e. \"l2\"\u001b[39;00m\n\u001b[1;32m   1873\u001b[0m     D_chunk\u001b[39m.\u001b[39mflat[sl\u001b[39m.\u001b[39mstart :: _num_samples(X) \u001b[39m+\u001b[39m \u001b[39m1\u001b[39m] \u001b[39m=\u001b[39m \u001b[39m0\u001b[39m\n",
      "File \u001b[0;32m/Library/Frameworks/Python.framework/Versions/3.10/lib/python3.10/site-packages/sklearn/metrics/pairwise.py:2039\u001b[0m, in \u001b[0;36mpairwise_distances\u001b[0;34m(X, Y, metric, n_jobs, force_all_finite, **kwds)\u001b[0m\n\u001b[1;32m   2036\u001b[0m         \u001b[39mreturn\u001b[39;00m distance\u001b[39m.\u001b[39msquareform(distance\u001b[39m.\u001b[39mpdist(X, metric\u001b[39m=\u001b[39mmetric, \u001b[39m*\u001b[39m\u001b[39m*\u001b[39mkwds))\n\u001b[1;32m   2037\u001b[0m     func \u001b[39m=\u001b[39m partial(distance\u001b[39m.\u001b[39mcdist, metric\u001b[39m=\u001b[39mmetric, \u001b[39m*\u001b[39m\u001b[39m*\u001b[39mkwds)\n\u001b[0;32m-> 2039\u001b[0m \u001b[39mreturn\u001b[39;00m _parallel_pairwise(X, Y, func, n_jobs, \u001b[39m*\u001b[39;49m\u001b[39m*\u001b[39;49mkwds)\n",
      "File \u001b[0;32m/Library/Frameworks/Python.framework/Versions/3.10/lib/python3.10/site-packages/sklearn/metrics/pairwise.py:1579\u001b[0m, in \u001b[0;36m_parallel_pairwise\u001b[0;34m(X, Y, func, n_jobs, **kwds)\u001b[0m\n\u001b[1;32m   1576\u001b[0m X, Y, dtype \u001b[39m=\u001b[39m _return_float_dtype(X, Y)\n\u001b[1;32m   1578\u001b[0m \u001b[39mif\u001b[39;00m effective_n_jobs(n_jobs) \u001b[39m==\u001b[39m \u001b[39m1\u001b[39m:\n\u001b[0;32m-> 1579\u001b[0m     \u001b[39mreturn\u001b[39;00m func(X, Y, \u001b[39m*\u001b[39;49m\u001b[39m*\u001b[39;49mkwds)\n\u001b[1;32m   1581\u001b[0m \u001b[39m# enforce a threading backend to prevent data communication overhead\u001b[39;00m\n\u001b[1;32m   1582\u001b[0m fd \u001b[39m=\u001b[39m delayed(_dist_wrapper)\n",
      "File \u001b[0;32m/Library/Frameworks/Python.framework/Versions/3.10/lib/python3.10/site-packages/sklearn/metrics/pairwise.py:328\u001b[0m, in \u001b[0;36meuclidean_distances\u001b[0;34m(X, Y, Y_norm_squared, squared, X_norm_squared)\u001b[0m\n\u001b[1;32m    322\u001b[0m     \u001b[39mif\u001b[39;00m Y_norm_squared\u001b[39m.\u001b[39mshape \u001b[39m!=\u001b[39m (\u001b[39m1\u001b[39m, Y\u001b[39m.\u001b[39mshape[\u001b[39m0\u001b[39m]):\n\u001b[1;32m    323\u001b[0m         \u001b[39mraise\u001b[39;00m \u001b[39mValueError\u001b[39;00m(\n\u001b[1;32m    324\u001b[0m             \u001b[39mf\u001b[39m\u001b[39m\"\u001b[39m\u001b[39mIncompatible dimensions for Y of shape \u001b[39m\u001b[39m{\u001b[39;00mY\u001b[39m.\u001b[39mshape\u001b[39m}\u001b[39;00m\u001b[39m and \u001b[39m\u001b[39m\"\u001b[39m\n\u001b[1;32m    325\u001b[0m             \u001b[39mf\u001b[39m\u001b[39m\"\u001b[39m\u001b[39mY_norm_squared of shape \u001b[39m\u001b[39m{\u001b[39;00moriginal_shape\u001b[39m}\u001b[39;00m\u001b[39m.\u001b[39m\u001b[39m\"\u001b[39m\n\u001b[1;32m    326\u001b[0m         )\n\u001b[0;32m--> 328\u001b[0m \u001b[39mreturn\u001b[39;00m _euclidean_distances(X, Y, X_norm_squared, Y_norm_squared, squared)\n",
      "File \u001b[0;32m/Library/Frameworks/Python.framework/Versions/3.10/lib/python3.10/site-packages/sklearn/metrics/pairwise.py:372\u001b[0m, in \u001b[0;36m_euclidean_distances\u001b[0;34m(X, Y, X_norm_squared, Y_norm_squared, squared)\u001b[0m\n\u001b[1;32m    370\u001b[0m     distances \u001b[39m+\u001b[39m\u001b[39m=\u001b[39m XX\n\u001b[1;32m    371\u001b[0m     distances \u001b[39m+\u001b[39m\u001b[39m=\u001b[39m YY\n\u001b[0;32m--> 372\u001b[0m np\u001b[39m.\u001b[39;49mmaximum(distances, \u001b[39m0\u001b[39;49m, out\u001b[39m=\u001b[39;49mdistances)\n\u001b[1;32m    374\u001b[0m \u001b[39m# Ensure that distances between vectors and themselves are set to 0.0.\u001b[39;00m\n\u001b[1;32m    375\u001b[0m \u001b[39m# This may not be the case due to floating point rounding errors.\u001b[39;00m\n\u001b[1;32m    376\u001b[0m \u001b[39mif\u001b[39;00m X \u001b[39mis\u001b[39;00m Y:\n",
      "\u001b[0;31mKeyboardInterrupt\u001b[0m: "
     ]
    }
   ],
   "source": [
    "# A list holds the silhouette coefficients for each k\n",
    "silhouette_coefficients = []\n",
    "\n",
    "# Notice you start at 2 clusters for silhouette coefficient\n",
    "for k in range(2, 11):\n",
    "    kmeans = KMeans(n_clusters=k, **kmeans_kwargs)\n",
    "    kmeans.fit(df)\n",
    "    score = silhouette_score(df, kmeans.labels_)\n",
    "    silhouette_coefficients.append(score)"
   ]
  },
  {
   "cell_type": "code",
   "execution_count": null,
   "metadata": {},
   "outputs": [],
   "source": [
    "plt.style.use(\"fivethirtyeight\")\n",
    "plt.plot(range(2, 11), silhouette_coefficients)\n",
    "plt.xticks(range(2, 11))\n",
    "plt.xlabel(\"Number of Clusters\")\n",
    "plt.ylabel(\"Silhouette Coefficient\")\n",
    "plt.show()"
   ]
  },
  {
   "cell_type": "code",
   "execution_count": 85,
   "metadata": {},
   "outputs": [],
   "source": [
    "from sklearn.cluster import DBSCAN\n",
    "from sklearn.datasets import make_moons\n",
    "from sklearn.metrics import adjusted_rand_score\n",
    "\n",
    "features, true_labels = X_test, y_test\n",
    "\n",
    "# Instantiate k-means and dbscan algorithms\n",
    "kmeans = KMeans(n_clusters=2)\n",
    "dbscan = DBSCAN(eps=0.3)\n",
    "\n",
    "# Fit the algorithms to the features\n",
    "kmeans.fit(features)\n",
    "dbscan.fit(features)\n",
    "\n",
    "# Compute the silhouette scores for each algorithm\n",
    "kmeans_silhouette = silhouette_score(\n",
    "    features, kmeans.labels_\n",
    ").round(2)\n",
    "dbscan_silhouette = silhouette_score(\n",
    "   features, dbscan.labels_\n",
    ").round (2)"
   ]
  },
  {
   "cell_type": "code",
   "execution_count": null,
   "metadata": {},
   "outputs": [],
   "source": []
  }
 ],
 "metadata": {
  "kernelspec": {
   "display_name": "Python 3.10.2 64-bit",
   "language": "python",
   "name": "python3"
  },
  "language_info": {
   "codemirror_mode": {
    "name": "ipython",
    "version": 3
   },
   "file_extension": ".py",
   "mimetype": "text/x-python",
   "name": "python",
   "nbconvert_exporter": "python",
   "pygments_lexer": "ipython3",
   "version": "3.10.2"
  },
  "orig_nbformat": 4,
  "vscode": {
   "interpreter": {
    "hash": "aee8b7b246df8f9039afb4144a1f6fd8d2ca17a180786b69acc140d282b71a49"
   }
  }
 },
 "nbformat": 4,
 "nbformat_minor": 2
}
