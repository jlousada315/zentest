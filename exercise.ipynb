{
 "cells": [
  {
   "cell_type": "markdown",
   "metadata": {},
   "source": [
    "# Zendesk Support Challenge \n",
    "\n",
    "**Problem**: The VP of Customer Advocacy has asked our team to evaluate how well we have been\n",
    "supporting our customers over the last few quarters, and to provide meaningful business\n",
    "insights.\n",
    "\n",
    "**Why is Customer Service matter to the business ?**: \n",
    "A successful customer service team can help attract new business, boost retention, and increase sales among our existing customer base. But it is also a high stakes game:\n",
    "- 73 % of consumers will leave for a competitor after multiple poor interactions \n",
    "- more than half will bolt after a single bad experience, according to the Zendesk Customer Experience Trends Report 2023. \n",
    "- Make it two negative experiences, and 76 percent of customers are out the door.\n",
    "\n",
    "## Evaluate how well we have been supporting our customers\n",
    "\n",
    "**What makes an excellent customer service ?**\n",
    "\n",
    "Good customer service means consistently meeting customers’ expectations. Great customer service is **quick, easy, personalized, and empathetic**. Companies that deliver excellent customer service take the time needed to understand the needs of their unique customer base.\n",
    "\n",
    "\n",
    "**Important Segments**: Channel, Tier, Plan, Group\n",
    "\n",
    "\n",
    "### CSAT \n",
    "\n",
    "### First Reply Time (FRT)\n",
    "\n",
    "makes sense to segment by channel\n",
    "\n",
    "### Ticket Resolution Time \n",
    "\n",
    "\n",
    "\n",
    "### Ticket Response Rate \n",
    "\n",
    "\n",
    "\n",
    "\n",
    "## Lines of Research \n",
    "\n",
    "1. Are we optimizing ticket assigning by priority ? \n",
    "2. Are we maximizing performance on each channel ?\n",
    "3. Are we performing well on all customer segments ?\n",
    "4. Are \n",
    "\n",
    "## Model \n",
    "\n",
    "\n",
    "## Results \n",
    "\n",
    "\n",
    "## Limitations"
   ]
  },
  {
   "cell_type": "code",
   "execution_count": 188,
   "metadata": {},
   "outputs": [],
   "source": [
    "from google.cloud import bigquery\n",
    "from google.oauth2 import service_account\n",
    "\n",
    "import numpy as np # linear algebra\n",
    "import pandas as pd # data processing, CSV file I/O (e.g. pd.read_csv)\n",
    "from random import randint\n",
    "\n",
    "%matplotlib inline\n",
    "import matplotlib as mpl\n",
    "import matplotlib.pyplot as plt\n",
    "plt.style.use('dark_background')\n",
    "import seaborn as sns\n",
    "plt.rcParams.update({'font.size': 16})\n",
    "plt.rcParams['axes.grid'] = False\n",
    "\n",
    "import warnings\n",
    "warnings.filterwarnings('ignore')\n",
    "\n",
    "import re\n",
    "import string\n",
    "\n",
    "from scipy import stats\n",
    "from scipy.stats import norm, skew #for some statistics\n",
    "\n",
    "credentials = service_account.Credentials.from_service_account_file(\n",
    "'/Users/joaolousada/Downloads/solar-vertex-380321-55f7948b7f6a.json') \n",
    "\n",
    "project_id = 'solar-vertex-380321'\n",
    "client = bigquery.Client(credentials= credentials,project=project_id)"
   ]
  },
  {
   "cell_type": "code",
   "execution_count": 6,
   "metadata": {},
   "outputs": [
    {
     "name": "stdout",
     "output_type": "stream",
     "text": [
      "Downloading: 100%|\u001b[32m██████████\u001b[0m|\n"
     ]
    }
   ],
   "source": [
    "import pandas_gbq\n",
    "\n",
    "sql = \"\"\"\n",
    "SELECT *\n",
    "FROM solar-vertex-380321.zendesk.zentest\n",
    "\"\"\"\n",
    "#df_raw = pandas_gbq.read_gbq(sql, project_id=project_id)"
   ]
  },
  {
   "cell_type": "code",
   "execution_count": 543,
   "metadata": {},
   "outputs": [
    {
     "data": {
      "text/html": [
       "<div>\n",
       "<style scoped>\n",
       "    .dataframe tbody tr th:only-of-type {\n",
       "        vertical-align: middle;\n",
       "    }\n",
       "\n",
       "    .dataframe tbody tr th {\n",
       "        vertical-align: top;\n",
       "    }\n",
       "\n",
       "    .dataframe thead th {\n",
       "        text-align: right;\n",
       "    }\n",
       "</style>\n",
       "<table border=\"1\" class=\"dataframe\">\n",
       "  <thead>\n",
       "    <tr style=\"text-align: right;\">\n",
       "      <th></th>\n",
       "      <th>EmployeeID</th>\n",
       "      <th>TicketChannel</th>\n",
       "      <th>TicketGroup</th>\n",
       "      <th>TicketID</th>\n",
       "      <th>TicketCreatedDate</th>\n",
       "      <th>ZendeskPlan</th>\n",
       "      <th>DayTicketSolved</th>\n",
       "      <th>AssigneeTier</th>\n",
       "      <th>FirstReplyTime</th>\n",
       "      <th>FullResolutionTime</th>\n",
       "      <th>NumAgentComments</th>\n",
       "      <th>NumPublicComments</th>\n",
       "      <th>TicketEscalated</th>\n",
       "      <th>CustomerSatisfaction</th>\n",
       "      <th>WorkerDateHired</th>\n",
       "      <th>WorkerLocation</th>\n",
       "      <th>Worker_Type</th>\n",
       "      <th>WorkerTenure</th>\n",
       "    </tr>\n",
       "  </thead>\n",
       "  <tbody>\n",
       "    <tr>\n",
       "      <th>0</th>\n",
       "      <td>938</td>\n",
       "      <td>chat</td>\n",
       "      <td>Support (T1)</td>\n",
       "      <td>2536525</td>\n",
       "      <td>2017-04-20</td>\n",
       "      <td>Enterprise Legacy</td>\n",
       "      <td>None</td>\n",
       "      <td>Tier 1</td>\n",
       "      <td>317</td>\n",
       "      <td>&lt;NA&gt;</td>\n",
       "      <td>11</td>\n",
       "      <td>15</td>\n",
       "      <td>0</td>\n",
       "      <td>&lt;NA&gt;</td>\n",
       "      <td>2014-11-10</td>\n",
       "      <td>Dublin</td>\n",
       "      <td>Employee</td>\n",
       "      <td>892</td>\n",
       "    </tr>\n",
       "    <tr>\n",
       "      <th>1</th>\n",
       "      <td>938</td>\n",
       "      <td>chat</td>\n",
       "      <td>Support (T1)</td>\n",
       "      <td>2522091</td>\n",
       "      <td>2017-04-14</td>\n",
       "      <td>Enterprise Legacy</td>\n",
       "      <td>None</td>\n",
       "      <td>Tier 1</td>\n",
       "      <td>10260</td>\n",
       "      <td>&lt;NA&gt;</td>\n",
       "      <td>14</td>\n",
       "      <td>22</td>\n",
       "      <td>0</td>\n",
       "      <td>&lt;NA&gt;</td>\n",
       "      <td>2014-11-10</td>\n",
       "      <td>Dublin</td>\n",
       "      <td>Employee</td>\n",
       "      <td>886</td>\n",
       "    </tr>\n",
       "    <tr>\n",
       "      <th>2</th>\n",
       "      <td>1247</td>\n",
       "      <td>web</td>\n",
       "      <td>Support (T1)</td>\n",
       "      <td>2836287</td>\n",
       "      <td>2017-08-03</td>\n",
       "      <td>Enterprise Legacy</td>\n",
       "      <td>None</td>\n",
       "      <td>Tier 1</td>\n",
       "      <td>&lt;NA&gt;</td>\n",
       "      <td>&lt;NA&gt;</td>\n",
       "      <td>4</td>\n",
       "      <td>&lt;NA&gt;</td>\n",
       "      <td>0</td>\n",
       "      <td>&lt;NA&gt;</td>\n",
       "      <td>2015-04-20</td>\n",
       "      <td>Dublin</td>\n",
       "      <td>Employee</td>\n",
       "      <td>836</td>\n",
       "    </tr>\n",
       "    <tr>\n",
       "      <th>3</th>\n",
       "      <td>919</td>\n",
       "      <td>help_center</td>\n",
       "      <td>Support (T1)</td>\n",
       "      <td>3003180</td>\n",
       "      <td>2017-10-02</td>\n",
       "      <td>Enterprise Legacy</td>\n",
       "      <td>None</td>\n",
       "      <td>Tier 1</td>\n",
       "      <td>&lt;NA&gt;</td>\n",
       "      <td>&lt;NA&gt;</td>\n",
       "      <td>3</td>\n",
       "      <td>1</td>\n",
       "      <td>0</td>\n",
       "      <td>&lt;NA&gt;</td>\n",
       "      <td>2014-10-27</td>\n",
       "      <td>Madison</td>\n",
       "      <td>Employee</td>\n",
       "      <td>1071</td>\n",
       "    </tr>\n",
       "    <tr>\n",
       "      <th>4</th>\n",
       "      <td>919</td>\n",
       "      <td>help_center</td>\n",
       "      <td>Support (T1)</td>\n",
       "      <td>3003011</td>\n",
       "      <td>2017-10-02</td>\n",
       "      <td>Enterprise Legacy</td>\n",
       "      <td>None</td>\n",
       "      <td>Tier 1</td>\n",
       "      <td>&lt;NA&gt;</td>\n",
       "      <td>&lt;NA&gt;</td>\n",
       "      <td>3</td>\n",
       "      <td>1</td>\n",
       "      <td>0</td>\n",
       "      <td>&lt;NA&gt;</td>\n",
       "      <td>2014-10-27</td>\n",
       "      <td>Madison</td>\n",
       "      <td>Employee</td>\n",
       "      <td>1071</td>\n",
       "    </tr>\n",
       "  </tbody>\n",
       "</table>\n",
       "</div>"
      ],
      "text/plain": [
       "   EmployeeID TicketChannel   TicketGroup  TicketID TicketCreatedDate  \\\n",
       "0         938          chat  Support (T1)   2536525        2017-04-20   \n",
       "1         938          chat  Support (T1)   2522091        2017-04-14   \n",
       "2        1247           web  Support (T1)   2836287        2017-08-03   \n",
       "3         919   help_center  Support (T1)   3003180        2017-10-02   \n",
       "4         919   help_center  Support (T1)   3003011        2017-10-02   \n",
       "\n",
       "         ZendeskPlan DayTicketSolved AssigneeTier  FirstReplyTime  \\\n",
       "0  Enterprise Legacy            None       Tier 1             317   \n",
       "1  Enterprise Legacy            None       Tier 1           10260   \n",
       "2  Enterprise Legacy            None       Tier 1            <NA>   \n",
       "3  Enterprise Legacy            None       Tier 1            <NA>   \n",
       "4  Enterprise Legacy            None       Tier 1            <NA>   \n",
       "\n",
       "   FullResolutionTime  NumAgentComments  NumPublicComments  TicketEscalated  \\\n",
       "0                <NA>                11                 15                0   \n",
       "1                <NA>                14                 22                0   \n",
       "2                <NA>                 4               <NA>                0   \n",
       "3                <NA>                 3                  1                0   \n",
       "4                <NA>                 3                  1                0   \n",
       "\n",
       "   CustomerSatisfaction WorkerDateHired WorkerLocation Worker_Type  \\\n",
       "0                  <NA>      2014-11-10         Dublin    Employee   \n",
       "1                  <NA>      2014-11-10         Dublin    Employee   \n",
       "2                  <NA>      2015-04-20         Dublin    Employee   \n",
       "3                  <NA>      2014-10-27        Madison    Employee   \n",
       "4                  <NA>      2014-10-27        Madison    Employee   \n",
       "\n",
       "   WorkerTenure  \n",
       "0           892  \n",
       "1           886  \n",
       "2           836  \n",
       "3          1071  \n",
       "4          1071  "
      ]
     },
     "execution_count": 543,
     "metadata": {},
     "output_type": "execute_result"
    }
   ],
   "source": [
    "df = df_raw.copy()\n",
    "df.head()"
   ]
  },
  {
   "cell_type": "code",
   "execution_count": 544,
   "metadata": {},
   "outputs": [
    {
     "data": {
      "text/html": [
       "<div>\n",
       "<style scoped>\n",
       "    .dataframe tbody tr th:only-of-type {\n",
       "        vertical-align: middle;\n",
       "    }\n",
       "\n",
       "    .dataframe tbody tr th {\n",
       "        vertical-align: top;\n",
       "    }\n",
       "\n",
       "    .dataframe thead th {\n",
       "        text-align: right;\n",
       "    }\n",
       "</style>\n",
       "<table border=\"1\" class=\"dataframe\">\n",
       "  <thead>\n",
       "    <tr style=\"text-align: right;\">\n",
       "      <th></th>\n",
       "      <th>EmployeeID</th>\n",
       "      <th>TicketID</th>\n",
       "      <th>FirstReplyTime</th>\n",
       "      <th>FullResolutionTime</th>\n",
       "      <th>NumAgentComments</th>\n",
       "      <th>NumPublicComments</th>\n",
       "      <th>TicketEscalated</th>\n",
       "      <th>CustomerSatisfaction</th>\n",
       "      <th>WorkerTenure</th>\n",
       "    </tr>\n",
       "  </thead>\n",
       "  <tbody>\n",
       "    <tr>\n",
       "      <th>count</th>\n",
       "      <td>240665.000000</td>\n",
       "      <td>2.406650e+05</td>\n",
       "      <td>157169.000000</td>\n",
       "      <td>239741.000000</td>\n",
       "      <td>195237.000000</td>\n",
       "      <td>192623.000000</td>\n",
       "      <td>240665.000000</td>\n",
       "      <td>45554.000000</td>\n",
       "      <td>240665.000000</td>\n",
       "    </tr>\n",
       "    <tr>\n",
       "      <th>mean</th>\n",
       "      <td>1853.958444</td>\n",
       "      <td>2.612557e+06</td>\n",
       "      <td>813.261088</td>\n",
       "      <td>5949.678053</td>\n",
       "      <td>3.100309</td>\n",
       "      <td>3.834443</td>\n",
       "      <td>0.159300</td>\n",
       "      <td>0.939500</td>\n",
       "      <td>514.366223</td>\n",
       "    </tr>\n",
       "    <tr>\n",
       "      <th>std</th>\n",
       "      <td>651.379958</td>\n",
       "      <td>2.820156e+05</td>\n",
       "      <td>6446.203622</td>\n",
       "      <td>19227.491206</td>\n",
       "      <td>3.499996</td>\n",
       "      <td>4.566357</td>\n",
       "      <td>0.365957</td>\n",
       "      <td>0.238413</td>\n",
       "      <td>353.778344</td>\n",
       "    </tr>\n",
       "    <tr>\n",
       "      <th>min</th>\n",
       "      <td>1.000000</td>\n",
       "      <td>2.116910e+06</td>\n",
       "      <td>0.000000</td>\n",
       "      <td>0.000000</td>\n",
       "      <td>1.000000</td>\n",
       "      <td>1.000000</td>\n",
       "      <td>0.000000</td>\n",
       "      <td>0.000000</td>\n",
       "      <td>-223.000000</td>\n",
       "    </tr>\n",
       "    <tr>\n",
       "      <th>25%</th>\n",
       "      <td>1488.000000</td>\n",
       "      <td>2.340143e+06</td>\n",
       "      <td>14.000000</td>\n",
       "      <td>13.000000</td>\n",
       "      <td>1.000000</td>\n",
       "      <td>2.000000</td>\n",
       "      <td>0.000000</td>\n",
       "      <td>1.000000</td>\n",
       "      <td>262.000000</td>\n",
       "    </tr>\n",
       "    <tr>\n",
       "      <th>50%</th>\n",
       "      <td>1975.000000</td>\n",
       "      <td>2.629618e+06</td>\n",
       "      <td>53.000000</td>\n",
       "      <td>116.000000</td>\n",
       "      <td>2.000000</td>\n",
       "      <td>2.000000</td>\n",
       "      <td>0.000000</td>\n",
       "      <td>1.000000</td>\n",
       "      <td>469.000000</td>\n",
       "    </tr>\n",
       "    <tr>\n",
       "      <th>75%</th>\n",
       "      <td>2362.000000</td>\n",
       "      <td>2.849437e+06</td>\n",
       "      <td>236.000000</td>\n",
       "      <td>8112.000000</td>\n",
       "      <td>4.000000</td>\n",
       "      <td>4.000000</td>\n",
       "      <td>0.000000</td>\n",
       "      <td>1.000000</td>\n",
       "      <td>675.000000</td>\n",
       "    </tr>\n",
       "    <tr>\n",
       "      <th>max</th>\n",
       "      <td>3411.000000</td>\n",
       "      <td>3.224171e+06</td>\n",
       "      <td>498116.000000</td>\n",
       "      <td>548814.000000</td>\n",
       "      <td>370.000000</td>\n",
       "      <td>245.000000</td>\n",
       "      <td>1.000000</td>\n",
       "      <td>1.000000</td>\n",
       "      <td>2334.000000</td>\n",
       "    </tr>\n",
       "  </tbody>\n",
       "</table>\n",
       "</div>"
      ],
      "text/plain": [
       "          EmployeeID      TicketID  FirstReplyTime  FullResolutionTime  \\\n",
       "count  240665.000000  2.406650e+05   157169.000000       239741.000000   \n",
       "mean     1853.958444  2.612557e+06      813.261088         5949.678053   \n",
       "std       651.379958  2.820156e+05     6446.203622        19227.491206   \n",
       "min         1.000000  2.116910e+06        0.000000            0.000000   \n",
       "25%      1488.000000  2.340143e+06       14.000000           13.000000   \n",
       "50%      1975.000000  2.629618e+06       53.000000          116.000000   \n",
       "75%      2362.000000  2.849437e+06      236.000000         8112.000000   \n",
       "max      3411.000000  3.224171e+06   498116.000000       548814.000000   \n",
       "\n",
       "       NumAgentComments  NumPublicComments  TicketEscalated  \\\n",
       "count     195237.000000      192623.000000    240665.000000   \n",
       "mean           3.100309           3.834443         0.159300   \n",
       "std            3.499996           4.566357         0.365957   \n",
       "min            1.000000           1.000000         0.000000   \n",
       "25%            1.000000           2.000000         0.000000   \n",
       "50%            2.000000           2.000000         0.000000   \n",
       "75%            4.000000           4.000000         0.000000   \n",
       "max          370.000000         245.000000         1.000000   \n",
       "\n",
       "       CustomerSatisfaction   WorkerTenure  \n",
       "count          45554.000000  240665.000000  \n",
       "mean               0.939500     514.366223  \n",
       "std                0.238413     353.778344  \n",
       "min                0.000000    -223.000000  \n",
       "25%                1.000000     262.000000  \n",
       "50%                1.000000     469.000000  \n",
       "75%                1.000000     675.000000  \n",
       "max                1.000000    2334.000000  "
      ]
     },
     "execution_count": 544,
     "metadata": {},
     "output_type": "execute_result"
    }
   ],
   "source": [
    "df.describe()"
   ]
  },
  {
   "cell_type": "markdown",
   "metadata": {},
   "source": [
    "Duplicates\n"
   ]
  },
  {
   "cell_type": "code",
   "execution_count": 545,
   "metadata": {},
   "outputs": [
    {
     "name": "stdout",
     "output_type": "stream",
     "text": [
      "Number of duplicates - 0\n"
     ]
    }
   ],
   "source": [
    "print(f'Number of duplicates - {df[df.duplicated()].nunique().sum()}')"
   ]
  },
  {
   "cell_type": "markdown",
   "metadata": {},
   "source": [
    "Missing Values"
   ]
  },
  {
   "cell_type": "code",
   "execution_count": 546,
   "metadata": {},
   "outputs": [
    {
     "data": {
      "text/plain": [
       "DayTicketSolved          0.383936\n",
       "FullResolutionTime       0.383936\n",
       "AssigneeTier            13.568654\n",
       "NumAgentComments        18.876031\n",
       "NumPublicComments       19.962188\n",
       "ZendeskPlan             26.150874\n",
       "FirstReplyTime          34.693869\n",
       "CustomerSatisfaction    81.071614\n",
       "dtype: float64"
      ]
     },
     "execution_count": 546,
     "metadata": {},
     "output_type": "execute_result"
    }
   ],
   "source": [
    "missing = df.isnull().sum()\n",
    "missing = 100*missing[missing > 0]/df.shape[0]\n",
    "missing.sort_values(inplace=True)\n",
    "missing\n",
    "#plt.savefig('images/MV.eps', format='eps', transparent = True)"
   ]
  },
  {
   "cell_type": "code",
   "execution_count": 547,
   "metadata": {},
   "outputs": [],
   "source": [
    "for col in ('AssigneeTier', 'ZendeskPlan'):\n",
    "    df[col] = df[col].fillna('None')\n",
    "\n",
    "for col in ('NumPublicComments', 'NumAgentComments'):\n",
    "    df[col] = df[col].fillna(0)\n",
    "\n",
    "df['FirstReplyTime'] = df['FirstReplyTime'].fillna(0)\n",
    "\n",
    "# Drop open tickets\n",
    "df = df.dropna(subset=['FullResolutionTime', 'DayTicketSolved'])\n",
    "\n",
    "df[\"CustomerSatisfaction\"] = df[\"CustomerSatisfaction\"].replace({0: -1}).fillna(0)"
   ]
  },
  {
   "cell_type": "code",
   "execution_count": 548,
   "metadata": {},
   "outputs": [
    {
     "data": {
      "text/html": [
       "<div>\n",
       "<style scoped>\n",
       "    .dataframe tbody tr th:only-of-type {\n",
       "        vertical-align: middle;\n",
       "    }\n",
       "\n",
       "    .dataframe tbody tr th {\n",
       "        vertical-align: top;\n",
       "    }\n",
       "\n",
       "    .dataframe thead th {\n",
       "        text-align: right;\n",
       "    }\n",
       "</style>\n",
       "<table border=\"1\" class=\"dataframe\">\n",
       "  <thead>\n",
       "    <tr style=\"text-align: right;\">\n",
       "      <th></th>\n",
       "      <th>EmployeeID</th>\n",
       "      <th>TicketChannel</th>\n",
       "      <th>TicketGroup</th>\n",
       "      <th>TicketID</th>\n",
       "      <th>TicketCreatedDate</th>\n",
       "      <th>ZendeskPlan</th>\n",
       "      <th>DayTicketSolved</th>\n",
       "      <th>AssigneeTier</th>\n",
       "      <th>FirstReplyTime</th>\n",
       "      <th>FullResolutionTime</th>\n",
       "      <th>NumAgentComments</th>\n",
       "      <th>NumPublicComments</th>\n",
       "      <th>TicketEscalated</th>\n",
       "      <th>CustomerSatisfaction</th>\n",
       "      <th>WorkerDateHired</th>\n",
       "      <th>WorkerLocation</th>\n",
       "      <th>Worker_Type</th>\n",
       "      <th>WorkerTenure</th>\n",
       "    </tr>\n",
       "  </thead>\n",
       "  <tbody>\n",
       "    <tr>\n",
       "      <th>924</th>\n",
       "      <td>688</td>\n",
       "      <td>chat</td>\n",
       "      <td>Zopim T1</td>\n",
       "      <td>2166897</td>\n",
       "      <td>2017-01-18</td>\n",
       "      <td>None</td>\n",
       "      <td>Friday</td>\n",
       "      <td>None</td>\n",
       "      <td>0</td>\n",
       "      <td>13309</td>\n",
       "      <td>1</td>\n",
       "      <td>0</td>\n",
       "      <td>0</td>\n",
       "      <td>-1</td>\n",
       "      <td>2014-06-01</td>\n",
       "      <td>Manila</td>\n",
       "      <td>Employee</td>\n",
       "      <td>962</td>\n",
       "    </tr>\n",
       "    <tr>\n",
       "      <th>925</th>\n",
       "      <td>1463</td>\n",
       "      <td>chat</td>\n",
       "      <td>Zopim T1</td>\n",
       "      <td>2132608</td>\n",
       "      <td>2017-01-06</td>\n",
       "      <td>None</td>\n",
       "      <td>Friday</td>\n",
       "      <td>None</td>\n",
       "      <td>0</td>\n",
       "      <td>4</td>\n",
       "      <td>0</td>\n",
       "      <td>0</td>\n",
       "      <td>0</td>\n",
       "      <td>0</td>\n",
       "      <td>2015-08-03</td>\n",
       "      <td>Manila</td>\n",
       "      <td>Employee</td>\n",
       "      <td>522</td>\n",
       "    </tr>\n",
       "    <tr>\n",
       "      <th>926</th>\n",
       "      <td>1463</td>\n",
       "      <td>chat</td>\n",
       "      <td>Zopim T1</td>\n",
       "      <td>2132014</td>\n",
       "      <td>2017-01-06</td>\n",
       "      <td>None</td>\n",
       "      <td>Friday</td>\n",
       "      <td>None</td>\n",
       "      <td>0</td>\n",
       "      <td>35</td>\n",
       "      <td>0</td>\n",
       "      <td>0</td>\n",
       "      <td>0</td>\n",
       "      <td>0</td>\n",
       "      <td>2015-08-03</td>\n",
       "      <td>Manila</td>\n",
       "      <td>Employee</td>\n",
       "      <td>522</td>\n",
       "    </tr>\n",
       "    <tr>\n",
       "      <th>927</th>\n",
       "      <td>1463</td>\n",
       "      <td>chat</td>\n",
       "      <td>Zopim T1</td>\n",
       "      <td>2878472</td>\n",
       "      <td>2017-08-18</td>\n",
       "      <td>None</td>\n",
       "      <td>Friday</td>\n",
       "      <td>None</td>\n",
       "      <td>0</td>\n",
       "      <td>0</td>\n",
       "      <td>0</td>\n",
       "      <td>0</td>\n",
       "      <td>0</td>\n",
       "      <td>0</td>\n",
       "      <td>2015-08-03</td>\n",
       "      <td>Manila</td>\n",
       "      <td>Employee</td>\n",
       "      <td>746</td>\n",
       "    </tr>\n",
       "    <tr>\n",
       "      <th>928</th>\n",
       "      <td>1463</td>\n",
       "      <td>chat</td>\n",
       "      <td>Zopim T1</td>\n",
       "      <td>2483674</td>\n",
       "      <td>2017-03-31</td>\n",
       "      <td>None</td>\n",
       "      <td>Friday</td>\n",
       "      <td>None</td>\n",
       "      <td>0</td>\n",
       "      <td>2</td>\n",
       "      <td>0</td>\n",
       "      <td>0</td>\n",
       "      <td>0</td>\n",
       "      <td>0</td>\n",
       "      <td>2015-08-03</td>\n",
       "      <td>Manila</td>\n",
       "      <td>Employee</td>\n",
       "      <td>606</td>\n",
       "    </tr>\n",
       "  </tbody>\n",
       "</table>\n",
       "</div>"
      ],
      "text/plain": [
       "     EmployeeID TicketChannel TicketGroup  TicketID TicketCreatedDate  \\\n",
       "924         688          chat    Zopim T1   2166897        2017-01-18   \n",
       "925        1463          chat    Zopim T1   2132608        2017-01-06   \n",
       "926        1463          chat    Zopim T1   2132014        2017-01-06   \n",
       "927        1463          chat    Zopim T1   2878472        2017-08-18   \n",
       "928        1463          chat    Zopim T1   2483674        2017-03-31   \n",
       "\n",
       "    ZendeskPlan DayTicketSolved AssigneeTier  FirstReplyTime  \\\n",
       "924        None          Friday         None               0   \n",
       "925        None          Friday         None               0   \n",
       "926        None          Friday         None               0   \n",
       "927        None          Friday         None               0   \n",
       "928        None          Friday         None               0   \n",
       "\n",
       "     FullResolutionTime  NumAgentComments  NumPublicComments  TicketEscalated  \\\n",
       "924               13309                 1                  0                0   \n",
       "925                   4                 0                  0                0   \n",
       "926                  35                 0                  0                0   \n",
       "927                   0                 0                  0                0   \n",
       "928                   2                 0                  0                0   \n",
       "\n",
       "     CustomerSatisfaction WorkerDateHired WorkerLocation Worker_Type  \\\n",
       "924                    -1      2014-06-01         Manila    Employee   \n",
       "925                     0      2015-08-03         Manila    Employee   \n",
       "926                     0      2015-08-03         Manila    Employee   \n",
       "927                     0      2015-08-03         Manila    Employee   \n",
       "928                     0      2015-08-03         Manila    Employee   \n",
       "\n",
       "     WorkerTenure  \n",
       "924           962  \n",
       "925           522  \n",
       "926           522  \n",
       "927           746  \n",
       "928           606  "
      ]
     },
     "execution_count": 548,
     "metadata": {},
     "output_type": "execute_result"
    }
   ],
   "source": [
    "df.head()"
   ]
  },
  {
   "cell_type": "markdown",
   "metadata": {},
   "source": [
    "## EDA \n"
   ]
  },
  {
   "cell_type": "code",
   "execution_count": 227,
   "metadata": {},
   "outputs": [
    {
     "ename": "ValueError",
     "evalue": "could not convert string to float: '>5Days'",
     "output_type": "error",
     "traceback": [
      "\u001b[0;31m---------------------------------------------------------------------------\u001b[0m",
      "\u001b[0;31mValueError\u001b[0m                                Traceback (most recent call last)",
      "\u001b[1;32m/Users/joaolousada/Documents/GitHub/zentest/exercise.ipynb Cell 14\u001b[0m in \u001b[0;36m<module>\u001b[0;34m\u001b[0m\n\u001b[1;32m      <a href='vscode-notebook-cell:/Users/joaolousada/Documents/GitHub/zentest/exercise.ipynb#X64sZmlsZQ%3D%3D?line=0'>1</a>\u001b[0m target \u001b[39m=\u001b[39m df[\u001b[39m'\u001b[39m\u001b[39mFullResolutionTime\u001b[39m\u001b[39m'\u001b[39m]\u001b[39m.\u001b[39mdropna()\n\u001b[0;32m----> <a href='vscode-notebook-cell:/Users/joaolousada/Documents/GitHub/zentest/exercise.ipynb#X64sZmlsZQ%3D%3D?line=2'>3</a>\u001b[0m sns\u001b[39m.\u001b[39;49mdistplot(target , fit\u001b[39m=\u001b[39;49mnorm);\n\u001b[1;32m      <a href='vscode-notebook-cell:/Users/joaolousada/Documents/GitHub/zentest/exercise.ipynb#X64sZmlsZQ%3D%3D?line=4'>5</a>\u001b[0m \u001b[39m# Get the fitted parameters used by the function\u001b[39;00m\n\u001b[1;32m      <a href='vscode-notebook-cell:/Users/joaolousada/Documents/GitHub/zentest/exercise.ipynb#X64sZmlsZQ%3D%3D?line=5'>6</a>\u001b[0m (mu, sigma) \u001b[39m=\u001b[39m norm\u001b[39m.\u001b[39mfit(target)\n",
      "File \u001b[0;32m/Library/Frameworks/Python.framework/Versions/3.10/lib/python3.10/site-packages/seaborn/distributions.py:2458\u001b[0m, in \u001b[0;36mdistplot\u001b[0;34m(a, bins, hist, kde, rug, fit, hist_kws, kde_kws, rug_kws, fit_kws, color, vertical, norm_hist, axlabel, label, ax, x)\u001b[0m\n\u001b[1;32m   2455\u001b[0m     a \u001b[39m=\u001b[39m x\n\u001b[1;32m   2457\u001b[0m \u001b[39m# Make a a 1-d float array\u001b[39;00m\n\u001b[0;32m-> 2458\u001b[0m a \u001b[39m=\u001b[39m np\u001b[39m.\u001b[39;49masarray(a, \u001b[39mfloat\u001b[39;49m)\n\u001b[1;32m   2459\u001b[0m \u001b[39mif\u001b[39;00m a\u001b[39m.\u001b[39mndim \u001b[39m>\u001b[39m \u001b[39m1\u001b[39m:\n\u001b[1;32m   2460\u001b[0m     a \u001b[39m=\u001b[39m a\u001b[39m.\u001b[39msqueeze()\n",
      "File \u001b[0;32m/Library/Frameworks/Python.framework/Versions/3.10/lib/python3.10/site-packages/pandas/core/series.py:857\u001b[0m, in \u001b[0;36mSeries.__array__\u001b[0;34m(self, dtype)\u001b[0m\n\u001b[1;32m    810\u001b[0m \u001b[39mdef\u001b[39;00m \u001b[39m__array__\u001b[39m(\u001b[39mself\u001b[39m, dtype: NpDtype \u001b[39m|\u001b[39m \u001b[39mNone\u001b[39;00m \u001b[39m=\u001b[39m \u001b[39mNone\u001b[39;00m) \u001b[39m-\u001b[39m\u001b[39m>\u001b[39m np\u001b[39m.\u001b[39mndarray:\n\u001b[1;32m    811\u001b[0m \u001b[39m    \u001b[39m\u001b[39m\"\"\"\u001b[39;00m\n\u001b[1;32m    812\u001b[0m \u001b[39m    Return the values as a NumPy array.\u001b[39;00m\n\u001b[1;32m    813\u001b[0m \n\u001b[0;32m   (...)\u001b[0m\n\u001b[1;32m    855\u001b[0m \u001b[39m          dtype='datetime64[ns]')\u001b[39;00m\n\u001b[1;32m    856\u001b[0m \u001b[39m    \"\"\"\u001b[39;00m\n\u001b[0;32m--> 857\u001b[0m     \u001b[39mreturn\u001b[39;00m np\u001b[39m.\u001b[39;49masarray(\u001b[39mself\u001b[39;49m\u001b[39m.\u001b[39;49m_values, dtype)\n",
      "File \u001b[0;32m/Library/Frameworks/Python.framework/Versions/3.10/lib/python3.10/site-packages/pandas/core/arrays/categorical.py:1453\u001b[0m, in \u001b[0;36mCategorical.__array__\u001b[0;34m(self, dtype)\u001b[0m\n\u001b[1;32m   1451\u001b[0m ret \u001b[39m=\u001b[39m take_nd(\u001b[39mself\u001b[39m\u001b[39m.\u001b[39mcategories\u001b[39m.\u001b[39m_values, \u001b[39mself\u001b[39m\u001b[39m.\u001b[39m_codes)\n\u001b[1;32m   1452\u001b[0m \u001b[39mif\u001b[39;00m dtype \u001b[39mand\u001b[39;00m \u001b[39mnot\u001b[39;00m is_dtype_equal(dtype, \u001b[39mself\u001b[39m\u001b[39m.\u001b[39mcategories\u001b[39m.\u001b[39mdtype):\n\u001b[0;32m-> 1453\u001b[0m     \u001b[39mreturn\u001b[39;00m np\u001b[39m.\u001b[39;49masarray(ret, dtype)\n\u001b[1;32m   1454\u001b[0m \u001b[39m# When we're a Categorical[ExtensionArray], like Interval,\u001b[39;00m\n\u001b[1;32m   1455\u001b[0m \u001b[39m# we need to ensure __array__ gets all the way to an\u001b[39;00m\n\u001b[1;32m   1456\u001b[0m \u001b[39m# ndarray.\u001b[39;00m\n\u001b[1;32m   1457\u001b[0m \u001b[39mreturn\u001b[39;00m np\u001b[39m.\u001b[39masarray(ret)\n",
      "\u001b[0;31mValueError\u001b[0m: could not convert string to float: '>5Days'"
     ]
    },
    {
     "data": {
      "image/png": "[encoded data removed]",
      "text/plain": [
       "<Figure size 432x288 with 1 Axes>"
      ]
     },
     "metadata": {},
     "output_type": "display_data"
    }
   ],
   "source": [
    "target = df['FullResolutionTime'].dropna()\n",
    "\n",
    "sns.distplot(target , fit=norm);\n",
    "\n",
    "# Get the fitted parameters used by the function\n",
    "(mu, sigma) = norm.fit(target)\n",
    "print( '\\n mu = {:.2f} and sigma = {:.2f}\\n'.format(mu, sigma))\n",
    "\n",
    "#Now plot the distribution\n",
    "plt.legend(['Normal dist. ($\\mu=$ {:.2f} and $\\sigma=$ {:.2f} )'.format(mu, sigma)],\n",
    "            loc='best')\n",
    "plt.ylabel('Frequency')\n",
    "plt.title('ResolutionTime distribution')\n",
    "\n"
   ]
  },
  {
   "cell_type": "code",
   "execution_count": 45,
   "metadata": {},
   "outputs": [
    {
     "ename": "AttributeError",
     "evalue": "'float' object has no attribute 'shape'",
     "output_type": "error",
     "traceback": [
      "\u001b[0;31m---------------------------------------------------------------------------\u001b[0m",
      "\u001b[0;31mAttributeError\u001b[0m                            Traceback (most recent call last)",
      "\u001b[1;32m/Users/joaolousada/Documents/GitHub/zentest/exercise.ipynb Cell 16\u001b[0m in \u001b[0;36m<module>\u001b[0;34m\u001b[0m\n\u001b[1;32m      <a href='vscode-notebook-cell:/Users/joaolousada/Documents/GitHub/zentest/exercise.ipynb#Y155sZmlsZQ%3D%3D?line=0'>1</a>\u001b[0m \u001b[39m#Get also the QQ-plot\u001b[39;00m\n\u001b[1;32m      <a href='vscode-notebook-cell:/Users/joaolousada/Documents/GitHub/zentest/exercise.ipynb#Y155sZmlsZQ%3D%3D?line=1'>2</a>\u001b[0m fig \u001b[39m=\u001b[39m plt\u001b[39m.\u001b[39mfigure()\n\u001b[0;32m----> <a href='vscode-notebook-cell:/Users/joaolousada/Documents/GitHub/zentest/exercise.ipynb#Y155sZmlsZQ%3D%3D?line=2'>3</a>\u001b[0m res \u001b[39m=\u001b[39m stats\u001b[39m.\u001b[39;49mprobplot(target, plot\u001b[39m=\u001b[39;49mplt)\n\u001b[1;32m      <a href='vscode-notebook-cell:/Users/joaolousada/Documents/GitHub/zentest/exercise.ipynb#Y155sZmlsZQ%3D%3D?line=3'>4</a>\u001b[0m plt\u001b[39m.\u001b[39mshow()\n",
      "File \u001b[0;32m/Library/Frameworks/Python.framework/Versions/3.10/lib/python3.10/site-packages/scipy/stats/_morestats.py:614\u001b[0m, in \u001b[0;36mprobplot\u001b[0;34m(x, sparams, dist, fit, plot, rvalue)\u001b[0m\n\u001b[1;32m    611\u001b[0m osr \u001b[39m=\u001b[39m sort(x)\n\u001b[1;32m    612\u001b[0m \u001b[39mif\u001b[39;00m fit:\n\u001b[1;32m    613\u001b[0m     \u001b[39m# perform a linear least squares fit.\u001b[39;00m\n\u001b[0;32m--> 614\u001b[0m     slope, intercept, r, prob, _ \u001b[39m=\u001b[39m _stats_py\u001b[39m.\u001b[39;49mlinregress(osm, osr)\n\u001b[1;32m    616\u001b[0m \u001b[39mif\u001b[39;00m plot \u001b[39mis\u001b[39;00m \u001b[39mnot\u001b[39;00m \u001b[39mNone\u001b[39;00m:\n\u001b[1;32m    617\u001b[0m     plot\u001b[39m.\u001b[39mplot(osm, osr, \u001b[39m'\u001b[39m\u001b[39mbo\u001b[39m\u001b[39m'\u001b[39m)\n",
      "File \u001b[0;32m/Library/Frameworks/Python.framework/Versions/3.10/lib/python3.10/site-packages/scipy/stats/_stats_mstats_common.py:166\u001b[0m, in \u001b[0;36mlinregress\u001b[0;34m(x, y, alternative)\u001b[0m\n\u001b[1;32m    161\u001b[0m ymean \u001b[39m=\u001b[39m np\u001b[39m.\u001b[39mmean(y, \u001b[39mNone\u001b[39;00m)\n\u001b[1;32m    163\u001b[0m \u001b[39m# Average sums of square differences from the mean\u001b[39;00m\n\u001b[1;32m    164\u001b[0m \u001b[39m#   ssxm = mean( (x-mean(x))^2 )\u001b[39;00m\n\u001b[1;32m    165\u001b[0m \u001b[39m#   ssxym = mean( (x-mean(x)) * (y-mean(y)) )\u001b[39;00m\n\u001b[0;32m--> 166\u001b[0m ssxm, ssxym, _, ssym \u001b[39m=\u001b[39m np\u001b[39m.\u001b[39;49mcov(x, y, bias\u001b[39m=\u001b[39;49m\u001b[39m1\u001b[39;49m)\u001b[39m.\u001b[39mflat\n\u001b[1;32m    168\u001b[0m \u001b[39m# R-value\u001b[39;00m\n\u001b[1;32m    169\u001b[0m \u001b[39m#   r = ssxym / sqrt( ssxm * ssym )\u001b[39;00m\n\u001b[1;32m    170\u001b[0m \u001b[39mif\u001b[39;00m ssxm \u001b[39m==\u001b[39m \u001b[39m0.0\u001b[39m \u001b[39mor\u001b[39;00m ssym \u001b[39m==\u001b[39m \u001b[39m0.0\u001b[39m:\n\u001b[1;32m    171\u001b[0m     \u001b[39m# If the denominator was going to be 0\u001b[39;00m\n",
      "File \u001b[0;32m<__array_function__ internals>:180\u001b[0m, in \u001b[0;36mcov\u001b[0;34m(*args, **kwargs)\u001b[0m\n",
      "File \u001b[0;32m/Library/Frameworks/Python.framework/Versions/3.10/lib/python3.10/site-packages/numpy/lib/function_base.py:2656\u001b[0m, in \u001b[0;36mcov\u001b[0;34m(m, y, rowvar, bias, ddof, fweights, aweights, dtype)\u001b[0m\n\u001b[1;32m   2653\u001b[0m     \u001b[39melse\u001b[39;00m:\n\u001b[1;32m   2654\u001b[0m         w \u001b[39m*\u001b[39m\u001b[39m=\u001b[39m aweights\n\u001b[0;32m-> 2656\u001b[0m avg, w_sum \u001b[39m=\u001b[39m average(X, axis\u001b[39m=\u001b[39;49m\u001b[39m1\u001b[39;49m, weights\u001b[39m=\u001b[39;49mw, returned\u001b[39m=\u001b[39;49m\u001b[39mTrue\u001b[39;49;00m)\n\u001b[1;32m   2657\u001b[0m w_sum \u001b[39m=\u001b[39m w_sum[\u001b[39m0\u001b[39m]\n\u001b[1;32m   2659\u001b[0m \u001b[39m# Determine the normalization\u001b[39;00m\n",
      "File \u001b[0;32m<__array_function__ internals>:180\u001b[0m, in \u001b[0;36maverage\u001b[0;34m(*args, **kwargs)\u001b[0m\n",
      "File \u001b[0;32m/Library/Frameworks/Python.framework/Versions/3.10/lib/python3.10/site-packages/numpy/lib/function_base.py:530\u001b[0m, in \u001b[0;36maverage\u001b[0;34m(a, axis, weights, returned)\u001b[0m\n\u001b[1;32m    527\u001b[0m     avg \u001b[39m=\u001b[39m np\u001b[39m.\u001b[39mmultiply(a, wgt, dtype\u001b[39m=\u001b[39mresult_dtype)\u001b[39m.\u001b[39msum(axis)\u001b[39m/\u001b[39mscl\n\u001b[1;32m    529\u001b[0m \u001b[39mif\u001b[39;00m returned:\n\u001b[0;32m--> 530\u001b[0m     \u001b[39mif\u001b[39;00m scl\u001b[39m.\u001b[39;49mshape \u001b[39m!=\u001b[39m avg\u001b[39m.\u001b[39mshape:\n\u001b[1;32m    531\u001b[0m         scl \u001b[39m=\u001b[39m np\u001b[39m.\u001b[39mbroadcast_to(scl, avg\u001b[39m.\u001b[39mshape)\u001b[39m.\u001b[39mcopy()\n\u001b[1;32m    532\u001b[0m     \u001b[39mreturn\u001b[39;00m avg, scl\n",
      "\u001b[0;31mAttributeError\u001b[0m: 'float' object has no attribute 'shape'"
     ]
    },
    {
     "data": {
      "text/plain": [
       "<Figure size 432x288 with 0 Axes>"
      ]
     },
     "metadata": {},
     "output_type": "display_data"
    }
   ],
   "source": [
    "#Get also the QQ-plot\n",
    "fig = plt.figure()\n",
    "res = stats.probplot(target, plot=plt)\n",
    "plt.show()"
   ]
  },
  {
   "cell_type": "code",
   "execution_count": 200,
   "metadata": {},
   "outputs": [
    {
     "data": {
      "text/plain": [
       "{'whiskers': [<matplotlib.lines.Line2D at 0x14db2afb0>,\n",
       "  <matplotlib.lines.Line2D at 0x14db2b280>],\n",
       " 'caps': [<matplotlib.lines.Line2D at 0x14db2b550>,\n",
       "  <matplotlib.lines.Line2D at 0x14db2b820>],\n",
       " 'boxes': [<matplotlib.lines.Line2D at 0x14db2ae00>],\n",
       " 'medians': [<matplotlib.lines.Line2D at 0x14db2baf0>],\n",
       " 'fliers': [],\n",
       " 'means': []}"
      ]
     },
     "execution_count": 200,
     "metadata": {},
     "output_type": "execute_result"
    },
    {
     "data": {
      "image/png": "[encoded data removed]",
      "text/plain": [
       "<Figure size 432x288 with 1 Axes>"
      ]
     },
     "metadata": {},
     "output_type": "display_data"
    }
   ],
   "source": [
    "plt.boxplot(target, showfliers=False)"
   ]
  },
  {
   "cell_type": "code",
   "execution_count": 42,
   "metadata": {},
   "outputs": [
    {
     "data": {
      "text/plain": [
       "{'whiskers': [<matplotlib.lines.Line2D at 0x1405c5870>,\n",
       "  <matplotlib.lines.Line2D at 0x1405c5b40>],\n",
       " 'caps': [<matplotlib.lines.Line2D at 0x1405c5e10>,\n",
       "  <matplotlib.lines.Line2D at 0x1405c60e0>],\n",
       " 'boxes': [<matplotlib.lines.Line2D at 0x1405c55a0>],\n",
       " 'medians': [<matplotlib.lines.Line2D at 0x1405c63b0>],\n",
       " 'fliers': [],\n",
       " 'means': []}"
      ]
     },
     "execution_count": 42,
     "metadata": {},
     "output_type": "execute_result"
    },
    {
     "data": {
      "image/png": "[encoded data removed]",
      "text/plain": [
       "<Figure size 432x288 with 1 Axes>"
      ]
     },
     "metadata": {},
     "output_type": "display_data"
    }
   ],
   "source": [
    "plt.boxplot(np.log1p(target), showfliers=False)"
   ]
  },
  {
   "cell_type": "code",
   "execution_count": 228,
   "metadata": {},
   "outputs": [
    {
     "data": {
      "image/png": "[encoded data removed]",
      "text/plain": [
       "<Figure size 1080x576 with 2 Axes>"
      ]
     },
     "metadata": {
      "needs_background": "light"
     },
     "output_type": "display_data"
    }
   ],
   "source": [
    "# Get correlations for the dataset loaded as df\n",
    "import seaborn as sns\n",
    "import matplotlib.pyplot as plt\n",
    "%matplotlib inline\n",
    "\n",
    "test_correlations = df.corr();\n",
    "plt.figure(figsize=(15, 8))\n",
    "mask = np.zeros_like(test_correlations)\n",
    "mask[np.triu_indices_from(mask)] = True\n",
    "with sns.axes_style('white'):\n",
    " ax = sns.heatmap(test_correlations, mask=mask, square=True, xticklabels=True, yticklabels=True, cmap='YlGnBu')"
   ]
  },
  {
   "cell_type": "code",
   "execution_count": 90,
   "metadata": {},
   "outputs": [
    {
     "data": {
      "image/png": "[encoded data removed]",
      "text/plain": [
       "<Figure size 576x720 with 1 Axes>"
      ]
     },
     "metadata": {},
     "output_type": "display_data"
    }
   ],
   "source": [
    "ax1 = df.plot.scatter(x='FullResolutionTime',y='NumAgentComments')"
   ]
  },
  {
   "cell_type": "code",
   "execution_count": null,
   "metadata": {},
   "outputs": [
    {
     "data": {
      "text/plain": [
       "<function matplotlib.pyplot.show(close=None, block=None)>"
      ]
     },
     "execution_count": 221,
     "metadata": {},
     "output_type": "execute_result"
    },
    {
     "data": {
      "image/png": "[encoded data removed]",
      "text/plain": [
       "<Figure size 720x1080 with 1 Axes>"
      ]
     },
     "metadata": {
      "needs_background": "dark"
     },
     "output_type": "display_data"
    }
   ],
   "source": [
    "cat_columns = df.select_dtypes(['category']).columns\n",
    "df_corr = df.copy()\n",
    "df_corr[cat_columns] = df[cat_columns].apply(lambda x: x.cat.codes)\n",
    "\n",
    "corr_matrix = df_corr.corr()\n",
    "f, ax = plt.subplots(figsize=(10,15))\n",
    "corr_matrix['FullResolutionTime'].sort_values(ascending=True).plot.barh()\n",
    "plt.show"
   ]
  },
  {
   "cell_type": "code",
   "execution_count": 70,
   "metadata": {},
   "outputs": [],
   "source": [
    "df['TicketCreatedDate'] = pd.to_datetime(df['TicketCreatedDate'])\n",
    "df['TicketCreatedYear'] = df['TicketCreatedDate'].dt.isocalendar().year\n",
    "df['TicketCreatedWeekNr'] = df['TicketCreatedDate'].dt.isocalendar().week"
   ]
  },
  {
   "cell_type": "code",
   "execution_count": 73,
   "metadata": {},
   "outputs": [
    {
     "name": "stdout",
     "output_type": "stream",
     "text": [
      "       TicketCreatedDate TicketResolutionDate\n",
      "924           2017-01-18           2017-01-27\n",
      "925           2017-01-06           2017-01-06\n",
      "926           2017-01-06           2017-01-06\n",
      "927           2017-08-18           2017-08-18\n",
      "928           2017-03-31           2017-03-31\n",
      "...                  ...                  ...\n",
      "240660        2017-07-17           2017-07-19\n",
      "240661        2017-05-22           2017-06-14\n",
      "240662        2017-06-27           2017-07-04\n",
      "240663        2017-07-05           2017-07-18\n",
      "240664        2017-04-21           2017-05-09\n",
      "\n",
      "[239741 rows x 2 columns]\n"
     ]
    }
   ],
   "source": [
    "df['TicketResolutionDate'] = pd.to_datetime((df['TicketCreatedDate'] + pd.to_timedelta(df['FullResolutionTime'], unit='min')).dt.date)\n",
    "df['SolvedSameDay'] = df['TicketCreatedDate'] == df['TicketResolutionDate']\n",
    "print(df[['TicketCreatedDate','TicketResolutionDate']])"
   ]
  },
  {
   "cell_type": "code",
   "execution_count": 74,
   "metadata": {},
   "outputs": [
    {
     "data": {
      "text/plain": [
       "<AxesSubplot:xlabel='TicketCreatedYear,TicketCreatedWeekNr'>"
      ]
     },
     "execution_count": 74,
     "metadata": {},
     "output_type": "execute_result"
    },
    {
     "data": {
      "image/png": "[encoded data removed]",
      "text/plain": [
       "<Figure size 432x288 with 1 Axes>"
      ]
     },
     "metadata": {},
     "output_type": "display_data"
    }
   ],
   "source": [
    "# Volume of tickets Overtime\n",
    "\n",
    "df.groupby(['TicketCreatedYear','TicketCreatedWeekNr'])['TicketID'].count().plot.line()"
   ]
  },
  {
   "cell_type": "code",
   "execution_count": null,
   "metadata": {},
   "outputs": [
    {
     "data": {
      "text/plain": [
       "<AxesSubplot:xlabel='TicketCreatedYear,TicketCreatedWeekNr'>"
      ]
     },
     "execution_count": 227,
     "metadata": {},
     "output_type": "execute_result"
    },
    {
     "data": {
      "image/png": "[encoded data removed]",
      "text/plain": [
       "<Figure size 432x288 with 1 Axes>"
      ]
     },
     "metadata": {
      "needs_background": "dark"
     },
     "output_type": "display_data"
    }
   ],
   "source": [
    "# time to solve tickets\n",
    "\n",
    "df.groupby(['TicketCreatedYear','TicketCreatedWeekNr'])['FullResolutionTime'].median().plot.line()"
   ]
  },
  {
   "cell_type": "code",
   "execution_count": null,
   "metadata": {},
   "outputs": [
    {
     "data": {
      "text/plain": [
       "<AxesSubplot:>"
      ]
     },
     "execution_count": 228,
     "metadata": {},
     "output_type": "execute_result"
    },
    {
     "data": {
      "image/png": "[encoded data removed]",
      "text/plain": [
       "<Figure size 432x288 with 1 Axes>"
      ]
     },
     "metadata": {
      "needs_background": "dark"
     },
     "output_type": "display_data"
    }
   ],
   "source": [
    "# daily ticket queue\n",
    "\n",
    "def queue_size(date): \n",
    "    mask = (date >= df['TicketCreatedDate']) & (date < df['TicketResolutionDate'])\n",
    "    return df.loc[mask]['TicketID'].count()\n",
    "\n",
    "ts=pd.Series(pd.date_range(start=df['TicketCreatedDate'].min(), end=df['TicketResolutionDate'].max()))\n",
    "ts.apply (lambda row: queue_size(row)).plot.line()\n"
   ]
  },
  {
   "cell_type": "code",
   "execution_count": null,
   "metadata": {},
   "outputs": [
    {
     "data": {
      "text/html": [
       "<div>\n",
       "<style scoped>\n",
       "    .dataframe tbody tr th:only-of-type {\n",
       "        vertical-align: middle;\n",
       "    }\n",
       "\n",
       "    .dataframe tbody tr th {\n",
       "        vertical-align: top;\n",
       "    }\n",
       "\n",
       "    .dataframe thead th {\n",
       "        text-align: right;\n",
       "    }\n",
       "</style>\n",
       "<table border=\"1\" class=\"dataframe\">\n",
       "  <thead>\n",
       "    <tr style=\"text-align: right;\">\n",
       "      <th></th>\n",
       "      <th>volume</th>\n",
       "      <th>response_rate</th>\n",
       "      <th>csat_score</th>\n",
       "    </tr>\n",
       "    <tr>\n",
       "      <th>ZendeskPlan</th>\n",
       "      <th></th>\n",
       "      <th></th>\n",
       "      <th></th>\n",
       "    </tr>\n",
       "  </thead>\n",
       "  <tbody>\n",
       "    <tr>\n",
       "      <th>None</th>\n",
       "      <td>62776.0</td>\n",
       "      <td>14.16</td>\n",
       "      <td>89.04</td>\n",
       "    </tr>\n",
       "    <tr>\n",
       "      <th>Enterprise Legacy</th>\n",
       "      <td>44452.0</td>\n",
       "      <td>22.78</td>\n",
       "      <td>96.11</td>\n",
       "    </tr>\n",
       "    <tr>\n",
       "      <th>Trial</th>\n",
       "      <td>33322.0</td>\n",
       "      <td>21.70</td>\n",
       "      <td>95.28</td>\n",
       "    </tr>\n",
       "    <tr>\n",
       "      <th>Professional</th>\n",
       "      <td>22866.0</td>\n",
       "      <td>22.37</td>\n",
       "      <td>94.76</td>\n",
       "    </tr>\n",
       "    <tr>\n",
       "      <th>Plus</th>\n",
       "      <td>18383.0</td>\n",
       "      <td>24.13</td>\n",
       "      <td>95.22</td>\n",
       "    </tr>\n",
       "    <tr>\n",
       "      <th>Non-Customer</th>\n",
       "      <td>12839.0</td>\n",
       "      <td>1.85</td>\n",
       "      <td>79.75</td>\n",
       "    </tr>\n",
       "    <tr>\n",
       "      <th>Team</th>\n",
       "      <td>11734.0</td>\n",
       "      <td>20.58</td>\n",
       "      <td>94.24</td>\n",
       "    </tr>\n",
       "    <tr>\n",
       "      <th>Expired</th>\n",
       "      <td>11210.0</td>\n",
       "      <td>21.09</td>\n",
       "      <td>94.63</td>\n",
       "    </tr>\n",
       "    <tr>\n",
       "      <th>Enterprise</th>\n",
       "      <td>7052.0</td>\n",
       "      <td>24.73</td>\n",
       "      <td>95.87</td>\n",
       "    </tr>\n",
       "    <tr>\n",
       "      <th>Regular</th>\n",
       "      <td>6897.0</td>\n",
       "      <td>22.73</td>\n",
       "      <td>94.32</td>\n",
       "    </tr>\n",
       "    <tr>\n",
       "      <th>Essential</th>\n",
       "      <td>3009.0</td>\n",
       "      <td>13.63</td>\n",
       "      <td>91.71</td>\n",
       "    </tr>\n",
       "    <tr>\n",
       "      <th>Starter</th>\n",
       "      <td>2203.0</td>\n",
       "      <td>17.57</td>\n",
       "      <td>92.25</td>\n",
       "    </tr>\n",
       "    <tr>\n",
       "      <th>Enterprise Elite</th>\n",
       "      <td>1853.0</td>\n",
       "      <td>25.69</td>\n",
       "      <td>97.69</td>\n",
       "    </tr>\n",
       "    <tr>\n",
       "      <th>Unknown</th>\n",
       "      <td>859.0</td>\n",
       "      <td>11.76</td>\n",
       "      <td>84.16</td>\n",
       "    </tr>\n",
       "    <tr>\n",
       "      <th>Inbox</th>\n",
       "      <td>286.0</td>\n",
       "      <td>20.98</td>\n",
       "      <td>98.33</td>\n",
       "    </tr>\n",
       "  </tbody>\n",
       "</table>\n",
       "</div>"
      ],
      "text/plain": [
       "                    volume  response_rate  csat_score\n",
       "ZendeskPlan                                          \n",
       "None               62776.0          14.16       89.04\n",
       "Enterprise Legacy  44452.0          22.78       96.11\n",
       "Trial              33322.0          21.70       95.28\n",
       "Professional       22866.0          22.37       94.76\n",
       "Plus               18383.0          24.13       95.22\n",
       "Non-Customer       12839.0           1.85       79.75\n",
       "Team               11734.0          20.58       94.24\n",
       "Expired            11210.0          21.09       94.63\n",
       "Enterprise          7052.0          24.73       95.87\n",
       "Regular             6897.0          22.73       94.32\n",
       "Essential           3009.0          13.63       91.71\n",
       "Starter             2203.0          17.57       92.25\n",
       "Enterprise Elite    1853.0          25.69       97.69\n",
       "Unknown              859.0          11.76       84.16\n",
       "Inbox                286.0          20.98       98.33"
      ]
     },
     "execution_count": 229,
     "metadata": {},
     "output_type": "execute_result"
    }
   ],
   "source": [
    "def f(x):\n",
    "    d = {}\n",
    "    d['volume'] = x['TicketID'].count()\n",
    "    d['response_rate'] = round(100*x[x['CustomerSatisfaction'] != None]['TicketID'].count() / x['TicketID'].count(), 2)\n",
    "    d['csat_score'] = round(100*x['CustomerSatisfaction'].sum()/x[x['CustomerSatisfaction'] != None]['TicketID'].count() , 2)\n",
    "    return pd.Series(d, index=['volume', 'response_rate', 'csat_score'])\n",
    "\n",
    "df.groupby('ZendeskPlan').apply(f).sort_values( by='volume', ascending=False)"
   ]
  },
  {
   "cell_type": "code",
   "execution_count": null,
   "metadata": {},
   "outputs": [
    {
     "data": {
      "text/plain": [
       "<AxesSubplot:>"
      ]
     },
     "execution_count": 230,
     "metadata": {},
     "output_type": "execute_result"
    },
    {
     "data": {
      "image/png": "[encoded data removed]",
      "text/plain": [
       "<Figure size 432x288 with 1 Axes>"
      ]
     },
     "metadata": {
      "needs_background": "dark"
     },
     "output_type": "display_data"
    }
   ],
   "source": [
    "# CSAT Over time \n",
    "\n",
    "def csat(date): \n",
    "    mask = (date >= df['TicketCreatedDate']) & (df['CustomerSatisfaction'] != None)\n",
    "    return 100*df.loc[mask]['CustomerSatisfaction'].sum()/df.loc[mask]['TicketID'].count()\n",
    "\n",
    "ts=pd.Series(pd.date_range(start=df['TicketCreatedDate'].min(), end=df['TicketCreatedDate'].max()))\n",
    "ts.apply (lambda row: csat(row)).plot.line()\n"
   ]
  },
  {
   "cell_type": "code",
   "execution_count": null,
   "metadata": {},
   "outputs": [
    {
     "data": {
      "text/plain": [
       "<AxesSubplot:xlabel='TicketCreatedYear,TicketCreatedWeekNr'>"
      ]
     },
     "execution_count": 231,
     "metadata": {},
     "output_type": "execute_result"
    },
    {
     "data": {
      "image/png": "[encoded data removed]",
      "text/plain": [
       "<Figure size 432x288 with 1 Axes>"
      ]
     },
     "metadata": {
      "needs_background": "dark"
     },
     "output_type": "display_data"
    }
   ],
   "source": [
    "# Weekly Active Employees \n",
    "df.groupby(['TicketCreatedYear','TicketCreatedWeekNr'])['EmployeeID'].nunique().plot.bar()"
   ]
  },
  {
   "cell_type": "code",
   "execution_count": null,
   "metadata": {},
   "outputs": [
    {
     "name": "stdout",
     "output_type": "stream",
     "text": [
      "how many tickets were created ?\n",
      " 239741\n",
      "--- \n",
      "how % of tickets were solved ?\n",
      " 100.0\n",
      "--- \n",
      "how long does it take to solve a ticket ?\n",
      " count    239741.000000\n",
      "mean       5949.678053\n",
      "std       19227.491206\n",
      "min           0.000000\n",
      "25%          13.000000\n",
      "50%         116.000000\n",
      "75%        8112.000000\n",
      "max      548814.000000\n",
      "Name: FullResolutionTime, dtype: float64\n",
      "--- \n",
      "What channels receive more tickets ?\n",
      "   TicketChannel  count\n",
      "1          chat  87874\n",
      "8           web  66105\n",
      "2         email  44627\n",
      "7         voice  32886\n",
      "0           api   4752\n",
      "6       twitter   2039\n",
      "3      facebook    819\n",
      "4   help_center    630\n",
      "5        mobile      9\n"
     ]
    }
   ],
   "source": [
    "# Ticket Info \n",
    "q1 = f'how many tickets were created ?\\n'\n",
    "a1 = df['TicketID'].nunique()\n",
    "print(q1,a1)\n",
    "\n",
    "q2 = f'--- \\nhow % of tickets were solved ?\\n'\n",
    "a2 = df['FullResolutionTime'].count()\n",
    "print(q2,np.round(100*a2/a1, 2))\n",
    "\n",
    "q3 = f'--- \\nhow long does it take to solve a ticket ?\\n'\n",
    "print(q3, df['FullResolutionTime'].describe())\n",
    "\n",
    "q4 = f'--- \\nWhat channels receive more tickets ?\\n'\n",
    "print(q4, df.groupby(['TicketChannel'])['TicketID'] \\\n",
    "    .count() \\\n",
    "    .reset_index(name='count') \\\n",
    "    .sort_values(['count'], ascending=False)\n",
    ")\n",
    "\n"
   ]
  },
  {
   "cell_type": "code",
   "execution_count": null,
   "metadata": {},
   "outputs": [
    {
     "data": {
      "text/html": [
       "<div>\n",
       "<style scoped>\n",
       "    .dataframe tbody tr th:only-of-type {\n",
       "        vertical-align: middle;\n",
       "    }\n",
       "\n",
       "    .dataframe tbody tr th {\n",
       "        vertical-align: top;\n",
       "    }\n",
       "\n",
       "    .dataframe thead tr th {\n",
       "        text-align: left;\n",
       "    }\n",
       "\n",
       "    .dataframe thead tr:last-of-type th {\n",
       "        text-align: right;\n",
       "    }\n",
       "</style>\n",
       "<table border=\"1\" class=\"dataframe\">\n",
       "  <thead>\n",
       "    <tr>\n",
       "      <th></th>\n",
       "      <th>TicketID</th>\n",
       "      <th colspan=\"3\" halign=\"left\">FullResolutionTime</th>\n",
       "      <th colspan=\"2\" halign=\"left\">FirstReplyTime</th>\n",
       "      <th>NumAgentComments</th>\n",
       "      <th>NumPublicComments</th>\n",
       "      <th>TicketEscalated</th>\n",
       "      <th>CustomerSatisfaction</th>\n",
       "    </tr>\n",
       "    <tr>\n",
       "      <th></th>\n",
       "      <th>count</th>\n",
       "      <th>count</th>\n",
       "      <th>median</th>\n",
       "      <th>mean</th>\n",
       "      <th>count</th>\n",
       "      <th>median</th>\n",
       "      <th>median</th>\n",
       "      <th>median</th>\n",
       "      <th>sum</th>\n",
       "      <th>sum</th>\n",
       "    </tr>\n",
       "    <tr>\n",
       "      <th>EmployeeID</th>\n",
       "      <th></th>\n",
       "      <th></th>\n",
       "      <th></th>\n",
       "      <th></th>\n",
       "      <th></th>\n",
       "      <th></th>\n",
       "      <th></th>\n",
       "      <th></th>\n",
       "      <th></th>\n",
       "      <th></th>\n",
       "    </tr>\n",
       "  </thead>\n",
       "  <tbody>\n",
       "    <tr>\n",
       "      <th>2081</th>\n",
       "      <td>14040</td>\n",
       "      <td>14040</td>\n",
       "      <td>5.0</td>\n",
       "      <td>166.566453</td>\n",
       "      <td>14040</td>\n",
       "      <td>-1.0</td>\n",
       "      <td>0.0</td>\n",
       "      <td>0.0</td>\n",
       "      <td>254</td>\n",
       "      <td>1960</td>\n",
       "    </tr>\n",
       "    <tr>\n",
       "      <th>2050</th>\n",
       "      <td>7828</td>\n",
       "      <td>7828</td>\n",
       "      <td>9.0</td>\n",
       "      <td>322.87187</td>\n",
       "      <td>7828</td>\n",
       "      <td>-1.0</td>\n",
       "      <td>0.0</td>\n",
       "      <td>0.0</td>\n",
       "      <td>140</td>\n",
       "      <td>1262</td>\n",
       "    </tr>\n",
       "    <tr>\n",
       "      <th>1463</th>\n",
       "      <td>7676</td>\n",
       "      <td>7676</td>\n",
       "      <td>6.0</td>\n",
       "      <td>250.369724</td>\n",
       "      <td>7676</td>\n",
       "      <td>-1.0</td>\n",
       "      <td>0.0</td>\n",
       "      <td>0.0</td>\n",
       "      <td>100</td>\n",
       "      <td>1073</td>\n",
       "    </tr>\n",
       "    <tr>\n",
       "      <th>2031</th>\n",
       "      <td>3568</td>\n",
       "      <td>3568</td>\n",
       "      <td>1608.0</td>\n",
       "      <td>6750.746357</td>\n",
       "      <td>3568</td>\n",
       "      <td>46.5</td>\n",
       "      <td>2.0</td>\n",
       "      <td>2.0</td>\n",
       "      <td>55</td>\n",
       "      <td>767</td>\n",
       "    </tr>\n",
       "    <tr>\n",
       "      <th>2149</th>\n",
       "      <td>4675</td>\n",
       "      <td>4675</td>\n",
       "      <td>60.0</td>\n",
       "      <td>4807.848342</td>\n",
       "      <td>4675</td>\n",
       "      <td>16.0</td>\n",
       "      <td>2.0</td>\n",
       "      <td>2.0</td>\n",
       "      <td>74</td>\n",
       "      <td>741</td>\n",
       "    </tr>\n",
       "    <tr>\n",
       "      <th>...</th>\n",
       "      <td>...</td>\n",
       "      <td>...</td>\n",
       "      <td>...</td>\n",
       "      <td>...</td>\n",
       "      <td>...</td>\n",
       "      <td>...</td>\n",
       "      <td>...</td>\n",
       "      <td>...</td>\n",
       "      <td>...</td>\n",
       "      <td>...</td>\n",
       "    </tr>\n",
       "    <tr>\n",
       "      <th>1077</th>\n",
       "      <td>2</td>\n",
       "      <td>2</td>\n",
       "      <td>191.0</td>\n",
       "      <td>191.0</td>\n",
       "      <td>2</td>\n",
       "      <td>23.5</td>\n",
       "      <td>1.5</td>\n",
       "      <td>3.0</td>\n",
       "      <td>1</td>\n",
       "      <td>0</td>\n",
       "    </tr>\n",
       "    <tr>\n",
       "      <th>939</th>\n",
       "      <td>6</td>\n",
       "      <td>6</td>\n",
       "      <td>468.5</td>\n",
       "      <td>3249.166667</td>\n",
       "      <td>6</td>\n",
       "      <td>5.5</td>\n",
       "      <td>2.0</td>\n",
       "      <td>3.0</td>\n",
       "      <td>1</td>\n",
       "      <td>0</td>\n",
       "    </tr>\n",
       "    <tr>\n",
       "      <th>411</th>\n",
       "      <td>5</td>\n",
       "      <td>5</td>\n",
       "      <td>12.0</td>\n",
       "      <td>23569.2</td>\n",
       "      <td>5</td>\n",
       "      <td>-1.0</td>\n",
       "      <td>2.0</td>\n",
       "      <td>0.0</td>\n",
       "      <td>0</td>\n",
       "      <td>0</td>\n",
       "    </tr>\n",
       "    <tr>\n",
       "      <th>528</th>\n",
       "      <td>1</td>\n",
       "      <td>1</td>\n",
       "      <td>22723.0</td>\n",
       "      <td>22723.0</td>\n",
       "      <td>1</td>\n",
       "      <td>4257.0</td>\n",
       "      <td>4.0</td>\n",
       "      <td>3.0</td>\n",
       "      <td>1</td>\n",
       "      <td>0</td>\n",
       "    </tr>\n",
       "    <tr>\n",
       "      <th>553</th>\n",
       "      <td>1</td>\n",
       "      <td>1</td>\n",
       "      <td>78.0</td>\n",
       "      <td>78.0</td>\n",
       "      <td>1</td>\n",
       "      <td>78.0</td>\n",
       "      <td>3.0</td>\n",
       "      <td>2.0</td>\n",
       "      <td>0</td>\n",
       "      <td>0</td>\n",
       "    </tr>\n",
       "  </tbody>\n",
       "</table>\n",
       "<p>193 rows × 10 columns</p>\n",
       "</div>"
      ],
      "text/plain": [
       "           TicketID FullResolutionTime                       FirstReplyTime  \\\n",
       "              count              count   median         mean          count   \n",
       "EmployeeID                                                                    \n",
       "2081          14040              14040      5.0   166.566453          14040   \n",
       "2050           7828               7828      9.0    322.87187           7828   \n",
       "1463           7676               7676      6.0   250.369724           7676   \n",
       "2031           3568               3568   1608.0  6750.746357           3568   \n",
       "2149           4675               4675     60.0  4807.848342           4675   \n",
       "...             ...                ...      ...          ...            ...   \n",
       "1077              2                  2    191.0        191.0              2   \n",
       "939               6                  6    468.5  3249.166667              6   \n",
       "411               5                  5     12.0      23569.2              5   \n",
       "528               1                  1  22723.0      22723.0              1   \n",
       "553               1                  1     78.0         78.0              1   \n",
       "\n",
       "                   NumAgentComments NumPublicComments TicketEscalated  \\\n",
       "            median           median            median             sum   \n",
       "EmployeeID                                                              \n",
       "2081          -1.0              0.0               0.0             254   \n",
       "2050          -1.0              0.0               0.0             140   \n",
       "1463          -1.0              0.0               0.0             100   \n",
       "2031          46.5              2.0               2.0              55   \n",
       "2149          16.0              2.0               2.0              74   \n",
       "...            ...              ...               ...             ...   \n",
       "1077          23.5              1.5               3.0               1   \n",
       "939            5.5              2.0               3.0               1   \n",
       "411           -1.0              2.0               0.0               0   \n",
       "528         4257.0              4.0               3.0               1   \n",
       "553           78.0              3.0               2.0               0   \n",
       "\n",
       "           CustomerSatisfaction  \n",
       "                            sum  \n",
       "EmployeeID                       \n",
       "2081                       1960  \n",
       "2050                       1262  \n",
       "1463                       1073  \n",
       "2031                        767  \n",
       "2149                        741  \n",
       "...                         ...  \n",
       "1077                          0  \n",
       "939                           0  \n",
       "411                           0  \n",
       "528                           0  \n",
       "553                           0  \n",
       "\n",
       "[193 rows x 10 columns]"
      ]
     },
     "execution_count": 233,
     "metadata": {},
     "output_type": "execute_result"
    }
   ],
   "source": [
    "# average tickets solved per day per employee\n",
    "\n",
    "df.groupby(['EmployeeID']).agg({'TicketID':['count'], \n",
    "                         'FullResolutionTime':['count','median', 'mean'],\n",
    "                         'FirstReplyTime': ['count', 'median'],\n",
    "                         'NumAgentComments': 'median',\n",
    "                         'NumPublicComments': 'median',\n",
    "                         'TicketEscalated': 'sum',\n",
    "                         'CustomerSatisfaction': 'sum'\n",
    "                         }).sort_values(by=('CustomerSatisfaction','sum'), ascending=False)\n"
   ]
  },
  {
   "cell_type": "code",
   "execution_count": 275,
   "metadata": {},
   "outputs": [
    {
     "ename": "KeyError",
     "evalue": "'FullResolutionTime'",
     "output_type": "error",
     "traceback": [
      "\u001b[0;31m---------------------------------------------------------------------------\u001b[0m",
      "\u001b[0;31mKeyError\u001b[0m                                  Traceback (most recent call last)",
      "File \u001b[0;32m/Library/Frameworks/Python.framework/Versions/3.10/lib/python3.10/site-packages/pandas/core/indexes/base.py:3361\u001b[0m, in \u001b[0;36mIndex.get_loc\u001b[0;34m(self, key, method, tolerance)\u001b[0m\n\u001b[1;32m   3360\u001b[0m \u001b[39mtry\u001b[39;00m:\n\u001b[0;32m-> 3361\u001b[0m     \u001b[39mreturn\u001b[39;00m \u001b[39mself\u001b[39;49m\u001b[39m.\u001b[39;49m_engine\u001b[39m.\u001b[39;49mget_loc(casted_key)\n\u001b[1;32m   3362\u001b[0m \u001b[39mexcept\u001b[39;00m \u001b[39mKeyError\u001b[39;00m \u001b[39mas\u001b[39;00m err:\n",
      "File \u001b[0;32m/Library/Frameworks/Python.framework/Versions/3.10/lib/python3.10/site-packages/pandas/_libs/index.pyx:76\u001b[0m, in \u001b[0;36mpandas._libs.index.IndexEngine.get_loc\u001b[0;34m()\u001b[0m\n",
      "File \u001b[0;32m/Library/Frameworks/Python.framework/Versions/3.10/lib/python3.10/site-packages/pandas/_libs/index.pyx:108\u001b[0m, in \u001b[0;36mpandas._libs.index.IndexEngine.get_loc\u001b[0;34m()\u001b[0m\n",
      "File \u001b[0;32mpandas/_libs/hashtable_class_helper.pxi:5198\u001b[0m, in \u001b[0;36mpandas._libs.hashtable.PyObjectHashTable.get_item\u001b[0;34m()\u001b[0m\n",
      "File \u001b[0;32mpandas/_libs/hashtable_class_helper.pxi:5206\u001b[0m, in \u001b[0;36mpandas._libs.hashtable.PyObjectHashTable.get_item\u001b[0;34m()\u001b[0m\n",
      "\u001b[0;31mKeyError\u001b[0m: 'FullResolutionTime'",
      "\nThe above exception was the direct cause of the following exception:\n",
      "\u001b[0;31mKeyError\u001b[0m                                  Traceback (most recent call last)",
      "\u001b[1;32m/Users/joaolousada/Documents/GitHub/zentest/exercise.ipynb Cell 31\u001b[0m in \u001b[0;36m<module>\u001b[0;34m\u001b[0m\n\u001b[1;32m      <a href='vscode-notebook-cell:/Users/joaolousada/Documents/GitHub/zentest/exercise.ipynb#Y220sZmlsZQ%3D%3D?line=0'>1</a>\u001b[0m corr_matrix \u001b[39m=\u001b[39m df\u001b[39m.\u001b[39mcorr()\n\u001b[0;32m----> <a href='vscode-notebook-cell:/Users/joaolousada/Documents/GitHub/zentest/exercise.ipynb#Y220sZmlsZQ%3D%3D?line=1'>2</a>\u001b[0m corr_matrix[\u001b[39m'\u001b[39;49m\u001b[39mFullResolutionTime\u001b[39;49m\u001b[39m'\u001b[39;49m]\u001b[39m.\u001b[39msort_values(ascending\u001b[39m=\u001b[39m\u001b[39mFalse\u001b[39;00m)\n",
      "File \u001b[0;32m/Library/Frameworks/Python.framework/Versions/3.10/lib/python3.10/site-packages/pandas/core/frame.py:3458\u001b[0m, in \u001b[0;36mDataFrame.__getitem__\u001b[0;34m(self, key)\u001b[0m\n\u001b[1;32m   3456\u001b[0m \u001b[39mif\u001b[39;00m \u001b[39mself\u001b[39m\u001b[39m.\u001b[39mcolumns\u001b[39m.\u001b[39mnlevels \u001b[39m>\u001b[39m \u001b[39m1\u001b[39m:\n\u001b[1;32m   3457\u001b[0m     \u001b[39mreturn\u001b[39;00m \u001b[39mself\u001b[39m\u001b[39m.\u001b[39m_getitem_multilevel(key)\n\u001b[0;32m-> 3458\u001b[0m indexer \u001b[39m=\u001b[39m \u001b[39mself\u001b[39;49m\u001b[39m.\u001b[39;49mcolumns\u001b[39m.\u001b[39;49mget_loc(key)\n\u001b[1;32m   3459\u001b[0m \u001b[39mif\u001b[39;00m is_integer(indexer):\n\u001b[1;32m   3460\u001b[0m     indexer \u001b[39m=\u001b[39m [indexer]\n",
      "File \u001b[0;32m/Library/Frameworks/Python.framework/Versions/3.10/lib/python3.10/site-packages/pandas/core/indexes/base.py:3363\u001b[0m, in \u001b[0;36mIndex.get_loc\u001b[0;34m(self, key, method, tolerance)\u001b[0m\n\u001b[1;32m   3361\u001b[0m         \u001b[39mreturn\u001b[39;00m \u001b[39mself\u001b[39m\u001b[39m.\u001b[39m_engine\u001b[39m.\u001b[39mget_loc(casted_key)\n\u001b[1;32m   3362\u001b[0m     \u001b[39mexcept\u001b[39;00m \u001b[39mKeyError\u001b[39;00m \u001b[39mas\u001b[39;00m err:\n\u001b[0;32m-> 3363\u001b[0m         \u001b[39mraise\u001b[39;00m \u001b[39mKeyError\u001b[39;00m(key) \u001b[39mfrom\u001b[39;00m \u001b[39merr\u001b[39;00m\n\u001b[1;32m   3365\u001b[0m \u001b[39mif\u001b[39;00m is_scalar(key) \u001b[39mand\u001b[39;00m isna(key) \u001b[39mand\u001b[39;00m \u001b[39mnot\u001b[39;00m \u001b[39mself\u001b[39m\u001b[39m.\u001b[39mhasnans:\n\u001b[1;32m   3366\u001b[0m     \u001b[39mraise\u001b[39;00m \u001b[39mKeyError\u001b[39;00m(key)\n",
      "\u001b[0;31mKeyError\u001b[0m: 'FullResolutionTime'"
     ]
    }
   ],
   "source": [
    "corr_matrix = df.corr()\n",
    "corr_matrix['FullResolutionTime'].sort_values(ascending=False)"
   ]
  },
  {
   "cell_type": "markdown",
   "metadata": {},
   "source": [
    "## Preprocessing"
   ]
  },
  {
   "cell_type": "code",
   "execution_count": 549,
   "metadata": {},
   "outputs": [
    {
     "data": {
      "text/html": [
       "<div>\n",
       "<style scoped>\n",
       "    .dataframe tbody tr th:only-of-type {\n",
       "        vertical-align: middle;\n",
       "    }\n",
       "\n",
       "    .dataframe tbody tr th {\n",
       "        vertical-align: top;\n",
       "    }\n",
       "\n",
       "    .dataframe thead th {\n",
       "        text-align: right;\n",
       "    }\n",
       "</style>\n",
       "<table border=\"1\" class=\"dataframe\">\n",
       "  <thead>\n",
       "    <tr style=\"text-align: right;\">\n",
       "      <th></th>\n",
       "      <th>EmployeeID</th>\n",
       "      <th>TicketChannel</th>\n",
       "      <th>TicketGroup</th>\n",
       "      <th>TicketID</th>\n",
       "      <th>TicketCreatedDate</th>\n",
       "      <th>ZendeskPlan</th>\n",
       "      <th>DayTicketSolved</th>\n",
       "      <th>AssigneeTier</th>\n",
       "      <th>FirstReplyTime</th>\n",
       "      <th>FullResolutionTime</th>\n",
       "      <th>NumAgentComments</th>\n",
       "      <th>NumPublicComments</th>\n",
       "      <th>TicketEscalated</th>\n",
       "      <th>CustomerSatisfaction</th>\n",
       "      <th>WorkerDateHired</th>\n",
       "      <th>WorkerLocation</th>\n",
       "      <th>Worker_Type</th>\n",
       "      <th>WorkerTenure</th>\n",
       "    </tr>\n",
       "  </thead>\n",
       "  <tbody>\n",
       "    <tr>\n",
       "      <th>924</th>\n",
       "      <td>688</td>\n",
       "      <td>chat</td>\n",
       "      <td>Zopim T1</td>\n",
       "      <td>2166897</td>\n",
       "      <td>2017-01-18</td>\n",
       "      <td>None</td>\n",
       "      <td>Friday</td>\n",
       "      <td>None</td>\n",
       "      <td>0</td>\n",
       "      <td>13309</td>\n",
       "      <td>1</td>\n",
       "      <td>0</td>\n",
       "      <td>0</td>\n",
       "      <td>-1</td>\n",
       "      <td>2014-06-01</td>\n",
       "      <td>Manila</td>\n",
       "      <td>Employee</td>\n",
       "      <td>962</td>\n",
       "    </tr>\n",
       "    <tr>\n",
       "      <th>925</th>\n",
       "      <td>1463</td>\n",
       "      <td>chat</td>\n",
       "      <td>Zopim T1</td>\n",
       "      <td>2132608</td>\n",
       "      <td>2017-01-06</td>\n",
       "      <td>None</td>\n",
       "      <td>Friday</td>\n",
       "      <td>None</td>\n",
       "      <td>0</td>\n",
       "      <td>4</td>\n",
       "      <td>0</td>\n",
       "      <td>0</td>\n",
       "      <td>0</td>\n",
       "      <td>0</td>\n",
       "      <td>2015-08-03</td>\n",
       "      <td>Manila</td>\n",
       "      <td>Employee</td>\n",
       "      <td>522</td>\n",
       "    </tr>\n",
       "    <tr>\n",
       "      <th>926</th>\n",
       "      <td>1463</td>\n",
       "      <td>chat</td>\n",
       "      <td>Zopim T1</td>\n",
       "      <td>2132014</td>\n",
       "      <td>2017-01-06</td>\n",
       "      <td>None</td>\n",
       "      <td>Friday</td>\n",
       "      <td>None</td>\n",
       "      <td>0</td>\n",
       "      <td>35</td>\n",
       "      <td>0</td>\n",
       "      <td>0</td>\n",
       "      <td>0</td>\n",
       "      <td>0</td>\n",
       "      <td>2015-08-03</td>\n",
       "      <td>Manila</td>\n",
       "      <td>Employee</td>\n",
       "      <td>522</td>\n",
       "    </tr>\n",
       "    <tr>\n",
       "      <th>927</th>\n",
       "      <td>1463</td>\n",
       "      <td>chat</td>\n",
       "      <td>Zopim T1</td>\n",
       "      <td>2878472</td>\n",
       "      <td>2017-08-18</td>\n",
       "      <td>None</td>\n",
       "      <td>Friday</td>\n",
       "      <td>None</td>\n",
       "      <td>0</td>\n",
       "      <td>0</td>\n",
       "      <td>0</td>\n",
       "      <td>0</td>\n",
       "      <td>0</td>\n",
       "      <td>0</td>\n",
       "      <td>2015-08-03</td>\n",
       "      <td>Manila</td>\n",
       "      <td>Employee</td>\n",
       "      <td>746</td>\n",
       "    </tr>\n",
       "    <tr>\n",
       "      <th>928</th>\n",
       "      <td>1463</td>\n",
       "      <td>chat</td>\n",
       "      <td>Zopim T1</td>\n",
       "      <td>2483674</td>\n",
       "      <td>2017-03-31</td>\n",
       "      <td>None</td>\n",
       "      <td>Friday</td>\n",
       "      <td>None</td>\n",
       "      <td>0</td>\n",
       "      <td>2</td>\n",
       "      <td>0</td>\n",
       "      <td>0</td>\n",
       "      <td>0</td>\n",
       "      <td>0</td>\n",
       "      <td>2015-08-03</td>\n",
       "      <td>Manila</td>\n",
       "      <td>Employee</td>\n",
       "      <td>606</td>\n",
       "    </tr>\n",
       "  </tbody>\n",
       "</table>\n",
       "</div>"
      ],
      "text/plain": [
       "     EmployeeID TicketChannel TicketGroup  TicketID TicketCreatedDate  \\\n",
       "924         688          chat    Zopim T1   2166897        2017-01-18   \n",
       "925        1463          chat    Zopim T1   2132608        2017-01-06   \n",
       "926        1463          chat    Zopim T1   2132014        2017-01-06   \n",
       "927        1463          chat    Zopim T1   2878472        2017-08-18   \n",
       "928        1463          chat    Zopim T1   2483674        2017-03-31   \n",
       "\n",
       "    ZendeskPlan DayTicketSolved AssigneeTier  FirstReplyTime  \\\n",
       "924        None          Friday         None               0   \n",
       "925        None          Friday         None               0   \n",
       "926        None          Friday         None               0   \n",
       "927        None          Friday         None               0   \n",
       "928        None          Friday         None               0   \n",
       "\n",
       "     FullResolutionTime  NumAgentComments  NumPublicComments  TicketEscalated  \\\n",
       "924               13309                 1                  0                0   \n",
       "925                   4                 0                  0                0   \n",
       "926                  35                 0                  0                0   \n",
       "927                   0                 0                  0                0   \n",
       "928                   2                 0                  0                0   \n",
       "\n",
       "     CustomerSatisfaction WorkerDateHired WorkerLocation Worker_Type  \\\n",
       "924                    -1      2014-06-01         Manila    Employee   \n",
       "925                     0      2015-08-03         Manila    Employee   \n",
       "926                     0      2015-08-03         Manila    Employee   \n",
       "927                     0      2015-08-03         Manila    Employee   \n",
       "928                     0      2015-08-03         Manila    Employee   \n",
       "\n",
       "     WorkerTenure  \n",
       "924           962  \n",
       "925           522  \n",
       "926           522  \n",
       "927           746  \n",
       "928           606  "
      ]
     },
     "execution_count": 549,
     "metadata": {},
     "output_type": "execute_result"
    }
   ],
   "source": [
    "df.head()"
   ]
  },
  {
   "cell_type": "code",
   "execution_count": 552,
   "metadata": {},
   "outputs": [
    {
     "data": {
      "text/html": [
       "<div>\n",
       "<style scoped>\n",
       "    .dataframe tbody tr th:only-of-type {\n",
       "        vertical-align: middle;\n",
       "    }\n",
       "\n",
       "    .dataframe tbody tr th {\n",
       "        vertical-align: top;\n",
       "    }\n",
       "\n",
       "    .dataframe thead th {\n",
       "        text-align: right;\n",
       "    }\n",
       "</style>\n",
       "<table border=\"1\" class=\"dataframe\">\n",
       "  <thead>\n",
       "    <tr style=\"text-align: right;\">\n",
       "      <th></th>\n",
       "      <th>EmployeeID</th>\n",
       "      <th>TicketChannel</th>\n",
       "      <th>TicketGroup</th>\n",
       "      <th>ZendeskPlan</th>\n",
       "      <th>DayTicketSolved</th>\n",
       "      <th>AssigneeTier</th>\n",
       "      <th>FirstReplyTime</th>\n",
       "      <th>FullResolutionTime</th>\n",
       "      <th>NumAgentComments</th>\n",
       "      <th>NumPublicComments</th>\n",
       "      <th>TicketEscalated</th>\n",
       "      <th>WorkerLocation</th>\n",
       "      <th>Worker_Type</th>\n",
       "      <th>WorkerTenure</th>\n",
       "      <th>TicketCreatedMonth</th>\n",
       "      <th>HasResponded</th>\n",
       "    </tr>\n",
       "  </thead>\n",
       "  <tbody>\n",
       "    <tr>\n",
       "      <th>924</th>\n",
       "      <td>688</td>\n",
       "      <td>chat</td>\n",
       "      <td>Zopim T1</td>\n",
       "      <td>None</td>\n",
       "      <td>Friday</td>\n",
       "      <td>None</td>\n",
       "      <td>0</td>\n",
       "      <td>13309</td>\n",
       "      <td>1</td>\n",
       "      <td>0</td>\n",
       "      <td>0</td>\n",
       "      <td>Manila</td>\n",
       "      <td>Employee</td>\n",
       "      <td>962</td>\n",
       "      <td>1</td>\n",
       "      <td>1</td>\n",
       "    </tr>\n",
       "    <tr>\n",
       "      <th>925</th>\n",
       "      <td>1463</td>\n",
       "      <td>chat</td>\n",
       "      <td>Zopim T1</td>\n",
       "      <td>None</td>\n",
       "      <td>Friday</td>\n",
       "      <td>None</td>\n",
       "      <td>0</td>\n",
       "      <td>4</td>\n",
       "      <td>0</td>\n",
       "      <td>0</td>\n",
       "      <td>0</td>\n",
       "      <td>Manila</td>\n",
       "      <td>Employee</td>\n",
       "      <td>522</td>\n",
       "      <td>1</td>\n",
       "      <td>0</td>\n",
       "    </tr>\n",
       "    <tr>\n",
       "      <th>926</th>\n",
       "      <td>1463</td>\n",
       "      <td>chat</td>\n",
       "      <td>Zopim T1</td>\n",
       "      <td>None</td>\n",
       "      <td>Friday</td>\n",
       "      <td>None</td>\n",
       "      <td>0</td>\n",
       "      <td>35</td>\n",
       "      <td>0</td>\n",
       "      <td>0</td>\n",
       "      <td>0</td>\n",
       "      <td>Manila</td>\n",
       "      <td>Employee</td>\n",
       "      <td>522</td>\n",
       "      <td>1</td>\n",
       "      <td>0</td>\n",
       "    </tr>\n",
       "    <tr>\n",
       "      <th>927</th>\n",
       "      <td>1463</td>\n",
       "      <td>chat</td>\n",
       "      <td>Zopim T1</td>\n",
       "      <td>None</td>\n",
       "      <td>Friday</td>\n",
       "      <td>None</td>\n",
       "      <td>0</td>\n",
       "      <td>0</td>\n",
       "      <td>0</td>\n",
       "      <td>0</td>\n",
       "      <td>0</td>\n",
       "      <td>Manila</td>\n",
       "      <td>Employee</td>\n",
       "      <td>746</td>\n",
       "      <td>8</td>\n",
       "      <td>0</td>\n",
       "    </tr>\n",
       "    <tr>\n",
       "      <th>928</th>\n",
       "      <td>1463</td>\n",
       "      <td>chat</td>\n",
       "      <td>Zopim T1</td>\n",
       "      <td>None</td>\n",
       "      <td>Friday</td>\n",
       "      <td>None</td>\n",
       "      <td>0</td>\n",
       "      <td>2</td>\n",
       "      <td>0</td>\n",
       "      <td>0</td>\n",
       "      <td>0</td>\n",
       "      <td>Manila</td>\n",
       "      <td>Employee</td>\n",
       "      <td>606</td>\n",
       "      <td>3</td>\n",
       "      <td>0</td>\n",
       "    </tr>\n",
       "  </tbody>\n",
       "</table>\n",
       "</div>"
      ],
      "text/plain": [
       "     EmployeeID TicketChannel TicketGroup ZendeskPlan DayTicketSolved  \\\n",
       "924         688          chat    Zopim T1        None          Friday   \n",
       "925        1463          chat    Zopim T1        None          Friday   \n",
       "926        1463          chat    Zopim T1        None          Friday   \n",
       "927        1463          chat    Zopim T1        None          Friday   \n",
       "928        1463          chat    Zopim T1        None          Friday   \n",
       "\n",
       "    AssigneeTier  FirstReplyTime  FullResolutionTime  NumAgentComments  \\\n",
       "924         None               0               13309                 1   \n",
       "925         None               0                   4                 0   \n",
       "926         None               0                  35                 0   \n",
       "927         None               0                   0                 0   \n",
       "928         None               0                   2                 0   \n",
       "\n",
       "     NumPublicComments  TicketEscalated WorkerLocation Worker_Type  \\\n",
       "924                  0                0         Manila    Employee   \n",
       "925                  0                0         Manila    Employee   \n",
       "926                  0                0         Manila    Employee   \n",
       "927                  0                0         Manila    Employee   \n",
       "928                  0                0         Manila    Employee   \n",
       "\n",
       "     WorkerTenure  TicketCreatedMonth  HasResponded  \n",
       "924           962                   1             1  \n",
       "925           522                   1             0  \n",
       "926           522                   1             0  \n",
       "927           746                   8             0  \n",
       "928           606                   3             0  "
      ]
     },
     "execution_count": 552,
     "metadata": {},
     "output_type": "execute_result"
    }
   ],
   "source": [
    "df.set_index('TicketID')\n",
    "\n",
    "df['TicketCreatedMonth'] = pd.DatetimeIndex(df['TicketCreatedDate']).month\n",
    "df['HasResponded'] = df.apply(lambda x: 0 if x['CustomerSatisfaction'] == 0 else 1, axis=1)\n",
    "\n",
    "exclude = [\n",
    "    'TicketID',\n",
    "    'WorkerDateHired',\n",
    "    'TicketCreatedDate',\n",
    "    'CustomerSatisfaction'\n",
    "]\n",
    "\n",
    "df = df.drop(exclude, axis=1)\n",
    "\n",
    "df.head()"
   ]
  },
  {
   "cell_type": "code",
   "execution_count": 553,
   "metadata": {},
   "outputs": [
    {
     "data": {
      "text/html": [
       "<div>\n",
       "<style scoped>\n",
       "    .dataframe tbody tr th:only-of-type {\n",
       "        vertical-align: middle;\n",
       "    }\n",
       "\n",
       "    .dataframe tbody tr th {\n",
       "        vertical-align: top;\n",
       "    }\n",
       "\n",
       "    .dataframe thead th {\n",
       "        text-align: right;\n",
       "    }\n",
       "</style>\n",
       "<table border=\"1\" class=\"dataframe\">\n",
       "  <thead>\n",
       "    <tr style=\"text-align: right;\">\n",
       "      <th></th>\n",
       "      <th>EmployeeID</th>\n",
       "      <th>TicketChannel</th>\n",
       "      <th>TicketGroup</th>\n",
       "      <th>ZendeskPlan</th>\n",
       "      <th>DayTicketSolved</th>\n",
       "      <th>AssigneeTier</th>\n",
       "      <th>FirstReplyTime</th>\n",
       "      <th>FullResolutionTime</th>\n",
       "      <th>NumAgentComments</th>\n",
       "      <th>NumPublicComments</th>\n",
       "      <th>TicketEscalated</th>\n",
       "      <th>WorkerLocation</th>\n",
       "      <th>Worker_Type</th>\n",
       "      <th>WorkerTenure</th>\n",
       "      <th>TicketCreatedMonth</th>\n",
       "      <th>HasResponded</th>\n",
       "    </tr>\n",
       "  </thead>\n",
       "  <tbody>\n",
       "    <tr>\n",
       "      <th>924</th>\n",
       "      <td>688</td>\n",
       "      <td>1</td>\n",
       "      <td>26</td>\n",
       "      <td>7</td>\n",
       "      <td>0</td>\n",
       "      <td>0</td>\n",
       "      <td>0</td>\n",
       "      <td>13309</td>\n",
       "      <td>1</td>\n",
       "      <td>0</td>\n",
       "      <td>0</td>\n",
       "      <td>5</td>\n",
       "      <td>1</td>\n",
       "      <td>962</td>\n",
       "      <td>1</td>\n",
       "      <td>1</td>\n",
       "    </tr>\n",
       "    <tr>\n",
       "      <th>925</th>\n",
       "      <td>1463</td>\n",
       "      <td>1</td>\n",
       "      <td>26</td>\n",
       "      <td>7</td>\n",
       "      <td>0</td>\n",
       "      <td>0</td>\n",
       "      <td>0</td>\n",
       "      <td>4</td>\n",
       "      <td>0</td>\n",
       "      <td>0</td>\n",
       "      <td>0</td>\n",
       "      <td>5</td>\n",
       "      <td>1</td>\n",
       "      <td>522</td>\n",
       "      <td>1</td>\n",
       "      <td>0</td>\n",
       "    </tr>\n",
       "    <tr>\n",
       "      <th>926</th>\n",
       "      <td>1463</td>\n",
       "      <td>1</td>\n",
       "      <td>26</td>\n",
       "      <td>7</td>\n",
       "      <td>0</td>\n",
       "      <td>0</td>\n",
       "      <td>0</td>\n",
       "      <td>35</td>\n",
       "      <td>0</td>\n",
       "      <td>0</td>\n",
       "      <td>0</td>\n",
       "      <td>5</td>\n",
       "      <td>1</td>\n",
       "      <td>522</td>\n",
       "      <td>1</td>\n",
       "      <td>0</td>\n",
       "    </tr>\n",
       "    <tr>\n",
       "      <th>927</th>\n",
       "      <td>1463</td>\n",
       "      <td>1</td>\n",
       "      <td>26</td>\n",
       "      <td>7</td>\n",
       "      <td>0</td>\n",
       "      <td>0</td>\n",
       "      <td>0</td>\n",
       "      <td>0</td>\n",
       "      <td>0</td>\n",
       "      <td>0</td>\n",
       "      <td>0</td>\n",
       "      <td>5</td>\n",
       "      <td>1</td>\n",
       "      <td>746</td>\n",
       "      <td>8</td>\n",
       "      <td>0</td>\n",
       "    </tr>\n",
       "    <tr>\n",
       "      <th>928</th>\n",
       "      <td>1463</td>\n",
       "      <td>1</td>\n",
       "      <td>26</td>\n",
       "      <td>7</td>\n",
       "      <td>0</td>\n",
       "      <td>0</td>\n",
       "      <td>0</td>\n",
       "      <td>2</td>\n",
       "      <td>0</td>\n",
       "      <td>0</td>\n",
       "      <td>0</td>\n",
       "      <td>5</td>\n",
       "      <td>1</td>\n",
       "      <td>606</td>\n",
       "      <td>3</td>\n",
       "      <td>0</td>\n",
       "    </tr>\n",
       "  </tbody>\n",
       "</table>\n",
       "</div>"
      ],
      "text/plain": [
       "     EmployeeID  TicketChannel  TicketGroup  ZendeskPlan  DayTicketSolved  \\\n",
       "924         688              1           26            7                0   \n",
       "925        1463              1           26            7                0   \n",
       "926        1463              1           26            7                0   \n",
       "927        1463              1           26            7                0   \n",
       "928        1463              1           26            7                0   \n",
       "\n",
       "     AssigneeTier  FirstReplyTime  FullResolutionTime  NumAgentComments  \\\n",
       "924             0               0               13309                 1   \n",
       "925             0               0                   4                 0   \n",
       "926             0               0                  35                 0   \n",
       "927             0               0                   0                 0   \n",
       "928             0               0                   2                 0   \n",
       "\n",
       "     NumPublicComments  TicketEscalated  WorkerLocation  Worker_Type  \\\n",
       "924                  0                0               5            1   \n",
       "925                  0                0               5            1   \n",
       "926                  0                0               5            1   \n",
       "927                  0                0               5            1   \n",
       "928                  0                0               5            1   \n",
       "\n",
       "     WorkerTenure  TicketCreatedMonth  HasResponded  \n",
       "924           962                   1             1  \n",
       "925           522                   1             0  \n",
       "926           522                   1             0  \n",
       "927           746                   8             0  \n",
       "928           606                   3             0  "
      ]
     },
     "execution_count": 553,
     "metadata": {},
     "output_type": "execute_result"
    }
   ],
   "source": [
    "from sklearn.preprocessing import LabelEncoder\n",
    "\n",
    "df_cat = list(df.select_dtypes(include=object))\n",
    "\n",
    "# process columns, apply LabelEncoder to categorical features\n",
    "for c in df_cat:\n",
    "    lbl = LabelEncoder() \n",
    "    lbl.fit(list(df[c].values)) \n",
    "    df[c] = lbl.transform(list(df[c].values))\n",
    "\n",
    "df.head()"
   ]
  },
  {
   "cell_type": "code",
   "execution_count": 554,
   "metadata": {},
   "outputs": [],
   "source": [
    "df['FullResolutionTime'] = np.log1p(df['FullResolutionTime'])\n",
    "df['FirstReplyTime'] = np.log1p(df['FirstReplyTime'])\n"
   ]
  },
  {
   "cell_type": "code",
   "execution_count": 555,
   "metadata": {},
   "outputs": [
    {
     "data": {
      "text/plain": [
       "HasResponded          1.000000\n",
       "FirstReplyTime        0.110874\n",
       "NumPublicComments     0.102774\n",
       "FullResolutionTime    0.076653\n",
       "TicketEscalated       0.048041\n",
       "NumAgentComments      0.039447\n",
       "DayTicketSolved       0.024282\n",
       "Worker_Type           0.018216\n",
       "EmployeeID            0.018010\n",
       "WorkerLocation        0.001617\n",
       "ZendeskPlan          -0.002272\n",
       "TicketCreatedMonth   -0.006962\n",
       "WorkerTenure         -0.020241\n",
       "TicketGroup          -0.025120\n",
       "TicketChannel        -0.032974\n",
       "AssigneeTier         -0.046261\n",
       "Name: HasResponded, dtype: float64"
      ]
     },
     "execution_count": 555,
     "metadata": {},
     "output_type": "execute_result"
    }
   ],
   "source": [
    "corr_matrix = df.corr()\n",
    "corr_matrix['HasResponded'].sort_values(ascending=False)"
   ]
  },
  {
   "cell_type": "code",
   "execution_count": 453,
   "metadata": {},
   "outputs": [
    {
     "data": {
      "text/plain": [
       "FullResolutionTime      1.000000\n",
       "NumPublicComments       0.506921\n",
       "NumAgentComments        0.459622\n",
       "TicketEscalated         0.373763\n",
       "TicketChannel           0.260109\n",
       "FirstReplyTime          0.141258\n",
       "AssigneeTier            0.113699\n",
       "WorkerLocation          0.053964\n",
       "WorkerTenure            0.051527\n",
       "CustomerSatisfaction    0.039248\n",
       "DayTicketSolved        -0.010984\n",
       "Worker_Type            -0.014857\n",
       "ZendeskPlan            -0.037085\n",
       "EmployeeID             -0.049360\n",
       "TicketGroup            -0.188790\n",
       "Name: FullResolutionTime, dtype: float64"
      ]
     },
     "execution_count": 453,
     "metadata": {},
     "output_type": "execute_result"
    }
   ],
   "source": [
    "corr_matrix['FullResolutionTime'].sort_values(ascending=False)"
   ]
  },
  {
   "cell_type": "code",
   "execution_count": 475,
   "metadata": {},
   "outputs": [],
   "source": [
    "included = ['NumPublicComments', 'NumAgentComments', 'TicketEscalated', 'TicketChannel', 'FirstReplyTime','TicketGroup', 'FullResolutionTime']\n",
    "\n",
    "df_new = df[included]"
   ]
  },
  {
   "cell_type": "code",
   "execution_count": 476,
   "metadata": {},
   "outputs": [
    {
     "data": {
      "text/html": [
       "<div>\n",
       "<style scoped>\n",
       "    .dataframe tbody tr th:only-of-type {\n",
       "        vertical-align: middle;\n",
       "    }\n",
       "\n",
       "    .dataframe tbody tr th {\n",
       "        vertical-align: top;\n",
       "    }\n",
       "\n",
       "    .dataframe thead th {\n",
       "        text-align: right;\n",
       "    }\n",
       "</style>\n",
       "<table border=\"1\" class=\"dataframe\">\n",
       "  <thead>\n",
       "    <tr style=\"text-align: right;\">\n",
       "      <th></th>\n",
       "      <th>NumPublicComments</th>\n",
       "      <th>NumAgentComments</th>\n",
       "      <th>TicketEscalated</th>\n",
       "      <th>TicketChannel</th>\n",
       "      <th>FirstReplyTime</th>\n",
       "      <th>TicketGroup</th>\n",
       "      <th>FullResolutionTime</th>\n",
       "    </tr>\n",
       "  </thead>\n",
       "  <tbody>\n",
       "    <tr>\n",
       "      <th>924</th>\n",
       "      <td>0</td>\n",
       "      <td>1</td>\n",
       "      <td>0</td>\n",
       "      <td>1</td>\n",
       "      <td>0</td>\n",
       "      <td>26</td>\n",
       "      <td>9.496271</td>\n",
       "    </tr>\n",
       "    <tr>\n",
       "      <th>925</th>\n",
       "      <td>0</td>\n",
       "      <td>0</td>\n",
       "      <td>0</td>\n",
       "      <td>1</td>\n",
       "      <td>0</td>\n",
       "      <td>26</td>\n",
       "      <td>1.609438</td>\n",
       "    </tr>\n",
       "    <tr>\n",
       "      <th>926</th>\n",
       "      <td>0</td>\n",
       "      <td>0</td>\n",
       "      <td>0</td>\n",
       "      <td>1</td>\n",
       "      <td>0</td>\n",
       "      <td>26</td>\n",
       "      <td>3.583519</td>\n",
       "    </tr>\n",
       "    <tr>\n",
       "      <th>927</th>\n",
       "      <td>0</td>\n",
       "      <td>0</td>\n",
       "      <td>0</td>\n",
       "      <td>1</td>\n",
       "      <td>0</td>\n",
       "      <td>26</td>\n",
       "      <td>0.0</td>\n",
       "    </tr>\n",
       "    <tr>\n",
       "      <th>928</th>\n",
       "      <td>0</td>\n",
       "      <td>0</td>\n",
       "      <td>0</td>\n",
       "      <td>1</td>\n",
       "      <td>0</td>\n",
       "      <td>26</td>\n",
       "      <td>1.098612</td>\n",
       "    </tr>\n",
       "  </tbody>\n",
       "</table>\n",
       "</div>"
      ],
      "text/plain": [
       "     NumPublicComments  NumAgentComments  TicketEscalated  TicketChannel  \\\n",
       "924                  0                 1                0              1   \n",
       "925                  0                 0                0              1   \n",
       "926                  0                 0                0              1   \n",
       "927                  0                 0                0              1   \n",
       "928                  0                 0                0              1   \n",
       "\n",
       "     FirstReplyTime  TicketGroup  FullResolutionTime  \n",
       "924               0           26            9.496271  \n",
       "925               0           26            1.609438  \n",
       "926               0           26            3.583519  \n",
       "927               0           26                 0.0  \n",
       "928               0           26            1.098612  "
      ]
     },
     "execution_count": 476,
     "metadata": {},
     "output_type": "execute_result"
    }
   ],
   "source": [
    "df_new.head()"
   ]
  },
  {
   "cell_type": "markdown",
   "metadata": {},
   "source": [
    "## Regression \n",
    "\n"
   ]
  },
  {
   "cell_type": "code",
   "execution_count": 456,
   "metadata": {},
   "outputs": [],
   "source": [
    "from sklearn.metrics import mean_squared_error,roc_auc_score, auc, roc_curve, r2_score\n",
    "from sklearn.pipeline import make_pipeline\n",
    "from sklearn.preprocessing import RobustScaler\n",
    "from sklearn.base import BaseEstimator, TransformerMixin, RegressorMixin, clone\n",
    "from sklearn.model_selection import KFold, cross_val_score, train_test_split\n",
    "from sklearn.ensemble import RandomForestRegressor\n",
    "import optuna\n",
    "\n",
    "cv = KFold(n_splits=4)"
   ]
  },
  {
   "cell_type": "code",
   "execution_count": 497,
   "metadata": {},
   "outputs": [],
   "source": [
    "df_model = df_new.copy()\n",
    "\n",
    "y = df_model.pop('FullResolutionTime')\n",
    "X = df_model\n",
    "X_train, X_test, y_train, y_test = train_test_split(X, y, test_size=0.2, random_state=0)"
   ]
  },
  {
   "cell_type": "markdown",
   "metadata": {},
   "source": [
    "### Linear Regression"
   ]
  },
  {
   "cell_type": "code",
   "execution_count": 498,
   "metadata": {},
   "outputs": [],
   "source": [
    "from sklearn.linear_model import LinearRegression, LassoCV\n",
    "\n",
    "model = LinearRegression()\n",
    "score = cross_val_score(\n",
    "     model, X_train, y_train, cv=cv, scoring=\"neg_root_mean_squared_error\"\n",
    "    ).mean()\n",
    "\n",
    "model.fit(X_train, y_train)\n",
    "y_pred = model.predict(X_test)"
   ]
  },
  {
   "cell_type": "code",
   "execution_count": 499,
   "metadata": {},
   "outputs": [
    {
     "data": {
      "text/plain": [
       "<matplotlib.collections.PathCollection at 0x1540c43d0>"
      ]
     },
     "execution_count": 499,
     "metadata": {},
     "output_type": "execute_result"
    },
    {
     "data": {
      "image/png": "[encoded data removed]",
      "text/plain": [
       "<Figure size 432x432 with 1 Axes>"
      ]
     },
     "metadata": {
      "needs_background": "dark"
     },
     "output_type": "display_data"
    }
   ],
   "source": [
    "plt.scatter(y_test, (y_pred))"
   ]
  },
  {
   "cell_type": "code",
   "execution_count": 500,
   "metadata": {},
   "outputs": [
    {
     "name": "stdout",
     "output_type": "stream",
     "text": [
      "MSE of rf on test set: 6.29\n",
      "R2 of rf on test set: 0.38\n"
     ]
    },
    {
     "data": {
      "text/plain": [
       "(array([1.0000e+00, 1.0000e+00, 3.0000e+00, 8.0000e+00, 1.4000e+01,\n",
       "        1.1200e+02, 1.4143e+04, 2.3377e+04, 1.0094e+04, 1.9600e+02]),\n",
       " array([-28.94426828076888, -25.03726622453837, -21.13026416830786,\n",
       "        -17.22326211207735, -13.31626005584684, -9.40925799961633,\n",
       "        -5.502255943385819, -1.5952538871553088, 2.3117481690752015,\n",
       "        6.218750225305712, 10.125752281536226], dtype=object),\n",
       " <BarContainer object of 10 artists>)"
      ]
     },
     "execution_count": 500,
     "metadata": {},
     "output_type": "execute_result"
    },
    {
     "data": {
      "image/png": "[encoded data removed]",
      "text/plain": [
       "<Figure size 432x432 with 1 Axes>"
      ]
     },
     "metadata": {
      "needs_background": "dark"
     },
     "output_type": "display_data"
    }
   ],
   "source": [
    "print('MSE of rf on test set: {:.2f}'.format(mean_squared_error(y_test, y_pred)))\n",
    "print('R2 of rf on test set: {:.2f}'.format(r2_score(y_test, y_pred)))\n",
    "plt.hist(y_test - y_pred)"
   ]
  },
  {
   "cell_type": "code",
   "execution_count": 501,
   "metadata": {},
   "outputs": [
    {
     "data": {
      "text/plain": [
       "<AxesSubplot:xlabel='preds', ylabel='residuals'>"
      ]
     },
     "execution_count": 501,
     "metadata": {},
     "output_type": "execute_result"
    },
    {
     "data": {
      "image/png": "[encoded data removed]",
      "text/plain": [
       "<Figure size 432x432 with 1 Axes>"
      ]
     },
     "metadata": {
      "needs_background": "dark"
     },
     "output_type": "display_data"
    }
   ],
   "source": [
    "#let's look at the residuals as well:\n",
    "plt.rcParams['figure.figsize'] = (6.0, 6.0)\n",
    "\n",
    "preds = pd.DataFrame({\"preds\": y_pred, \"true\": y_test})\n",
    "preds[\"residuals\"] = preds[\"true\"] - preds[\"preds\"]\n",
    "preds.plot(x = \"preds\", y = \"residuals\",kind = \"scatter\")"
   ]
  },
  {
   "cell_type": "markdown",
   "metadata": {},
   "source": [
    "### Lasso\n"
   ]
  },
  {
   "cell_type": "code",
   "execution_count": 481,
   "metadata": {},
   "outputs": [
    {
     "name": "stdout",
     "output_type": "stream",
     "text": [
      "-2.510805302818416\n"
     ]
    }
   ],
   "source": [
    "model = LassoCV(alphas = [1, 0.1, 0.001, 0.0005])\n",
    "score = cross_val_score(\n",
    "     model, X_train, y_train, cv=cv, scoring=\"neg_root_mean_squared_error\"\n",
    "    ).mean()\n",
    "print(score)\n",
    "\n",
    "model.fit(X_train.values, y_train.values)\n",
    "y_pred = model.predict(X_test)"
   ]
  },
  {
   "cell_type": "code",
   "execution_count": 482,
   "metadata": {},
   "outputs": [
    {
     "name": "stdout",
     "output_type": "stream",
     "text": [
      "RMSE of rf on test set: 6.29\n",
      "R2 of rf on test set: 0.38\n"
     ]
    },
    {
     "data": {
      "text/plain": [
       "(array([1.0000e+00, 1.0000e+00, 3.0000e+00, 7.0000e+00, 1.4000e+01,\n",
       "        1.1100e+02, 1.4102e+04, 2.3372e+04, 1.0141e+04, 1.9700e+02]),\n",
       " array([-28.9670582951032, -25.058655723554015, -21.15025315200483,\n",
       "        -17.241850580455647, -13.333448008906462, -9.425045437357277,\n",
       "        -5.516642865808095, -1.6082402942589091, 2.3001622772902763,\n",
       "        6.208564848839458, 10.116967420388647], dtype=object),\n",
       " <BarContainer object of 10 artists>)"
      ]
     },
     "execution_count": 482,
     "metadata": {},
     "output_type": "execute_result"
    },
    {
     "data": {
      "image/png": "[encoded data removed]",
      "text/plain": [
       "<Figure size 432x288 with 1 Axes>"
      ]
     },
     "metadata": {
      "needs_background": "dark"
     },
     "output_type": "display_data"
    }
   ],
   "source": [
    "print('RMSE of rf on test set: {:.2f}'.format(mean_squared_error(y_test, y_pred)))\n",
    "print('R2 of rf on test set: {:.2f}'.format(r2_score(y_test, y_pred)))\n",
    "plt.hist(y_test - y_pred)\n"
   ]
  },
  {
   "cell_type": "code",
   "execution_count": 472,
   "metadata": {},
   "outputs": [
    {
     "name": "stdout",
     "output_type": "stream",
     "text": [
      "Lasso picked 6 variables and eliminated the other 0 variables\n"
     ]
    }
   ],
   "source": [
    "coef = pd.Series(model.coef_, index = X_train.columns)\n",
    "print(\"Lasso picked \" + str(sum(coef != 0)) + \" variables and eliminated the other \" +  str(sum(coef == 0)) + \" variables\")\n"
   ]
  },
  {
   "cell_type": "code",
   "execution_count": 473,
   "metadata": {},
   "outputs": [],
   "source": [
    "imp_coef = pd.concat([coef.sort_values().head(10),\n",
    "                     coef.sort_values().tail(10)])"
   ]
  },
  {
   "cell_type": "code",
   "execution_count": 148,
   "metadata": {},
   "outputs": [
    {
     "data": {
      "text/plain": [
       "Text(0.5, 1.0, 'Coefficients in the Lasso Model')"
      ]
     },
     "execution_count": 148,
     "metadata": {},
     "output_type": "execute_result"
    },
    {
     "data": {
      "image/png": "[encoded data removed]",
      "text/plain": [
       "<Figure size 576x720 with 1 Axes>"
      ]
     },
     "metadata": {},
     "output_type": "display_data"
    }
   ],
   "source": [
    "plt.rcParams['figure.figsize'] = (8.0, 10.0)\n",
    "imp_coef.plot(kind = \"barh\")\n",
    "plt.title(\"Coefficients in the Lasso Model\")"
   ]
  },
  {
   "cell_type": "markdown",
   "metadata": {},
   "source": [
    "### Random Forest Regression"
   ]
  },
  {
   "cell_type": "code",
   "execution_count": 502,
   "metadata": {},
   "outputs": [
    {
     "name": "stdout",
     "output_type": "stream",
     "text": [
      "Best score:-1.728744159804675 \n",
      "Optimized parameters: {'n_estimators': 122, 'max_depth': 10, 'min_samples_split': 8, 'min_samples_leaf': 4, 'max_features': 27}\n"
     ]
    }
   ],
   "source": [
    "def objective(trial):\n",
    "    _n_estimators = trial.suggest_int(\"n_estimators\", 50, 200)\n",
    "    _max_depth = trial.suggest_int(\"max_depth\", 5, 12)\n",
    "    _min_samp_split = trial.suggest_int(\"min_samples_split\", 2, 8)\n",
    "    _min_samples_leaf = trial.suggest_int(\"min_samples_leaf\", 3, 6)\n",
    "    _max_features = trial.suggest_int(\"max_features\", 10, 50)\n",
    "\n",
    "    rf = RandomForestRegressor(\n",
    "     max_depth=_max_depth,\n",
    "     min_samples_split=_min_samp_split,\n",
    "     min_samples_leaf=_min_samples_leaf,\n",
    "     max_features=_max_features,\n",
    "     n_estimators=_n_estimators,\n",
    "     n_jobs=-1,\n",
    "     random_state=42,\n",
    "    )\n",
    "\n",
    "    score = cross_val_score(\n",
    "     rf, X_train, y_train, cv=cv, scoring=\"neg_root_mean_squared_error\"\n",
    "    ).mean()\n",
    "    return score\n",
    "\n",
    "\n",
    "optuna.logging.set_verbosity(0)\n",
    "\n",
    "study = optuna.create_study(direction=\"maximize\")\n",
    "study.optimize(objective, n_trials=10)\n",
    "\n",
    "rf_params = study.best_params\n",
    "rf_best_score = study.best_value\n",
    "print(f\"Best score:{rf_best_score} \\nOptimized parameters: {rf_params}\")"
   ]
  },
  {
   "cell_type": "code",
   "execution_count": 503,
   "metadata": {},
   "outputs": [],
   "source": [
    "rf_params = {\n",
    "    'max_depth': 10, \n",
    "    'min_samples_split': 8,\n",
    "    'min_samples_leaf': 4,\n",
    "    'max_features': 27,\n",
    "    \"n_estimators\": 122\n",
    "}"
   ]
  },
  {
   "cell_type": "code",
   "execution_count": 504,
   "metadata": {},
   "outputs": [],
   "source": [
    "rf = RandomForestRegressor(**rf_params)\n",
    "\n",
    "stack_scores = cross_val_score(\n",
    "    rf, X_train, y_train, cv=cv, scoring=\"neg_root_mean_squared_error\"\n",
    ")\n",
    "\n",
    "rf.fit(X_train.values, y_train.values)\n",
    "y_pred = rf.predict(X_test)"
   ]
  },
  {
   "cell_type": "code",
   "execution_count": 505,
   "metadata": {},
   "outputs": [
    {
     "data": {
      "text/plain": [
       "<matplotlib.collections.PathCollection at 0x14c59c190>"
      ]
     },
     "execution_count": 505,
     "metadata": {},
     "output_type": "execute_result"
    },
    {
     "data": {
      "image/png": "[encoded data removed]",
      "text/plain": [
       "<Figure size 432x432 with 1 Axes>"
      ]
     },
     "metadata": {
      "needs_background": "dark"
     },
     "output_type": "display_data"
    }
   ],
   "source": [
    "plt.scatter(y_test, (y_pred))"
   ]
  },
  {
   "cell_type": "code",
   "execution_count": 506,
   "metadata": {},
   "outputs": [
    {
     "name": "stdout",
     "output_type": "stream",
     "text": [
      "RMSE of rf on test set: 1.72\n",
      "R2 of rf on test set: 0.71\n"
     ]
    },
    {
     "data": {
      "text/plain": [
       "(array([4.0000e+00, 6.7000e+01, 1.0480e+03, 9.1360e+03, 2.3382e+04,\n",
       "        1.1444e+04, 2.1420e+03, 5.9600e+02, 1.1100e+02, 1.9000e+01]),\n",
       " array([-8.978431524700262, -7.036928441476287, -5.095425358252312,\n",
       "        -3.1539222750283376, -1.2124191918043623, 0.7290838914196129,\n",
       "        2.6705869746435873, 4.612090057867563, 6.553593141091538,\n",
       "        8.495096224315514, 10.43659930753949], dtype=object),\n",
       " <BarContainer object of 10 artists>)"
      ]
     },
     "execution_count": 506,
     "metadata": {},
     "output_type": "execute_result"
    },
    {
     "data": {
      "image/png": "[encoded data removed]",
      "text/plain": [
       "<Figure size 432x432 with 1 Axes>"
      ]
     },
     "metadata": {
      "needs_background": "dark"
     },
     "output_type": "display_data"
    }
   ],
   "source": [
    "print('RMSE of rf on test set: {:.2f}'.format(np.sqrt(mean_squared_error(y_test, y_pred))))\n",
    "print('R2 of rf on test set: {:.2f}'.format(r2_score(y_test, y_pred)))\n",
    "plt.hist(y_test - y_pred) "
   ]
  },
  {
   "cell_type": "code",
   "execution_count": 507,
   "metadata": {},
   "outputs": [
    {
     "data": {
      "text/plain": [
       "<AxesSubplot:xlabel='preds', ylabel='residuals'>"
      ]
     },
     "execution_count": 507,
     "metadata": {},
     "output_type": "execute_result"
    },
    {
     "data": {
      "image/png": "[encoded data removed]",
      "text/plain": [
       "<Figure size 432x432 with 1 Axes>"
      ]
     },
     "metadata": {
      "needs_background": "dark"
     },
     "output_type": "display_data"
    }
   ],
   "source": [
    "#let's look at the residuals as well:\n",
    "plt.rcParams['figure.figsize'] = (6.0, 6.0)\n",
    "\n",
    "preds = pd.DataFrame({\"preds\": y_pred, \"true\": y_test})\n",
    "preds[\"residuals\"] = preds[\"true\"] - preds[\"preds\"]\n",
    "preds.plot(x = \"preds\", y = \"residuals\",kind = \"scatter\")"
   ]
  },
  {
   "cell_type": "markdown",
   "metadata": {},
   "source": [
    "## Classification"
   ]
  },
  {
   "cell_type": "code",
   "execution_count": 531,
   "metadata": {},
   "outputs": [
    {
     "data": {
      "text/html": [
       "<div>\n",
       "<style scoped>\n",
       "    .dataframe tbody tr th:only-of-type {\n",
       "        vertical-align: middle;\n",
       "    }\n",
       "\n",
       "    .dataframe tbody tr th {\n",
       "        vertical-align: top;\n",
       "    }\n",
       "\n",
       "    .dataframe thead th {\n",
       "        text-align: right;\n",
       "    }\n",
       "</style>\n",
       "<table border=\"1\" class=\"dataframe\">\n",
       "  <thead>\n",
       "    <tr style=\"text-align: right;\">\n",
       "      <th></th>\n",
       "      <th>EmployeeID</th>\n",
       "      <th>TicketChannel</th>\n",
       "      <th>TicketGroup</th>\n",
       "      <th>ZendeskPlan</th>\n",
       "      <th>DayTicketSolved</th>\n",
       "      <th>AssigneeTier</th>\n",
       "      <th>FirstReplyTime</th>\n",
       "      <th>FullResolutionTime</th>\n",
       "      <th>NumAgentComments</th>\n",
       "      <th>NumPublicComments</th>\n",
       "      <th>TicketEscalated</th>\n",
       "      <th>WorkerLocation</th>\n",
       "      <th>Worker_Type</th>\n",
       "      <th>WorkerTenure</th>\n",
       "      <th>TicketCreatedMonth</th>\n",
       "      <th>HasResponded</th>\n",
       "    </tr>\n",
       "  </thead>\n",
       "  <tbody>\n",
       "    <tr>\n",
       "      <th>924</th>\n",
       "      <td>688</td>\n",
       "      <td>1</td>\n",
       "      <td>26</td>\n",
       "      <td>7</td>\n",
       "      <td>0</td>\n",
       "      <td>0</td>\n",
       "      <td>0</td>\n",
       "      <td>13309</td>\n",
       "      <td>1</td>\n",
       "      <td>0</td>\n",
       "      <td>0</td>\n",
       "      <td>5</td>\n",
       "      <td>1</td>\n",
       "      <td>962</td>\n",
       "      <td>1</td>\n",
       "      <td>1</td>\n",
       "    </tr>\n",
       "    <tr>\n",
       "      <th>925</th>\n",
       "      <td>1463</td>\n",
       "      <td>1</td>\n",
       "      <td>26</td>\n",
       "      <td>7</td>\n",
       "      <td>0</td>\n",
       "      <td>0</td>\n",
       "      <td>0</td>\n",
       "      <td>4</td>\n",
       "      <td>0</td>\n",
       "      <td>0</td>\n",
       "      <td>0</td>\n",
       "      <td>5</td>\n",
       "      <td>1</td>\n",
       "      <td>522</td>\n",
       "      <td>1</td>\n",
       "      <td>0</td>\n",
       "    </tr>\n",
       "    <tr>\n",
       "      <th>926</th>\n",
       "      <td>1463</td>\n",
       "      <td>1</td>\n",
       "      <td>26</td>\n",
       "      <td>7</td>\n",
       "      <td>0</td>\n",
       "      <td>0</td>\n",
       "      <td>0</td>\n",
       "      <td>35</td>\n",
       "      <td>0</td>\n",
       "      <td>0</td>\n",
       "      <td>0</td>\n",
       "      <td>5</td>\n",
       "      <td>1</td>\n",
       "      <td>522</td>\n",
       "      <td>1</td>\n",
       "      <td>0</td>\n",
       "    </tr>\n",
       "    <tr>\n",
       "      <th>927</th>\n",
       "      <td>1463</td>\n",
       "      <td>1</td>\n",
       "      <td>26</td>\n",
       "      <td>7</td>\n",
       "      <td>0</td>\n",
       "      <td>0</td>\n",
       "      <td>0</td>\n",
       "      <td>0</td>\n",
       "      <td>0</td>\n",
       "      <td>0</td>\n",
       "      <td>0</td>\n",
       "      <td>5</td>\n",
       "      <td>1</td>\n",
       "      <td>746</td>\n",
       "      <td>8</td>\n",
       "      <td>0</td>\n",
       "    </tr>\n",
       "    <tr>\n",
       "      <th>928</th>\n",
       "      <td>1463</td>\n",
       "      <td>1</td>\n",
       "      <td>26</td>\n",
       "      <td>7</td>\n",
       "      <td>0</td>\n",
       "      <td>0</td>\n",
       "      <td>0</td>\n",
       "      <td>2</td>\n",
       "      <td>0</td>\n",
       "      <td>0</td>\n",
       "      <td>0</td>\n",
       "      <td>5</td>\n",
       "      <td>1</td>\n",
       "      <td>606</td>\n",
       "      <td>3</td>\n",
       "      <td>0</td>\n",
       "    </tr>\n",
       "  </tbody>\n",
       "</table>\n",
       "</div>"
      ],
      "text/plain": [
       "     EmployeeID  TicketChannel  TicketGroup  ZendeskPlan  DayTicketSolved  \\\n",
       "924         688              1           26            7                0   \n",
       "925        1463              1           26            7                0   \n",
       "926        1463              1           26            7                0   \n",
       "927        1463              1           26            7                0   \n",
       "928        1463              1           26            7                0   \n",
       "\n",
       "     AssigneeTier  FirstReplyTime  FullResolutionTime  NumAgentComments  \\\n",
       "924             0               0               13309                 1   \n",
       "925             0               0                   4                 0   \n",
       "926             0               0                  35                 0   \n",
       "927             0               0                   0                 0   \n",
       "928             0               0                   2                 0   \n",
       "\n",
       "     NumPublicComments  TicketEscalated  WorkerLocation  Worker_Type  \\\n",
       "924                  0                0               5            1   \n",
       "925                  0                0               5            1   \n",
       "926                  0                0               5            1   \n",
       "927                  0                0               5            1   \n",
       "928                  0                0               5            1   \n",
       "\n",
       "     WorkerTenure  TicketCreatedMonth  HasResponded  \n",
       "924           962                   1             1  \n",
       "925           522                   1             0  \n",
       "926           522                   1             0  \n",
       "927           746                   8             0  \n",
       "928           606                   3             0  "
      ]
     },
     "execution_count": 531,
     "metadata": {},
     "output_type": "execute_result"
    }
   ],
   "source": [
    "df.head()"
   ]
  },
  {
   "cell_type": "code",
   "execution_count": 532,
   "metadata": {},
   "outputs": [],
   "source": [
    "from sklearn.metrics import mean_squared_error\n",
    "\n",
    "from sklearn.linear_model import LogisticRegression\n",
    "from sklearn.svm import LinearSVC\n",
    "from sklearn.ensemble import RandomForestClassifier\n",
    "\n",
    "from sklearn.pipeline import make_pipeline\n",
    "from sklearn.preprocessing import StandardScaler\n",
    "from sklearn.ensemble import StackingClassifier\n",
    "from sklearn.base import BaseEstimator, TransformerMixin, RegressorMixin, clone\n",
    "from sklearn.model_selection import KFold, cross_val_score, train_test_split\n",
    "from sklearn.metrics import roc_auc_score, auc, roc_curve, precision_score, recall_score, f1_score, accuracy_score, confusion_matrix\n",
    "import optuna\n",
    "\n",
    "cv = KFold(n_splits=4)"
   ]
  },
  {
   "cell_type": "code",
   "execution_count": 533,
   "metadata": {},
   "outputs": [],
   "source": [
    "df_model = df.copy()\n",
    "\n",
    "y = df_model.pop('HasResponded')\n",
    "X = df_model\n",
    "X_train, X_test, y_train, y_test = train_test_split(X, y, test_size=0.2, random_state=0)"
   ]
  },
  {
   "cell_type": "code",
   "execution_count": 534,
   "metadata": {},
   "outputs": [
    {
     "name": "stdout",
     "output_type": "stream",
     "text": [
      "Counter({0: 155283, 1: 36509})\n"
     ]
    }
   ],
   "source": [
    "from collections import Counter\n",
    "print(Counter(y_train))"
   ]
  },
  {
   "cell_type": "code",
   "execution_count": 535,
   "metadata": {},
   "outputs": [],
   "source": [
    "def baseline(train, test, target, model): \n",
    "    cv = KFold(n_splits=5)\n",
    "    \n",
    "    # Data Normalization\n",
    "    sc = StandardScaler()\n",
    "    train = sc.fit_transform(train)\n",
    "    test = sc.transform(test)\n",
    "\n",
    "    score = cross_val_score(model, train, target, cv=cv, scoring=\"roc_auc\")\n",
    "    print('%.3f' % score.mean())\n",
    "\n",
    "    model.fit(train, target)\n",
    "    predictions = model.predict(test)\n",
    "\n",
    "    return predictions"
   ]
  },
  {
   "cell_type": "code",
   "execution_count": 536,
   "metadata": {},
   "outputs": [
    {
     "name": "stdout",
     "output_type": "stream",
     "text": [
      "0.636\n",
      "[[20453 18451]\n",
      " [ 2955  6090]]\n",
      "Precision: 0.248\n",
      "Recall: 0.673\n",
      "F1: 0.363\n",
      "Accuracy: 0.554\n"
     ]
    }
   ],
   "source": [
    "lr = LogisticRegression(penalty='l2', class_weight='balanced')\n",
    "y_pred = baseline(X_train, X_test, y_train, lr)\n",
    "\n",
    "#Get the confusion matrix\n",
    "cf_matrix = confusion_matrix(y_test, y_pred)\n",
    "print(cf_matrix)\n",
    "\n",
    "print('Precision: %.3f' % precision_score(y_test, y_pred))\n",
    "print('Recall: %.3f' % recall_score(y_test, y_pred))\n",
    "print('F1: %.3f' % f1_score(y_test, y_pred))\n",
    "print('Accuracy: %.3f' % accuracy_score(y_test, y_pred))"
   ]
  },
  {
   "cell_type": "code",
   "execution_count": 410,
   "metadata": {},
   "outputs": [
    {
     "name": "stdout",
     "output_type": "stream",
     "text": [
      "0.663\n",
      "[[36379  2525]\n",
      " [ 7795  1250]]\n",
      "Precision: 0.331\n",
      "Recall: 0.138\n",
      "F1: 0.195\n",
      "Accuracy: 0.785\n"
     ]
    }
   ],
   "source": [
    "rf = RandomForestClassifier()\n",
    "y_pred = baseline(X_train, X_test, y_train, rf)\n",
    "\n",
    "#Get the confusion matrix\n",
    "cf_matrix = confusion_matrix(y_test, y_pred)\n",
    "print(cf_matrix)\n",
    "\n",
    "print('Precision: %.3f' % precision_score(y_test, y_pred))\n",
    "print('Recall: %.3f' % recall_score(y_test, y_pred))\n",
    "print('F1: %.3f' % f1_score(y_test, y_pred))\n",
    "print('Accuracy: %.3f' % accuracy_score(y_test, y_pred))"
   ]
  },
  {
   "cell_type": "markdown",
   "metadata": {},
   "source": [
    "## Improvements"
   ]
  },
  {
   "cell_type": "code",
   "execution_count": null,
   "metadata": {},
   "outputs": [],
   "source": [
    "\n",
    "df[\"FullResolutionTime\"] = df[\"FullResolutionTime\"].apply(lambda x: x / 1440)\n",
    "df[\"FullResolutionTime\"] = pd.cut(x=df[\"FullResolutionTime\"], bins=[-0.1,1/96,1/12,5, np.inf], labels=[\"<15 min\",\"<2 hours\",\"5 Days\", \">5Days\"])\n",
    "\n",
    "df[\"FirstReplyTime\"] = df[\"FirstReplyTime\"].apply(lambda x: x / 1440)\n",
    "df[\"FirstReplyTime\"] = pd.cut(x=df[\"FirstReplyTime\"], bins=[-1.1,0,1/24,1/6,5, np.inf], labels=[\"missing\",\"<15 min\",\"<1 hour\",\"<4 hours\", \">4 hours\"])"
   ]
  }
 ],
 "metadata": {
  "kernelspec": {
   "display_name": "Python 3.10.2 64-bit",
   "language": "python",
   "name": "python3"
  },
  "language_info": {
   "codemirror_mode": {
    "name": "ipython",
    "version": 3
   },
   "file_extension": ".py",
   "mimetype": "text/x-python",
   "name": "python",
   "nbconvert_exporter": "python",
   "pygments_lexer": "ipython3",
   "version": "3.10.2"
  },
  "orig_nbformat": 4,
  "vscode": {
   "interpreter": {
    "hash": "aee8b7b246df8f9039afb4144a1f6fd8d2ca17a180786b69acc140d282b71a49"
   }
  }
 },
 "nbformat": 4,
 "nbformat_minor": 2
}
